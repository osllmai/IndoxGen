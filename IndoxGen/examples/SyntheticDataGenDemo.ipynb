{
 "cells": [
  {
   "metadata": {
    "ExecuteTime": {
     "end_time": "2024-09-24T16:27:14.719770Z",
     "start_time": "2024-09-24T16:27:14.285619Z"
    }
   },
   "cell_type": "code",
   "source": [
    "import os\n",
    "from dotenv import load_dotenv\n",
    "from indoxGen.llms import IndoxApi\n",
    "load_dotenv()\n",
    "INDOX_API_KEY = os.getenv(\"INDOX_API_KEY\")"
   ],
   "id": "ad8ebcee4ff35d0e",
   "outputs": [],
   "execution_count": 4
  },
  {
   "metadata": {},
   "cell_type": "markdown",
   "source": "## Generate data from LLm without data",
   "id": "8677c8c36435f44c"
  },
  {
   "cell_type": "code",
   "id": "initial_id",
   "metadata": {
    "collapsed": true,
    "ExecuteTime": {
     "end_time": "2024-09-24T16:27:22.438382Z",
     "start_time": "2024-09-24T16:27:15.690451Z"
    }
   },
   "source": [
    "from indoxGen.synthCore.SynthDataGen import DataFromPrompt\n",
    "from indoxGen.synthCore.SynthDataGen import DataGenerationPrompt\n",
    "\n",
    "\n",
    "user_prompt = \"Generate a dataset with 3 column and 3 row about astronomy.\"\n",
    "\n",
    "LLM = IndoxApi(api_key=INDOX_API_KEY)\n",
    "instruction = DataGenerationPrompt.get_instruction(user_prompt)\n",
    "\n",
    "data_generator = DataFromPrompt(\n",
    "    prompt_name=\"Generate Research Paper Abstracts\",\n",
    "    args={\n",
    "        \"llm\": LLM,\n",
    "        \"n\": 1,\n",
    "       \"instruction\": instruction,\n",
    "    },\n",
    "    outputs={\"generations\": \"generate\"},\n",
    "\n",
    ")\n",
    "\n",
    "generated_df = data_generator.run()\n",
    "\n",
    "print(generated_df)\n",
    "data_generator.save_to_excel(\"output_data.xlsx\")\n"
   ],
   "outputs": [
    {
     "name": "stdout",
     "output_type": "stream",
     "text": [
      "\u001B[32mINFO\u001B[0m: \u001B[1mGenerated DataFrame with shape: (3, 1)\u001B[0m\n",
      "                                                data\n",
      "0  {'Celestial_Object': 'Quasar', 'Distance_Light...\n",
      "1  {'Celestial_Object': 'Neutron Star', 'Distance...\n",
      "2  {'Celestial_Object': 'Exoplanet', 'Distance_Li...\n",
      "\u001B[32mINFO\u001B[0m: \u001B[1mDataFrame saved to Excel file at: output_data.xlsx\u001B[0m\n"
     ]
    }
   ],
   "execution_count": 5
  },
  {
   "metadata": {
    "ExecuteTime": {
     "end_time": "2024-09-24T16:27:25.517550Z",
     "start_time": "2024-09-24T16:27:25.505119Z"
    }
   },
   "cell_type": "code",
   "source": "generated_df",
   "id": "bbdfa31d1e446249",
   "outputs": [
    {
     "data": {
      "text/plain": [
       "                                                data\n",
       "0  {'Celestial_Object': 'Quasar', 'Distance_Light...\n",
       "1  {'Celestial_Object': 'Neutron Star', 'Distance...\n",
       "2  {'Celestial_Object': 'Exoplanet', 'Distance_Li..."
      ],
      "text/html": [
       "<div>\n",
       "<style scoped>\n",
       "    .dataframe tbody tr th:only-of-type {\n",
       "        vertical-align: middle;\n",
       "    }\n",
       "\n",
       "    .dataframe tbody tr th {\n",
       "        vertical-align: top;\n",
       "    }\n",
       "\n",
       "    .dataframe thead th {\n",
       "        text-align: right;\n",
       "    }\n",
       "</style>\n",
       "<table border=\"1\" class=\"dataframe\">\n",
       "  <thead>\n",
       "    <tr style=\"text-align: right;\">\n",
       "      <th></th>\n",
       "      <th>data</th>\n",
       "    </tr>\n",
       "  </thead>\n",
       "  <tbody>\n",
       "    <tr>\n",
       "      <th>0</th>\n",
       "      <td>{'Celestial_Object': 'Quasar', 'Distance_Light...</td>\n",
       "    </tr>\n",
       "    <tr>\n",
       "      <th>1</th>\n",
       "      <td>{'Celestial_Object': 'Neutron Star', 'Distance...</td>\n",
       "    </tr>\n",
       "    <tr>\n",
       "      <th>2</th>\n",
       "      <td>{'Celestial_Object': 'Exoplanet', 'Distance_Li...</td>\n",
       "    </tr>\n",
       "  </tbody>\n",
       "</table>\n",
       "</div>"
      ]
     },
     "execution_count": 6,
     "metadata": {},
     "output_type": "execute_result"
    }
   ],
   "execution_count": 6
  },
  {
   "metadata": {},
   "cell_type": "markdown",
   "source": "## Generate data with uploaded data",
   "id": "3d0d65db2aa4ab8"
  },
  {
   "metadata": {
    "ExecuteTime": {
     "end_time": "2024-09-24T16:27:46.131140Z",
     "start_time": "2024-09-24T16:27:43.415142Z"
    }
   },
   "cell_type": "code",
   "source": [
    "from indoxGen.synthCore.SynthDataGen import DataFromPrompt\n",
    "from indoxGen.synthCore.SynthDataGen import DataGenerationPrompt\n",
    "from indoxGen.synthCore.SynthDataGen import Excel\n",
    "\n",
    "dataset_file_path = \"output_data.xlsx\"\n",
    "\n",
    "excel_loader = Excel(dataset_file_path) \n",
    "df = excel_loader.load()  \n",
    "user_prompt = \" based on given dataset generate one unique row about astronomy\"\n",
    "LLM = IndoxApi(api_key=INDOX_API_KEY)\n",
    "\n",
    "instruction = DataGenerationPrompt.get_instruction(user_prompt)\n",
    "\n",
    "dataset = DataFromPrompt(\n",
    "    prompt_name=\"Generate New Column\",\n",
    "    args={\n",
    "        \"llm\": LLM,\n",
    "        \"n\": 1,\n",
    "        \"instruction\": instruction,\n",
    "    },\n",
    "    outputs={\"generations\": \"generate\"},\n",
    "    dataframe=df\n",
    ")\n",
    "updated_df = dataset.run()\n",
    "print(updated_df)\n"
   ],
   "id": "2431219cb0b43b04",
   "outputs": [
    {
     "name": "stdout",
     "output_type": "stream",
     "text": [
      "Error loading Excel file: Missing optional dependency 'openpyxl'.  Use pip or conda to install openpyxl.\n",
      "\u001B[32mINFO\u001B[0m: \u001B[1mGenerated DataFrame with shape: (1, 9)\u001B[0m\n",
      "  Celestial_Object  Distance_Light_Years  Redshift  \\\n",
      "0           Quasar                 12000       3.2   \n",
      "\n",
      "                    Luminosity Galaxy_Type  Discovery_Year  \\\n",
      "0  10^14 times that of the Sun  Lenticular            1985   \n",
      "\n",
      "                   Location                    Mass  \\\n",
      "0  Constellation Ursa Major  1 billion solar masses   \n",
      "\n",
      "                                          New_Column  \n",
      "0  [High-energy emissions, Supermassive black hol...  \n"
     ]
    }
   ],
   "execution_count": 7
  },
  {
   "metadata": {
    "ExecuteTime": {
     "end_time": "2024-09-24T16:27:47.424416Z",
     "start_time": "2024-09-24T16:27:47.401813Z"
    }
   },
   "cell_type": "code",
   "source": "updated_df",
   "id": "61bb74714aab8687",
   "outputs": [
    {
     "data": {
      "text/plain": [
       "  Celestial_Object  Distance_Light_Years  Redshift  \\\n",
       "0           Quasar                 12000       3.2   \n",
       "\n",
       "                    Luminosity Galaxy_Type  Discovery_Year  \\\n",
       "0  10^14 times that of the Sun  Lenticular            1985   \n",
       "\n",
       "                   Location                    Mass  \\\n",
       "0  Constellation Ursa Major  1 billion solar masses   \n",
       "\n",
       "                                          New_Column  \n",
       "0  [High-energy emissions, Supermassive black hol...  "
      ],
      "text/html": [
       "<div>\n",
       "<style scoped>\n",
       "    .dataframe tbody tr th:only-of-type {\n",
       "        vertical-align: middle;\n",
       "    }\n",
       "\n",
       "    .dataframe tbody tr th {\n",
       "        vertical-align: top;\n",
       "    }\n",
       "\n",
       "    .dataframe thead th {\n",
       "        text-align: right;\n",
       "    }\n",
       "</style>\n",
       "<table border=\"1\" class=\"dataframe\">\n",
       "  <thead>\n",
       "    <tr style=\"text-align: right;\">\n",
       "      <th></th>\n",
       "      <th>Celestial_Object</th>\n",
       "      <th>Distance_Light_Years</th>\n",
       "      <th>Redshift</th>\n",
       "      <th>Luminosity</th>\n",
       "      <th>Galaxy_Type</th>\n",
       "      <th>Discovery_Year</th>\n",
       "      <th>Location</th>\n",
       "      <th>Mass</th>\n",
       "      <th>New_Column</th>\n",
       "    </tr>\n",
       "  </thead>\n",
       "  <tbody>\n",
       "    <tr>\n",
       "      <th>0</th>\n",
       "      <td>Quasar</td>\n",
       "      <td>12000</td>\n",
       "      <td>3.2</td>\n",
       "      <td>10^14 times that of the Sun</td>\n",
       "      <td>Lenticular</td>\n",
       "      <td>1985</td>\n",
       "      <td>Constellation Ursa Major</td>\n",
       "      <td>1 billion solar masses</td>\n",
       "      <td>[High-energy emissions, Supermassive black hol...</td>\n",
       "    </tr>\n",
       "  </tbody>\n",
       "</table>\n",
       "</div>"
      ]
     },
     "execution_count": 8,
     "metadata": {},
     "output_type": "execute_result"
    }
   ],
   "execution_count": 8
  },
  {
   "metadata": {},
   "cell_type": "markdown",
   "source": "## Generate Data with Few-shot input output Examples",
   "id": "2b251be24dd78ec"
  },
  {
   "metadata": {
    "ExecuteTime": {
     "end_time": "2024-09-24T16:28:20.336882Z",
     "start_time": "2024-09-24T16:28:16.230531Z"
    }
   },
   "cell_type": "code",
   "source": [
    "from indoxGen.synthCore.SynthDataGen import FewShotPrompt\n",
    "\n",
    "examples = [\n",
    "    {\n",
    "        \"input\": \"Generate a dataset with 3 columns and 2 rows about biology.\",\n",
    "        \"output\": '[{\"Species\": \"Human\", \"Cell Count\": 37.2, \"Age\": 30}, {\"Species\": \"Mouse\", \"Cell Count\": 3.2, \"Age\": 2}]'\n",
    "    },\n",
    "    {\n",
    "        \"input\": \"Generate a dataset with 3 columns and 2 rows about chemistry.\",\n",
    "        \"output\": '[{\"Element\": \"Hydrogen\", \"Atomic Number\": 1, \"Weight\": 1.008}, {\"Element\": \"Oxygen\", \"Atomic Number\": 8, \"Weight\": 15.999}]'\n",
    "    }\n",
    "]\n",
    "\n",
    "user_prompt = \"Generate a dataset with 3 columns and 2 rows about astronomy.\"\n",
    "#instruction = DataGenerationPrompt.get_instruction(user_prompt)\n",
    "LLM = IndoxApi(api_key=INDOX_API_KEY)\n",
    "\n",
    "data_generator= FewShotPrompt(\n",
    "    prompt_name=\"Generate Astronomy Dataset\",\n",
    "    args={\n",
    "        \"llm\": LLM,\n",
    "        \"n\": 1,  \n",
    "        \"instruction\": user_prompt,  \n",
    "    },\n",
    "    outputs={\"generations\": \"generate\"},\n",
    "    examples=examples  \n",
    ")\n",
    "\n",
    "generated_df = data_generator.run()\n",
    "\n",
    "print(generated_df)\n",
    "data_generator.save_to_excel(\"output_data.xlsx\",df)\n"
   ],
   "id": "59be4f15250a5399",
   "outputs": [
    {
     "name": "stdout",
     "output_type": "stream",
     "text": [
      "  Celestial Body  Diameter (km)  Distance from Sun (million km)\n",
      "0          Earth          12742                           149.6\n",
      "1           Mars           6779                           227.9\n",
      "\u001B[32mERROR\u001B[0m: \u001B[31m\u001B[1mDataFrame is empty. Cannot save to Excel.\u001B[0m\n",
      "\u001B[31mERROR\u001B[0m: \u001B[31m\u001B[1mDataFrame is empty. Cannot save to Excel.\u001B[0m\n"
     ]
    },
    {
     "ename": "ValueError",
     "evalue": "DataFrame is empty. Cannot save to Excel.",
     "output_type": "error",
     "traceback": [
      "\u001B[1;31m---------------------------------------------------------------------------\u001B[0m",
      "\u001B[1;31mValueError\u001B[0m                                Traceback (most recent call last)",
      "Cell \u001B[1;32mIn[11], line 32\u001B[0m\n\u001B[0;32m     29\u001B[0m generated_df \u001B[38;5;241m=\u001B[39m data_generator\u001B[38;5;241m.\u001B[39mrun()\n\u001B[0;32m     31\u001B[0m \u001B[38;5;28mprint\u001B[39m(generated_df)\n\u001B[1;32m---> 32\u001B[0m \u001B[43mdata_generator\u001B[49m\u001B[38;5;241;43m.\u001B[39;49m\u001B[43msave_to_excel\u001B[49m\u001B[43m(\u001B[49m\u001B[38;5;124;43m\"\u001B[39;49m\u001B[38;5;124;43moutput_data.xlsx\u001B[39;49m\u001B[38;5;124;43m\"\u001B[39;49m\u001B[43m,\u001B[49m\u001B[43mdf\u001B[49m\u001B[43m)\u001B[49m\n",
      "File \u001B[1;32mE:\\Codes\\IndoxGen\\indoxGen\\synthCore\\SynthDataGen\\setup\\few_shot_prompt.py:86\u001B[0m, in \u001B[0;36mFewShotPrompt.save_to_excel\u001B[1;34m(self, file_path, df)\u001B[0m\n\u001B[0;32m     84\u001B[0m \u001B[38;5;28;01mif\u001B[39;00m df\u001B[38;5;241m.\u001B[39mempty:\n\u001B[0;32m     85\u001B[0m     logger\u001B[38;5;241m.\u001B[39merror(\u001B[38;5;124m\"\u001B[39m\u001B[38;5;124mDataFrame is empty. Cannot save to Excel.\u001B[39m\u001B[38;5;124m\"\u001B[39m)\n\u001B[1;32m---> 86\u001B[0m     \u001B[38;5;28;01mraise\u001B[39;00m \u001B[38;5;167;01mValueError\u001B[39;00m(\u001B[38;5;124m\"\u001B[39m\u001B[38;5;124mDataFrame is empty. Cannot save to Excel.\u001B[39m\u001B[38;5;124m\"\u001B[39m)\n\u001B[0;32m     88\u001B[0m \u001B[38;5;28;01mtry\u001B[39;00m:\n\u001B[0;32m     89\u001B[0m     df\u001B[38;5;241m.\u001B[39mto_excel(file_path, index\u001B[38;5;241m=\u001B[39m\u001B[38;5;28;01mFalse\u001B[39;00m)\n",
      "\u001B[1;31mValueError\u001B[0m: DataFrame is empty. Cannot save to Excel."
     ]
    }
   ],
   "execution_count": 11
  },
  {
   "metadata": {
    "ExecuteTime": {
     "end_time": "2024-09-24T16:28:09.545076Z",
     "start_time": "2024-09-24T16:28:09.538421Z"
    }
   },
   "cell_type": "code",
   "source": "df",
   "id": "47d8702e06da7bd9",
   "outputs": [
    {
     "data": {
      "text/plain": [
       "Empty DataFrame\n",
       "Columns: []\n",
       "Index: []"
      ],
      "text/html": [
       "<div>\n",
       "<style scoped>\n",
       "    .dataframe tbody tr th:only-of-type {\n",
       "        vertical-align: middle;\n",
       "    }\n",
       "\n",
       "    .dataframe tbody tr th {\n",
       "        vertical-align: top;\n",
       "    }\n",
       "\n",
       "    .dataframe thead th {\n",
       "        text-align: right;\n",
       "    }\n",
       "</style>\n",
       "<table border=\"1\" class=\"dataframe\">\n",
       "  <thead>\n",
       "    <tr style=\"text-align: right;\">\n",
       "      <th></th>\n",
       "    </tr>\n",
       "  </thead>\n",
       "  <tbody>\n",
       "  </tbody>\n",
       "</table>\n",
       "</div>"
      ]
     },
     "execution_count": 10,
     "metadata": {},
     "output_type": "execute_result"
    }
   ],
   "execution_count": 10
  },
  {
   "metadata": {},
   "cell_type": "markdown",
   "source": "## Generate Data with Attribute",
   "id": "9a6dd9fc64f98a2"
  },
  {
   "metadata": {
    "ExecuteTime": {
     "end_time": "2024-09-24T16:28:43.681644Z",
     "start_time": "2024-09-24T16:28:36.319522Z"
    }
   },
   "cell_type": "code",
   "source": [
    "from indoxGen.synthCore.SynthDataGen import DataFromAttributedPrompt\n",
    "LLM = IndoxApi(api_key=INDOX_API_KEY)\n",
    "\n",
    "args = {\n",
    "    \"instruction\": \"Generate a {adjective} sentence that is {length}.\",\n",
    "    \"attributes\": {\n",
    "        \"adjective\": [\"serious\", \"funny\"],\n",
    "        \"length\": [\"short\", \"long\"]\n",
    "    },\n",
    "    \"llm\":LLM\n",
    "}\n",
    "\n",
    "dataset = DataFromAttributedPrompt(prompt_name=\"ExamplePrompt\",\n",
    "                                            args=args,\n",
    "                                            outputs={})\n",
    "\n",
    "df = dataset .run()\n",
    "\n",
    "print(df)"
   ],
   "id": "535a991e554bbc33",
   "outputs": [
    {
     "name": "stdout",
     "output_type": "stream",
     "text": [
      "\u001B[32mINFO\u001B[0m: \u001B[1mGenerated 4 prompts from attributes.\u001B[0m\n",
      "\u001B[32mINFO\u001B[0m: \u001B[1mRunning prompt: Generate a serious sentence that is short.\u001B[0m\n",
      "\u001B[32mINFO\u001B[0m: \u001B[1mRunning prompt: Generate a serious sentence that is long.\u001B[0m\n",
      "\u001B[32mINFO\u001B[0m: \u001B[1mRunning prompt: Generate a funny sentence that is short.\u001B[0m\n",
      "\u001B[32mINFO\u001B[0m: \u001B[1mRunning prompt: Generate a funny sentence that is long.\u001B[0m\n",
      "\u001B[32mINFO\u001B[0m: \u001B[1mGenerated DataFrame with 4 records.\u001B[0m\n",
      "                                            response\n",
      "0                             Time waits for no one.\n",
      "1  In the quiet stillness of the early morning, a...\n",
      "2  I told my computer I needed a break, and now i...\n",
      "3  As the overly ambitious squirrel, wearing a ti...\n"
     ]
    }
   ],
   "execution_count": 12
  },
  {
   "metadata": {
    "ExecuteTime": {
     "end_time": "2024-09-24T11:35:46.808724Z",
     "start_time": "2024-09-24T11:35:46.793089Z"
    }
   },
   "cell_type": "code",
   "source": "df",
   "id": "ff21b5b7af50eadb",
   "outputs": [],
   "execution_count": null
  }
 ],
 "metadata": {
  "kernelspec": {
   "display_name": "Python 3",
   "language": "python",
   "name": "python3"
  },
  "language_info": {
   "codemirror_mode": {
    "name": "ipython",
    "version": 2
   },
   "file_extension": ".py",
   "mimetype": "text/x-python",
   "name": "python",
   "nbconvert_exporter": "python",
   "pygments_lexer": "ipython2",
   "version": "2.7.6"
  }
 },
 "nbformat": 4,
 "nbformat_minor": 5
}
