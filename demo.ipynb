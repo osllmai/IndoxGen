{
 "cells": [
  {
   "cell_type": "code",
   "id": "initial_id",
   "metadata": {
    "collapsed": true,
    "ExecuteTime": {
     "end_time": "2024-09-21T13:25:41.226068Z",
     "start_time": "2024-09-21T13:25:41.204931Z"
    }
   },
   "source": [
    "import os\n",
    "from dotenv import load_dotenv\n",
    "\n",
    "load_dotenv()\n",
    "INDOX_API_KEY = os.environ['INDOX_API_KEY']\n",
    "OPENAI_API_KEY = os.environ['OPENAI_API_KEY']\n",
    "NVIDIA_API_KEY = os.environ['NVIDIA_API_KEY']"
   ],
   "outputs": [],
   "execution_count": 1
  },
  {
   "metadata": {
    "ExecuteTime": {
     "end_time": "2024-09-21T13:25:42.324274Z",
     "start_time": "2024-09-21T13:25:41.226068Z"
    }
   },
   "cell_type": "code",
   "source": [
    "\n",
    "from models import OpenAi, IndoxApi\n",
    "\n",
    "indox = IndoxApi(api_key=INDOX_API_KEY)\n",
    "\n",
    "# Get api key from NVIDIA (https://build.nvidia.com/nvidia/nemotron-4-340b-instruct?api_key=true&)\n",
    "nemotron = OpenAi(api_key=NVIDIA_API_KEY, model=\"nvidia/nemotron-4-340b-instruct\",\n",
    "                  base_url=\"https://integrate.api.nvidia.com/v1\")"
   ],
   "id": "4cbfc6469a3a790c",
   "outputs": [],
   "execution_count": 2
  },
  {
   "metadata": {
    "ExecuteTime": {
     "end_time": "2024-09-21T13:25:42.328195Z",
     "start_time": "2024-09-21T13:25:42.325779Z"
    }
   },
   "cell_type": "code",
   "source": [
    "# nemotron_response = nemotron.chat(prompt=\"Write a limerick about the wonders of GPU computing.\",\n",
    "#                                   system_prompt=\"You are a helpful assistant designed to generate synthetic data.\",\n",
    "#                                   stream=True, temperature=0.2, top_p=0.7)\n",
    "# print(nemotron_response)"
   ],
   "id": "bc1efaeab1a13eaf",
   "outputs": [],
   "execution_count": 3
  },
  {
   "metadata": {
    "ExecuteTime": {
     "end_time": "2024-09-21T13:25:42.332779Z",
     "start_time": "2024-09-21T13:25:42.328195Z"
    }
   },
   "cell_type": "code",
   "source": [
    "# indox_response = indox.chat(prompt=\"Write a limerick about the wonders of GPU computing.\",\n",
    "#                             system_prompt=\"You are a helpful assistant designed to generate synthetic data.\",\n",
    "#                             stream=True, temperature=0.2, top_p=0.7)\n",
    "# print(indox_response)"
   ],
   "id": "d1881c1512a62857",
   "outputs": [],
   "execution_count": 4
  },
  {
   "metadata": {
    "ExecuteTime": {
     "end_time": "2024-09-21T13:25:44.166678Z",
     "start_time": "2024-09-21T13:25:42.945448Z"
    }
   },
   "cell_type": "code",
   "source": "from lsynth.synthetic_data_generation import SyntheticDataGenerator",
   "id": "942669b6b5660953",
   "outputs": [],
   "execution_count": 5
  },
  {
   "metadata": {
    "ExecuteTime": {
     "end_time": "2024-09-21T13:25:44.172656Z",
     "start_time": "2024-09-21T13:25:44.166678Z"
    }
   },
   "cell_type": "code",
   "source": [
    "# Set up the generator\n",
    "columns = [\"name\", \"age\", \"occupation\"]\n",
    "example_data = [\n",
    "    {\"name\": \"Alice Johnson\", \"age\": 35, \"occupation\": \"Manager\"},\n",
    "    {\"name\": \"Bob Williams\", \"age\": 42, \"occupation\": \"Accountant\"}\n",
    "]"
   ],
   "id": "f82dbf11365f0308",
   "outputs": [],
   "execution_count": 6
  },
  {
   "metadata": {
    "ExecuteTime": {
     "end_time": "2024-09-21T13:25:44.195542Z",
     "start_time": "2024-09-21T13:25:44.172656Z"
    }
   },
   "cell_type": "code",
   "source": [
    "columns_medical = [\"Patient ID\",\"Patient Name\",\"Diagnosis Code\",\"Procedure Code\",\"Total Charge\",\"Insurance Claim Amount\"]\n",
    "examples_medical = [\n",
    "    {\n",
    "        \"example\": \"\"\"Patient ID: 123456, Patient Name: John Doe, Diagnosis Code: \n",
    "        J20.9, Procedure Code: 99203, Total Charge: $500, Insurance Claim Amount: $350\"\"\"\n",
    "    },\n",
    "    {\n",
    "        \"example\": \"\"\"Patient ID: 789012, Patient Name: Johnson Smith, Diagnosis \n",
    "        Code: M54.5, Procedure Code: 99213, Total Charge: $150, Insurance Claim Amount: $120\"\"\"\n",
    "    },\n",
    "    {\n",
    "        \"example\": \"\"\"Patient ID: 345678, Patient Name: Emily Stone, Diagnosis Code: \n",
    "        E11.9, Procedure Code: 99214, Total Charge: $300, Insurance Claim Amount: $250\"\"\"\n",
    "    },\n",
    "]"
   ],
   "id": "7e2479618bd238bc",
   "outputs": [],
   "execution_count": 7
  },
  {
   "metadata": {
    "ExecuteTime": {
     "end_time": "2024-09-21T13:30:13.412843Z",
     "start_time": "2024-09-21T13:30:13.405889Z"
    }
   },
   "cell_type": "code",
   "source": [
    "medical_billing_generator = SyntheticDataGenerator(\n",
    "    generator_llm=nemotron,\n",
    "    judge_llm=indox,\n",
    "    columns=columns_medical,\n",
    "    example_data=examples_medical,\n",
    "    user_instruction=\"Generate realistic medical billing data including patient IDs, Patient Name, diagnosis codes, Total Charge, and Insurance Claim Amount. Ensure a mix of common and rare procedures, varying charge amounts, and appropriate date ranges for a typical healthcare provider.\",\n",
    ")"
   ],
   "id": "6cc5f5785a2109fe",
   "outputs": [],
   "execution_count": 9
  },
  {
   "metadata": {
    "ExecuteTime": {
     "end_time": "2024-09-21T13:21:14.052154Z",
     "start_time": "2024-09-21T13:17:29.597019Z"
    }
   },
   "cell_type": "code",
   "source": [
    "# Generate data\n",
    "generated_data = generator.generate_data(num_samples=20)"
   ],
   "id": "ae599a029c38fa30",
   "outputs": [
    {
     "name": "stdout",
     "output_type": "stream",
     "text": [
      "Generated diverse data point: {'name': 'Dr. Sofia Rodríguez', 'age': 37, 'occupation': 'Data Scientist'}\n",
      "Generated diverse data point: {'name': \"James O'Connor\", 'age': 39, 'occupation': 'Engineer'}\n",
      "Generated diverse data point: {'name': 'Dr. Priya Patel', 'age': 36, 'occupation': 'Physician'}\n",
      "Generated diverse data point: {'name': 'Capt. Ethan Kim', 'age': 38, 'occupation': 'Pilot'}\n",
      "Generated diverse data point: {'name': 'María García López', 'age': 37, 'occupation': 'Graphic Designer'}\n",
      "Generated diverse data point: {'name': 'Prof. Yùkai Wang', 'age': 39, 'occupation': 'Data Scientist'}\n",
      "Generated diverse data point: {'name': 'Dr. Aisha ben-Jobair', 'age': 40, 'occupation': 'Marine Biologist'}\n",
      "Generated diverse data point: {'name': 'Jamal Adebayo', 'age': 36, 'occupation': 'Software Engineer'}\n",
      "Generated diverse data point: {'name': 'Mx. Reverie membrii Zhõu', 'age': 41, 'occupation': 'Aerospace Engineer'}\n",
      "Generated diverse data point: {'name': \"Captain Santiago 'Andromeda' Aguilar\", 'age': 37, 'occupation': 'Astronaut and Planetary Scientist'}\n",
      "Progress: 10/20 data points generated. Attempts: 10\n",
      "Generated diverse data point: {'name': 'Dr. Priya Deshpande-Singh', 'age': 39, 'occupation': 'Neurosurgeon and Medical Researcher'}\n",
      "Generated diverse data point: {'name': 'Prof. KaiẢimi soviieta Yamamoto-Aitsravoom', 'age': 36, 'occupation': 'Linguist and AI Ethicist'}\n",
      "Generated diverse data point: {'name': 'Mahmoud Abud easement El-Bakkoush', 'age': 38, 'occupation': 'Cultural Anthropologist and Human Rights Activist'}\n",
      "Generated diverse data point: {'name': 'Dr. Maria Elisabetaчното Silvestre-Garcia', 'age': 37, 'occupation': 'Astronomer and Data Scientist at the European Space Agency'}\n",
      "Generated diverse data point: {'name': 'Dr. Aagam Jain inriktning Patel', 'age': 39, 'occupation': 'Neurosurgeon and Brain-Computer Interface Researcher'}\n",
      "Generated diverse data point: {'name': 'Shingaassetshi仕様中 Saito', 'age': 40, 'occupation': 'Environmental Engineer and Sustainability Consultant, specializing in Circular Economy and Waste Management in East Asia'}\n",
      "Generated diverse data point: {'name': 'Jamal Abu Dhabi Al-Nasir', 'age': 36, 'occupation': 'Renewable Energy Entrepreneur and Advocate for Climate Action in the Middle East and North Africa Region'}\n",
      "Generated diverse data point: {'name': 'María Elena Rodríguez Hernández', 'age': 37, 'occupation': 'Cultural Anthropologist and Indigenous Rights Advocate, focusing on language preservation and education in Latin American communities'}\n",
      "Generated diverse data point: {'name': 'Ebele Nwabekei', 'age': 39, 'occupation': 'AI Ethicist and Public Policy Analyst, working on equitable AI adoption and digital rights in sub-Saharan Africa'}\n",
      "Failed to parse generated data (Attempt 1/3): Invalid control character at: line 2 column 58 (char 59)\n",
      "Retrying generation (Attempt 2/3)...\n",
      "Failed to parse generated data (Attempt 2/3): Invalid control character at: line 2 column 58 (char 59)\n",
      "Retrying generation (Attempt 3/3)...\n",
      "Failed to parse generated data (Attempt 3/3): Invalid control character at: line 2 column 58 (char 59)\n",
      "Max attempts reached. Skipping this data point.\n",
      "Failed to parse generated data (Attempt 1/3): Invalid control character at: line 2 column 58 (char 59)\n",
      "Retrying generation (Attempt 2/3)...\n",
      "Failed to parse generated data (Attempt 2/3): Invalid control character at: line 2 column 58 (char 59)\n",
      "Retrying generation (Attempt 3/3)...\n",
      "Failed to parse generated data (Attempt 3/3): Invalid control character at: line 2 column 58 (char 59)\n",
      "Max attempts reached. Skipping this data point.\n",
      "Failed to parse generated data (Attempt 1/3): Invalid control character at: line 2 column 58 (char 59)\n",
      "Retrying generation (Attempt 2/3)...\n",
      "Failed to parse generated data (Attempt 2/3): Invalid control character at: line 2 column 58 (char 59)\n",
      "Retrying generation (Attempt 3/3)...\n",
      "Failed to parse generated data (Attempt 3/3): Invalid control character at: line 2 column 58 (char 59)\n",
      "Max attempts reached. Skipping this data point.\n",
      "Failed to parse generated data (Attempt 1/3): Invalid control character at: line 2 column 58 (char 59)\n",
      "Retrying generation (Attempt 2/3)...\n",
      "Generated diverse data point: {'name': 'Dr. Akira Yamada', 'age': 38, 'occupation': 'Quantum Computing Researcher and Professor of Physics, specializing in quantum error correction and cryptography, with a focus on promoting diversity and inclusion in STEM education'}\n"
     ]
    }
   ],
   "execution_count": 9
  },
  {
   "metadata": {
    "ExecuteTime": {
     "end_time": "2024-09-21T13:22:07.958232Z",
     "start_time": "2024-09-21T13:22:07.940060Z"
    }
   },
   "cell_type": "code",
   "source": "generated_data",
   "id": "f5103a9a65a1ed6",
   "outputs": [
    {
     "data": {
      "text/plain": [
       "                                          name  age  \\\n",
       "0                          Dr. Sofia Rodríguez   37   \n",
       "1                               James O'Connor   39   \n",
       "2                              Dr. Priya Patel   36   \n",
       "3                              Capt. Ethan Kim   38   \n",
       "4                           María García López   37   \n",
       "5                             Prof. Yùkai Wang   39   \n",
       "6                         Dr. Aisha ben-Jobair   40   \n",
       "7                                Jamal Adebayo   36   \n",
       "8                     Mx. Reverie membrii Zhõu   41   \n",
       "9         Captain Santiago 'Andromeda' Aguilar   37   \n",
       "10                   Dr. Priya Deshpande-Singh   39   \n",
       "11  Prof. KaiẢimi soviieta Yamamoto-Aitsravoom   36   \n",
       "12           Mahmoud Abud easement El-Bakkoush   38   \n",
       "13   Dr. Maria Elisabetaчното Silvestre-Garcia   37   \n",
       "14             Dr. Aagam Jain inriktning Patel   39   \n",
       "15                     Shingaassetshi仕様中 Saito   40   \n",
       "16                    Jamal Abu Dhabi Al-Nasir   36   \n",
       "17             María Elena Rodríguez Hernández   37   \n",
       "18                              Ebele Nwabekei   39   \n",
       "19                            Dr. Akira Yamada   38   \n",
       "\n",
       "                                           occupation  \n",
       "0                                      Data Scientist  \n",
       "1                                            Engineer  \n",
       "2                                           Physician  \n",
       "3                                               Pilot  \n",
       "4                                    Graphic Designer  \n",
       "5                                      Data Scientist  \n",
       "6                                    Marine Biologist  \n",
       "7                                   Software Engineer  \n",
       "8                                  Aerospace Engineer  \n",
       "9                   Astronaut and Planetary Scientist  \n",
       "10                Neurosurgeon and Medical Researcher  \n",
       "11                           Linguist and AI Ethicist  \n",
       "12  Cultural Anthropologist and Human Rights Activist  \n",
       "13  Astronomer and Data Scientist at the European ...  \n",
       "14  Neurosurgeon and Brain-Computer Interface Rese...  \n",
       "15  Environmental Engineer and Sustainability Cons...  \n",
       "16  Renewable Energy Entrepreneur and Advocate for...  \n",
       "17  Cultural Anthropologist and Indigenous Rights ...  \n",
       "18  AI Ethicist and Public Policy Analyst, working...  \n",
       "19  Quantum Computing Researcher and Professor of ...  "
      ],
      "text/html": [
       "<div>\n",
       "<style scoped>\n",
       "    .dataframe tbody tr th:only-of-type {\n",
       "        vertical-align: middle;\n",
       "    }\n",
       "\n",
       "    .dataframe tbody tr th {\n",
       "        vertical-align: top;\n",
       "    }\n",
       "\n",
       "    .dataframe thead th {\n",
       "        text-align: right;\n",
       "    }\n",
       "</style>\n",
       "<table border=\"1\" class=\"dataframe\">\n",
       "  <thead>\n",
       "    <tr style=\"text-align: right;\">\n",
       "      <th></th>\n",
       "      <th>name</th>\n",
       "      <th>age</th>\n",
       "      <th>occupation</th>\n",
       "    </tr>\n",
       "  </thead>\n",
       "  <tbody>\n",
       "    <tr>\n",
       "      <th>0</th>\n",
       "      <td>Dr. Sofia Rodríguez</td>\n",
       "      <td>37</td>\n",
       "      <td>Data Scientist</td>\n",
       "    </tr>\n",
       "    <tr>\n",
       "      <th>1</th>\n",
       "      <td>James O'Connor</td>\n",
       "      <td>39</td>\n",
       "      <td>Engineer</td>\n",
       "    </tr>\n",
       "    <tr>\n",
       "      <th>2</th>\n",
       "      <td>Dr. Priya Patel</td>\n",
       "      <td>36</td>\n",
       "      <td>Physician</td>\n",
       "    </tr>\n",
       "    <tr>\n",
       "      <th>3</th>\n",
       "      <td>Capt. Ethan Kim</td>\n",
       "      <td>38</td>\n",
       "      <td>Pilot</td>\n",
       "    </tr>\n",
       "    <tr>\n",
       "      <th>4</th>\n",
       "      <td>María García López</td>\n",
       "      <td>37</td>\n",
       "      <td>Graphic Designer</td>\n",
       "    </tr>\n",
       "    <tr>\n",
       "      <th>5</th>\n",
       "      <td>Prof. Yùkai Wang</td>\n",
       "      <td>39</td>\n",
       "      <td>Data Scientist</td>\n",
       "    </tr>\n",
       "    <tr>\n",
       "      <th>6</th>\n",
       "      <td>Dr. Aisha ben-Jobair</td>\n",
       "      <td>40</td>\n",
       "      <td>Marine Biologist</td>\n",
       "    </tr>\n",
       "    <tr>\n",
       "      <th>7</th>\n",
       "      <td>Jamal Adebayo</td>\n",
       "      <td>36</td>\n",
       "      <td>Software Engineer</td>\n",
       "    </tr>\n",
       "    <tr>\n",
       "      <th>8</th>\n",
       "      <td>Mx. Reverie membrii Zhõu</td>\n",
       "      <td>41</td>\n",
       "      <td>Aerospace Engineer</td>\n",
       "    </tr>\n",
       "    <tr>\n",
       "      <th>9</th>\n",
       "      <td>Captain Santiago 'Andromeda' Aguilar</td>\n",
       "      <td>37</td>\n",
       "      <td>Astronaut and Planetary Scientist</td>\n",
       "    </tr>\n",
       "    <tr>\n",
       "      <th>10</th>\n",
       "      <td>Dr. Priya Deshpande-Singh</td>\n",
       "      <td>39</td>\n",
       "      <td>Neurosurgeon and Medical Researcher</td>\n",
       "    </tr>\n",
       "    <tr>\n",
       "      <th>11</th>\n",
       "      <td>Prof. KaiẢimi soviieta Yamamoto-Aitsravoom</td>\n",
       "      <td>36</td>\n",
       "      <td>Linguist and AI Ethicist</td>\n",
       "    </tr>\n",
       "    <tr>\n",
       "      <th>12</th>\n",
       "      <td>Mahmoud Abud easement El-Bakkoush</td>\n",
       "      <td>38</td>\n",
       "      <td>Cultural Anthropologist and Human Rights Activist</td>\n",
       "    </tr>\n",
       "    <tr>\n",
       "      <th>13</th>\n",
       "      <td>Dr. Maria Elisabetaчното Silvestre-Garcia</td>\n",
       "      <td>37</td>\n",
       "      <td>Astronomer and Data Scientist at the European ...</td>\n",
       "    </tr>\n",
       "    <tr>\n",
       "      <th>14</th>\n",
       "      <td>Dr. Aagam Jain inriktning Patel</td>\n",
       "      <td>39</td>\n",
       "      <td>Neurosurgeon and Brain-Computer Interface Rese...</td>\n",
       "    </tr>\n",
       "    <tr>\n",
       "      <th>15</th>\n",
       "      <td>Shingaassetshi仕様中 Saito</td>\n",
       "      <td>40</td>\n",
       "      <td>Environmental Engineer and Sustainability Cons...</td>\n",
       "    </tr>\n",
       "    <tr>\n",
       "      <th>16</th>\n",
       "      <td>Jamal Abu Dhabi Al-Nasir</td>\n",
       "      <td>36</td>\n",
       "      <td>Renewable Energy Entrepreneur and Advocate for...</td>\n",
       "    </tr>\n",
       "    <tr>\n",
       "      <th>17</th>\n",
       "      <td>María Elena Rodríguez Hernández</td>\n",
       "      <td>37</td>\n",
       "      <td>Cultural Anthropologist and Indigenous Rights ...</td>\n",
       "    </tr>\n",
       "    <tr>\n",
       "      <th>18</th>\n",
       "      <td>Ebele Nwabekei</td>\n",
       "      <td>39</td>\n",
       "      <td>AI Ethicist and Public Policy Analyst, working...</td>\n",
       "    </tr>\n",
       "    <tr>\n",
       "      <th>19</th>\n",
       "      <td>Dr. Akira Yamada</td>\n",
       "      <td>38</td>\n",
       "      <td>Quantum Computing Researcher and Professor of ...</td>\n",
       "    </tr>\n",
       "  </tbody>\n",
       "</table>\n",
       "</div>"
      ]
     },
     "execution_count": 13,
     "metadata": {},
     "output_type": "execute_result"
    }
   ],
   "execution_count": 13
  },
  {
   "metadata": {
    "ExecuteTime": {
     "end_time": "2024-09-21T13:34:03.330498Z",
     "start_time": "2024-09-21T13:30:42.134786Z"
    }
   },
   "cell_type": "code",
   "source": "medical_billing_data = medical_billing_generator.generate_data(num_samples=10)",
   "id": "98a38b7372b256e9",
   "outputs": [
    {
     "name": "stdout",
     "output_type": "stream",
     "text": [
      "Generated diverse data point: {'Patient ID': '987654', 'Patient Name': 'Michael Johnson', 'Diagnosis Code': 'G47.33', 'Procedure Code': '92507', 'Total Charge': '$850', 'Insurance Claim Amount': '$650'}\n",
      "Generated diverse data point: {'Patient ID': '654321', 'Patient Name': 'Olivia Brown', 'Diagnosis Code': 'I10', 'Procedure Code': '36415', 'Total Charge': '$1200', 'Insurance Claim Amount': '$900'}\n",
      "Generated data is not diverse. Retrying... (Failure count: 1)\n",
      "Generated data is not diverse. Retrying... (Failure count: 2)\n",
      "Generated data is not diverse. Retrying... (Failure count: 3)\n",
      "Generated data is not diverse. Retrying... (Failure count: 4)\n",
      "Generated data is not diverse. Retrying... (Failure count: 5)\n",
      "Generated data is not diverse. Retrying... (Failure count: 6)\n",
      "Generated data is not diverse. Retrying... (Failure count: 7)\n",
      "Generated data is not diverse. Retrying... (Failure count: 8)\n",
      "Progress: 2/10 data points generated. Attempts: 10\n",
      "Generated data is not diverse. Retrying... (Failure count: 9)\n",
      "Generated data is not diverse. Retrying... (Failure count: 10)\n",
      "Max diversity failures reached. Forcing acceptance of this data point.\n",
      "Generated diverse data point: {'Patient ID': 'ABC123', 'Patient Name': 'Ava Patel', 'Diagnosis Code': 'N30.0', 'Procedure Code': '51700', 'Total Charge': '$450', 'Insurance Claim Amount': '$320'}\n",
      "Generated diverse data point: {'Patient ID': 'XYZ789', 'Patient Name': 'Chloe Harris', 'Diagnosis Code': 'R53.83', 'Procedure Code': '36416', 'Total Charge': '$850', 'Insurance Claim Amount': '$600'}\n",
      "Generated diverse data point: {'Patient ID': 'QWERTY1', 'Patient Name': 'Isabella Taylor', 'Diagnosis Code': 'G47.33', 'Procedure Code': '95811', 'Total Charge': '$1200', 'Insurance Claim Amount': '$850'}\n",
      "Generated diverse data point: {'Patient ID': 'LMN456', 'Patient Name': 'William Brown', 'Diagnosis Code': 'I50.9', 'Procedure Code': '33208', 'Total Charge': '$1800', 'Insurance Claim Amount': '$1300'}\n",
      "Generated diverse data point: {'Patient ID': 'ABC123DEF', 'Patient Name': 'Samantha Johnson', 'Diagnosis Code': 'K21.9', 'Procedure Code': '43235', 'Total Charge': '$1,500', 'Insurance Claim Amount': '$1,000'}\n",
      "Generated diverse data point: {'Patient ID': 'ZYX987', 'Patient Name': 'Daniel Lee', 'Diagnosis Code': 'M25.552', 'Procedure Code': '29888', 'Total Charge': '$2,200', 'Insurance Claim Amount': '$1,650'}\n",
      "Generated diverse data point: {'Patient ID': 'XYZ789QRS', 'Patient Name': 'Grace Thompson', 'Diagnosis Code': 'G47.33', 'Procedure Code': '64561', 'Total Charge': '$3,500', 'Insurance Claim Amount': '$2,500'}\n"
     ]
    }
   ],
   "execution_count": 10
  },
  {
   "metadata": {
    "ExecuteTime": {
     "end_time": "2024-09-21T13:34:14.103687Z",
     "start_time": "2024-09-21T13:34:14.091306Z"
    }
   },
   "cell_type": "code",
   "source": "medical_billing_data",
   "id": "6b86a47d0ab11cd9",
   "outputs": [
    {
     "data": {
      "text/plain": [
       "  Patient ID      Patient Name Diagnosis Code Procedure Code Total Charge  \\\n",
       "0     987654   Michael Johnson         G47.33          92507         $850   \n",
       "1     654321      Olivia Brown            I10          36415        $1200   \n",
       "2     543210     Sophia Garcia          F32.9          90832         $280   \n",
       "3     ABC123         Ava Patel          N30.0          51700         $450   \n",
       "4     XYZ789      Chloe Harris         R53.83          36416         $850   \n",
       "5    QWERTY1   Isabella Taylor         G47.33          95811        $1200   \n",
       "6     LMN456     William Brown          I50.9          33208        $1800   \n",
       "7  ABC123DEF  Samantha Johnson          K21.9          43235       $1,500   \n",
       "8     ZYX987        Daniel Lee        M25.552          29888       $2,200   \n",
       "9  XYZ789QRS    Grace Thompson         G47.33          64561       $3,500   \n",
       "\n",
       "  Insurance Claim Amount  \n",
       "0                   $650  \n",
       "1                   $900  \n",
       "2                   $200  \n",
       "3                   $320  \n",
       "4                   $600  \n",
       "5                   $850  \n",
       "6                  $1300  \n",
       "7                 $1,000  \n",
       "8                 $1,650  \n",
       "9                 $2,500  "
      ],
      "text/html": [
       "<div>\n",
       "<style scoped>\n",
       "    .dataframe tbody tr th:only-of-type {\n",
       "        vertical-align: middle;\n",
       "    }\n",
       "\n",
       "    .dataframe tbody tr th {\n",
       "        vertical-align: top;\n",
       "    }\n",
       "\n",
       "    .dataframe thead th {\n",
       "        text-align: right;\n",
       "    }\n",
       "</style>\n",
       "<table border=\"1\" class=\"dataframe\">\n",
       "  <thead>\n",
       "    <tr style=\"text-align: right;\">\n",
       "      <th></th>\n",
       "      <th>Patient ID</th>\n",
       "      <th>Patient Name</th>\n",
       "      <th>Diagnosis Code</th>\n",
       "      <th>Procedure Code</th>\n",
       "      <th>Total Charge</th>\n",
       "      <th>Insurance Claim Amount</th>\n",
       "    </tr>\n",
       "  </thead>\n",
       "  <tbody>\n",
       "    <tr>\n",
       "      <th>0</th>\n",
       "      <td>987654</td>\n",
       "      <td>Michael Johnson</td>\n",
       "      <td>G47.33</td>\n",
       "      <td>92507</td>\n",
       "      <td>$850</td>\n",
       "      <td>$650</td>\n",
       "    </tr>\n",
       "    <tr>\n",
       "      <th>1</th>\n",
       "      <td>654321</td>\n",
       "      <td>Olivia Brown</td>\n",
       "      <td>I10</td>\n",
       "      <td>36415</td>\n",
       "      <td>$1200</td>\n",
       "      <td>$900</td>\n",
       "    </tr>\n",
       "    <tr>\n",
       "      <th>2</th>\n",
       "      <td>543210</td>\n",
       "      <td>Sophia Garcia</td>\n",
       "      <td>F32.9</td>\n",
       "      <td>90832</td>\n",
       "      <td>$280</td>\n",
       "      <td>$200</td>\n",
       "    </tr>\n",
       "    <tr>\n",
       "      <th>3</th>\n",
       "      <td>ABC123</td>\n",
       "      <td>Ava Patel</td>\n",
       "      <td>N30.0</td>\n",
       "      <td>51700</td>\n",
       "      <td>$450</td>\n",
       "      <td>$320</td>\n",
       "    </tr>\n",
       "    <tr>\n",
       "      <th>4</th>\n",
       "      <td>XYZ789</td>\n",
       "      <td>Chloe Harris</td>\n",
       "      <td>R53.83</td>\n",
       "      <td>36416</td>\n",
       "      <td>$850</td>\n",
       "      <td>$600</td>\n",
       "    </tr>\n",
       "    <tr>\n",
       "      <th>5</th>\n",
       "      <td>QWERTY1</td>\n",
       "      <td>Isabella Taylor</td>\n",
       "      <td>G47.33</td>\n",
       "      <td>95811</td>\n",
       "      <td>$1200</td>\n",
       "      <td>$850</td>\n",
       "    </tr>\n",
       "    <tr>\n",
       "      <th>6</th>\n",
       "      <td>LMN456</td>\n",
       "      <td>William Brown</td>\n",
       "      <td>I50.9</td>\n",
       "      <td>33208</td>\n",
       "      <td>$1800</td>\n",
       "      <td>$1300</td>\n",
       "    </tr>\n",
       "    <tr>\n",
       "      <th>7</th>\n",
       "      <td>ABC123DEF</td>\n",
       "      <td>Samantha Johnson</td>\n",
       "      <td>K21.9</td>\n",
       "      <td>43235</td>\n",
       "      <td>$1,500</td>\n",
       "      <td>$1,000</td>\n",
       "    </tr>\n",
       "    <tr>\n",
       "      <th>8</th>\n",
       "      <td>ZYX987</td>\n",
       "      <td>Daniel Lee</td>\n",
       "      <td>M25.552</td>\n",
       "      <td>29888</td>\n",
       "      <td>$2,200</td>\n",
       "      <td>$1,650</td>\n",
       "    </tr>\n",
       "    <tr>\n",
       "      <th>9</th>\n",
       "      <td>XYZ789QRS</td>\n",
       "      <td>Grace Thompson</td>\n",
       "      <td>G47.33</td>\n",
       "      <td>64561</td>\n",
       "      <td>$3,500</td>\n",
       "      <td>$2,500</td>\n",
       "    </tr>\n",
       "  </tbody>\n",
       "</table>\n",
       "</div>"
      ]
     },
     "execution_count": 11,
     "metadata": {},
     "output_type": "execute_result"
    }
   ],
   "execution_count": 11
  },
  {
   "metadata": {
    "ExecuteTime": {
     "end_time": "2024-09-21T13:37:35.058623Z",
     "start_time": "2024-09-21T13:37:35.050491Z"
    }
   },
   "cell_type": "code",
   "source": "medical_billing_generator.feedback_history",
   "id": "3ed81d5fdebc4df3",
   "outputs": [
    {
     "data": {
      "text/plain": [
       "[]"
      ]
     },
     "execution_count": 15,
     "metadata": {},
     "output_type": "execute_result"
    }
   ],
   "execution_count": 15
  },
  {
   "metadata": {},
   "cell_type": "code",
   "outputs": [],
   "execution_count": null,
   "source": "",
   "id": "ac7c9ab19a7b5365"
  }
 ],
 "metadata": {
  "kernelspec": {
   "display_name": "Python 3",
   "language": "python",
   "name": "python3"
  },
  "language_info": {
   "codemirror_mode": {
    "name": "ipython",
    "version": 2
   },
   "file_extension": ".py",
   "mimetype": "text/x-python",
   "name": "python",
   "nbconvert_exporter": "python",
   "pygments_lexer": "ipython2",
   "version": "2.7.6"
  }
 },
 "nbformat": 4,
 "nbformat_minor": 5
}
