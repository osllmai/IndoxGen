{
 "cells": [
  {
   "cell_type": "code",
   "id": "initial_id",
   "metadata": {
    "collapsed": true
   },
   "source": [
    "import os\n",
    "from dotenv import load_dotenv\n",
    "\n",
    "load_dotenv()\n",
    "INDOX_API_KEY = os.environ['INDOX_API_KEY']\n",
    "NVIDIA_API_KEY = os.environ['NVIDIA_API_KEY']"
   ],
   "outputs": [],
   "execution_count": null
  },
  {
   "metadata": {
    "ExecuteTime": {
     "end_time": "2024-09-24T13:13:50.559181Z",
     "start_time": "2024-09-24T13:13:50.553626Z"
    }
   },
   "cell_type": "code",
   "source": [
    "columns = [\"name\", \"all\", \"occupation\"]\n",
    "example_data = [\n",
    "    {\"name\": \"Alice Johnson\", \"age\": 35, \"occupation\": \"Manager\"},\n",
    "    {\"name\": \"Bob Williams\", \"age\": 42, \"occupation\": \"Accountant\"}\n",
    "]"
   ],
   "id": "f82dbf11365f0308",
   "outputs": [],
   "execution_count": 13
  },
  {
   "metadata": {
    "ExecuteTime": {
     "end_time": "2024-09-24T13:13:50.564594Z",
     "start_time": "2024-09-24T13:13:50.559181Z"
    }
   },
   "cell_type": "code",
   "source": [
    "columns_medical = [\"Patient ID\",\"Patient Name\",\"Diagnosis Code\",\"Procedure Code\",\"Total Charge\",\"Insurance Claim Amount\"]\n",
    "examples_medical = [\n",
    "    {\n",
    "        \"example\": \"\"\"Patient ID: 123456, Patient Name: John Doe, Diagnosis Code: \n",
    "        J20.9, Procedure Code: 99203, Total Charge: $500, Insurance Claim Amount: $350\"\"\"\n",
    "    },\n",
    "    {\n",
    "        \"example\": \"\"\"Patient ID: 789012, Patient Name: Johnson Smith, Diagnosis \n",
    "        Code: M54.5, Procedure Code: 99213, Total Charge: $150, Insurance Claim Amount: $120\"\"\"\n",
    "    },\n",
    "    {\n",
    "        \"example\": \"\"\"Patient ID: 345678, Patient Name: Emily Stone, Diagnosis Code: \n",
    "        E11.9, Procedure Code: 99214, Total Charge: $300, Insurance Claim Amount: $250\"\"\"\n",
    "    },\n",
    "]"
   ],
   "id": "7e2479618bd238bc",
   "outputs": [],
   "execution_count": 14
  },
  {
   "metadata": {
    "ExecuteTime": {
     "end_time": "2024-09-24T13:13:51.203913Z",
     "start_time": "2024-09-24T13:13:50.564594Z"
    }
   },
   "cell_type": "code",
   "source": [
    "from indoxGen.llms import OpenAi, IndoxApi\n",
    "\n",
    "indox = IndoxApi(api_key=INDOX_API_KEY)\n",
    "\n",
    "nemotron = OpenAi(api_key=NVIDIA_API_KEY, model=\"nvidia/nemotron-4-340b-instruct\",\n",
    "                  base_url=\"https://integrate.api.nvidia.com/v1\")"
   ],
   "id": "7886a22687c5aa3b",
   "outputs": [],
   "execution_count": 15
  },
  {
   "metadata": {
    "ExecuteTime": {
     "end_time": "2024-09-24T13:13:51.211521Z",
     "start_time": "2024-09-24T13:13:51.204303Z"
    }
   },
   "cell_type": "code",
   "source": [
    "from indoxGen.synthCore import SyntheticDataGenerator\n",
    "generator = SyntheticDataGenerator(\n",
    "    generator_llm=nemotron,\n",
    "    judge_llm=indox,\n",
    "    columns=columns,\n",
    "    example_data=example_data,\n",
    "    user_instruction=\"Generate realistic data including name, age and occupation. Ensure a mix of common and rare procedures, varying race, and appropriate date ranges for age.\",\n",
    "    verbose=1\n",
    ")"
   ],
   "id": "34e00ba1ebf7160b",
   "outputs": [
    {
     "name": "stderr",
     "output_type": "stream",
     "text": [
      "C:\\Users\\ASHKAN\\AppData\\Local\\Programs\\Python\\Python312\\Lib\\site-packages\\numpy\\core\\_methods.py:206: RuntimeWarning: Degrees of freedom <= 0 for slice\n",
      "  ret = _var(a, axis=axis, dtype=dtype, out=out, ddof=ddof,\n",
      "C:\\Users\\ASHKAN\\AppData\\Local\\Programs\\Python\\Python312\\Lib\\site-packages\\numpy\\core\\_methods.py:163: RuntimeWarning: invalid value encountered in divide\n",
      "  arrmean = um.true_divide(arrmean, div, out=arrmean,\n",
      "C:\\Users\\ASHKAN\\AppData\\Local\\Programs\\Python\\Python312\\Lib\\site-packages\\numpy\\core\\_methods.py:198: RuntimeWarning: invalid value encountered in scalar divide\n",
      "  ret = ret.dtype.type(ret / rcount)\n"
     ]
    }
   ],
   "execution_count": 16
  },
  {
   "metadata": {
    "ExecuteTime": {
     "end_time": "2024-09-24T13:13:51.217682Z",
     "start_time": "2024-09-24T13:13:51.211521Z"
    }
   },
   "cell_type": "code",
   "source": [
    "medical_billing_generator = SyntheticDataGenerator(\n",
    "    generator_llm=nemotron,\n",
    "    judge_llm=indox,\n",
    "    columns=columns_medical,\n",
    "    example_data=examples_medical,\n",
    "    user_instruction=\"Generate realistic medical billing data including patient IDs, Patient Name, diagnosis codes, Total Charge, and Insurance Claim Amount. Ensure a mix of common and rare procedures, varying charge amounts, and appropriate date ranges for a typical healthcare provider.\",\n",
    "    verbose=1\n",
    ")"
   ],
   "id": "6cc5f5785a2109fe",
   "outputs": [],
   "execution_count": 17
  },
  {
   "metadata": {
    "ExecuteTime": {
     "start_time": "2024-09-24T13:13:51.219189Z"
    }
   },
   "cell_type": "code",
   "source": [
    "# Generate data\n",
    "generated_data = generator.generate_data(num_samples=20)"
   ],
   "id": "ae599a029c38fa30",
   "outputs": [],
   "execution_count": null
  },
  {
   "metadata": {},
   "cell_type": "code",
   "source": "generated_data",
   "id": "f5103a9a65a1ed6",
   "outputs": [],
   "execution_count": null
  },
  {
   "metadata": {},
   "cell_type": "code",
   "source": "medical_billing_data = medical_billing_generator.generate_data(num_samples=6)",
   "id": "98a38b7372b256e9",
   "outputs": [],
   "execution_count": null
  },
  {
   "metadata": {},
   "cell_type": "code",
   "source": "medical_billing_data",
   "id": "6b86a47d0ab11cd9",
   "outputs": [],
   "execution_count": null
  },
  {
   "metadata": {},
   "cell_type": "code",
   "source": "medical_billing_generator.feedback_history",
   "id": "3ed81d5fdebc4df3",
   "outputs": [],
   "execution_count": null
  },
  {
   "metadata": {},
   "cell_type": "code",
   "source": "",
   "id": "ac7c9ab19a7b5365",
   "outputs": [],
   "execution_count": null
  }
 ],
 "metadata": {
  "kernelspec": {
   "display_name": "Python 3",
   "language": "python",
   "name": "python3"
  },
  "language_info": {
   "codemirror_mode": {
    "name": "ipython",
    "version": 2
   },
   "file_extension": ".py",
   "mimetype": "text/x-python",
   "name": "python",
   "nbconvert_exporter": "python",
   "pygments_lexer": "ipython2",
   "version": "2.7.6"
  }
 },
 "nbformat": 4,
 "nbformat_minor": 5
}
