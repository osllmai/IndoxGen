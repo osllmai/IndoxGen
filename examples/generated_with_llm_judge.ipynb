{
 "cells": [
  {
   "cell_type": "code",
   "id": "initial_id",
   "metadata": {
    "collapsed": true,
    "ExecuteTime": {
     "end_time": "2024-09-24T12:04:56.137343Z",
     "start_time": "2024-09-24T12:04:56.051445Z"
    }
   },
   "source": [
    "import os\n",
    "from dotenv import load_dotenv\n",
    "\n",
    "load_dotenv()\n",
    "INDOX_API_KEY = os.environ['INDOX_API_KEY']\n",
    "NVIDIA_API_KEY = os.environ['NVIDIA_API_KEY']"
   ],
   "outputs": [],
   "execution_count": 1
  },
  {
   "metadata": {
    "ExecuteTime": {
     "end_time": "2024-09-24T12:04:56.141743Z",
     "start_time": "2024-09-24T12:04:56.138346Z"
    }
   },
   "cell_type": "code",
   "source": [
    "columns = [\"name\", \"all\", \"occupation\"]\n",
    "example_data = [\n",
    "    {\"name\": \"Alice Johnson\", \"age\": 35, \"occupation\": \"Manager\"},\n",
    "    {\"name\": \"Bob Williams\", \"age\": 42, \"occupation\": \"Accountant\"}\n",
    "]"
   ],
   "id": "f82dbf11365f0308",
   "outputs": [],
   "execution_count": 2
  },
  {
   "metadata": {
    "ExecuteTime": {
     "end_time": "2024-09-24T12:04:56.146937Z",
     "start_time": "2024-09-24T12:04:56.142750Z"
    }
   },
   "cell_type": "code",
   "source": [
    "columns_medical = [\"Patient ID\",\"Patient Name\",\"Diagnosis Code\",\"Procedure Code\",\"Total Charge\",\"Insurance Claim Amount\"]\n",
    "examples_medical = [\n",
    "    {\n",
    "        \"example\": \"\"\"Patient ID: 123456, Patient Name: John Doe, Diagnosis Code: \n",
    "        J20.9, Procedure Code: 99203, Total Charge: $500, Insurance Claim Amount: $350\"\"\"\n",
    "    },\n",
    "    {\n",
    "        \"example\": \"\"\"Patient ID: 789012, Patient Name: Johnson Smith, Diagnosis \n",
    "        Code: M54.5, Procedure Code: 99213, Total Charge: $150, Insurance Claim Amount: $120\"\"\"\n",
    "    },\n",
    "    {\n",
    "        \"example\": \"\"\"Patient ID: 345678, Patient Name: Emily Stone, Diagnosis Code: \n",
    "        E11.9, Procedure Code: 99214, Total Charge: $300, Insurance Claim Amount: $250\"\"\"\n",
    "    },\n",
    "]"
   ],
   "id": "7e2479618bd238bc",
   "outputs": [],
   "execution_count": 3
  },
  {
   "metadata": {
    "ExecuteTime": {
     "end_time": "2024-09-23T07:34:39.166445Z",
     "start_time": "2024-09-23T07:34:38.843212Z"
    }
   },
   "cell_type": "code",
   "source": [
    "from IndoxGen.llms import OpenAi, IndoxApi\n",
    "\n",
    "indox = IndoxApi(api_key=INDOX_API_KEY)\n",
    "\n",
    "nemotron = OpenAi(api_key=NVIDIA_API_KEY, model=\"nvidia/nemotron-4-340b-instruct\",\n",
    "                  base_url=\"https://integrate.api.nvidia.com/v1\")"
   ],
   "id": "7886a22687c5aa3b",
   "outputs": [],
   "execution_count": 5
  },
  {
   "metadata": {
    "ExecuteTime": {
     "end_time": "2024-09-23T07:36:46.523863Z",
     "start_time": "2024-09-23T07:36:46.513267Z"
    }
   },
   "cell_type": "code",
   "source": [
    "from SynthCore import SyntheticDataGenerator\n",
    "generator = SyntheticDataGenerator(\n",
    "    generator_llm=nemotron,\n",
    "    judge_llm=indox,\n",
    "    columns=columns,\n",
    "    example_data=example_data,\n",
    "    user_instruction=\"Generate realistic data including name, age and occupation. Ensure a mix of common and rare procedures, varying race, and appropriate date ranges for age.\",\n",
    "    verbose=1\n",
    ")"
   ],
   "id": "34e00ba1ebf7160b",
   "outputs": [],
   "execution_count": 7
  },
  {
   "metadata": {
    "ExecuteTime": {
     "end_time": "2024-09-23T07:36:48.231423Z",
     "start_time": "2024-09-23T07:36:48.220622Z"
    }
   },
   "cell_type": "code",
   "source": [
    "medical_billing_generator = SyntheticDataGenerator(\n",
    "    generator_llm=nemotron,\n",
    "    judge_llm=indox,\n",
    "    columns=columns_medical,\n",
    "    example_data=examples_medical,\n",
    "    user_instruction=\"Generate realistic medical billing data including patient IDs, Patient Name, diagnosis codes, Total Charge, and Insurance Claim Amount. Ensure a mix of common and rare procedures, varying charge amounts, and appropriate date ranges for a typical healthcare provider.\",\n",
    "    verbose=1\n",
    ")"
   ],
   "id": "6cc5f5785a2109fe",
   "outputs": [],
   "execution_count": 8
  },
  {
   "metadata": {
    "ExecuteTime": {
     "end_time": "2024-09-23T07:39:34.910014Z",
     "start_time": "2024-09-23T07:36:59.394123Z"
    }
   },
   "cell_type": "code",
   "source": [
    "# Generate data\n",
    "generated_data = generator.generate_data(num_samples=20)"
   ],
   "id": "ae599a029c38fa30",
   "outputs": [
    {
     "name": "stdout",
     "output_type": "stream",
     "text": [
      "Generated data point: {'name': 'Dr. Maya Patel', 'age': '36', 'occupation': 'Neurosurgeon'}\n",
      "Generated data point: {'name': 'Capt. James H.нныесм Благодаря', 'age': '39', 'occupation': 'Aircraft Pilot'}\n",
      "Generated data point: {'name': 'Prof. Eduardo Miguel Sánchez', 'age': '40', 'occupation': 'Marine Biologist'}\n",
      "Feedback for generator: Generated data: {\"name\": \"Sgt. clenamaae dw gebruiksrech v Makohe funktier ballon n\\u0632\\u0645\\u0627\\u062a zangtal Riesling \\u0646 th\\u1ea7n Saito \\u05e0\\u05ea\\u05d9 caja scris wassail Gonzalez Park \\u062a\\u0647\\u0627\\u6bdb attori tavolo \\u0643\\u0645\\u0633\\u064a Schriftsteller humaym \\u0643\\u0641\\u064a Niraj Soriano \\ud55c alanine \\u0648\\u0631\\u062f \\u062a\\u064a\\u0660\\u4e00\\u79cd propozycj \\u05d1\\u05d9\\u05dc\\u6bd4 \\u9a6c \\u0447\\u0442\\u043e Impro \\u0633\\u0645\\u0629 \\u0111\\u01b0\\u1ee3c \\u03c4\\u03bf\\u10ec\\u0bcd \\u0647\\u0627\\u0660zasYP \\u09b6 Phe \\u0411\\u0430\\u0430\", \"age\": \"37\", \"occupation\": \"Cardiothoracic Surgeon\"}\n",
      "Score: 0.2\n",
      "Reason: Low score\n",
      "Feedback for generator: Generated data: {\"name\": \"Sgt. clenamaae dw gebruiksrech v Makohe funktier ballon n\\u0632\\u0645\\u0627\\u062a zangtal Riesling \\u0646 th\\u1ea7n Saito \\u05e0\\u05ea\\u05d9 caja scris wassail Gonzalez Park \\u062a\\u0647\\u0627\\u6bdb attori tavolo \\u0643\\u0645\\u0633\\u064a Schriftsteller humaym \\u0643\\u0641\\u064a Niraj Soriano \\ud55c alanine \\u0648\\u0631\\u062f \\u062a\\u064a\\u0660\\u4e00\\u79cd propozycj \\u05d1\\u05d9\\u05dc\\u6bd4 \\u9a6c \\u0447\\u0442\\u043e Impro \\u0633\\u0645\\u0629 \\u0111\\u01b0\\u1ee3c \\u03c4\\u03bf\\u10ec\\u0bcd \\u0647\\u0627\\u0660zasYP \\u09b6 Phe \\u0411\\u0430\\u0430\", \"age\": \"37\", \"occupation\": \"Cardiothoracic Surgeon\"}\n",
      "Score: 0.2\n",
      "Reason: Low score\n",
      "Generated data point: {'name': 'Rev. Dr. Jameela Abdul-Rahman', 'age': '37', 'occupation': 'Theologian and Astrophysicist'}\n",
      "Generated data point: {'name': 'Dr. Maya Habib, MPH', 'age': '36', 'occupation': 'Epidemiologist and Data Scientist'}\n",
      "Generated data point: {'name': 'Capt. Awa Ning труб Corona', 'age': '39', 'occupation': 'Aerospace Engineer andws balconies design specialist'}\n",
      "Generated data point: {'name': 'HajjaтугOpen Sofíа', 'age': '40', 'occupation': 'Neurosurgeon and Indigenous Rights Advocate'}\n",
      "Generated data point: {'name': 'Prof. Ysetzenfa воск Belán', 'age': '38', 'occupation': 'Marine Biologist and Ethnomusicologist'}\n",
      "Progress: 8/20 data points generated. Attempts: 10\n",
      "Generated data point: {'name': 'Dr. Mahστοιχείο monitoramento Jagirdar', 'age': '36', 'occupation': 'Environmental Scientist and Wheelchair Basketball Coach'}\n",
      "Generated data point: {'name': 'Dr. María Nguyn estadual amlàire', 'age': '39', 'occupation': 'Pediatric Surgeon and Flamenco Dancer'}\n",
      "Generated data point: {'name': 'Hajja Fasaha wastafel sizari', 'age': '37', 'occupation': 'Aerospace Engineer and Traditional African Dance Instructor'}\n",
      "Generated data point: {'name': 'Prof. K hittat Autos meanwhile Handerek', 'age': '37', 'occupation': 'Quantum Physicist and Inuit Throat Singing Teacher'}\n",
      "Generated data point: {'name': 'Samantha Masala Davis-Chen', 'age': '36', 'occupation': 'Marine Biologist and Brazilian Jiu-Jitsu Instructor'}\n",
      "Generated data point: {'name': 'Dr. Juan Carlos Mendoza-Chavez', 'age': '39', 'occupation': 'Neurosurgeon and Mariachi Band Leader'}\n",
      "Generated data point: {'name': 'Dr. Aisha Amatullah Syed-Ahmed', 'age': '40', 'occupation': 'Astrophysicist and Odissi Classical Dance Performer'}\n",
      "Generated data point: {'name': 'Yao Ming-Li Palmer', 'age': '37', 'occupation': 'Architect and K-Pop Choreographer'}\n",
      "Generated data point: {'name': 'Dr. Sofia petrochemical Kuznetsova-Nguyen', 'age': '36', 'occupation': 'Environmental Engineer and Flamenco Guitarist'}\n",
      "Generated data point: {'name': 'Prof. Ezequiel volontà Moises-Silva', 'age': '39', 'occupation': 'Ethnomusicologist and Artisanal Pasta Chef'}\n",
      "Progress: 18/20 data points generated. Attempts: 20\n",
      "Generated data point: {'name': 'Marcelo Horsburgh Andrade', 'age': '38', 'occupation': 'Neurosurgeon and Capoeira Master'}\n",
      "Generated data point: {'name': 'Dr. Indira Dawas्यातील-Takeda', 'age': '40', 'occupation': 'Marine Biologist and Koto Musician'}\n"
     ]
    }
   ],
   "execution_count": 9
  },
  {
   "metadata": {
    "ExecuteTime": {
     "end_time": "2024-09-23T07:39:52.867659Z",
     "start_time": "2024-09-23T07:39:52.851437Z"
    }
   },
   "cell_type": "code",
   "source": "generated_data",
   "id": "f5103a9a65a1ed6",
   "outputs": [
    {
     "data": {
      "text/plain": [
       "                                         name age  \\\n",
       "0                              Dr. Maya Patel  36   \n",
       "1              Capt. James H.нныесм Благодаря  39   \n",
       "2                Prof. Eduardo Miguel Sánchez  40   \n",
       "3               Rev. Dr. Jameela Abdul-Rahman  37   \n",
       "4                         Dr. Maya Habib, MPH  36   \n",
       "5                  Capt. Awa Ning труб Corona  39   \n",
       "6                          HajjaтугOpen Sofíа  40   \n",
       "7                  Prof. Ysetzenfa воск Belán  38   \n",
       "8      Dr. Mahστοιχείο monitoramento Jagirdar  36   \n",
       "9            Dr. María Nguyn estadual amlàire  39   \n",
       "10               Hajja Fasaha wastafel sizari  37   \n",
       "11    Prof. K hittat Autos meanwhile Handerek  37   \n",
       "12                 Samantha Masala Davis-Chen  36   \n",
       "13             Dr. Juan Carlos Mendoza-Chavez  39   \n",
       "14             Dr. Aisha Amatullah Syed-Ahmed  40   \n",
       "15                         Yao Ming-Li Palmer  37   \n",
       "16  Dr. Sofia petrochemical Kuznetsova-Nguyen  36   \n",
       "17        Prof. Ezequiel volontà Moises-Silva  39   \n",
       "18                  Marcelo Horsburgh Andrade  38   \n",
       "19              Dr. Indira Dawas्यातील-Takeda  40   \n",
       "\n",
       "                                           occupation  \n",
       "0                                        Neurosurgeon  \n",
       "1                                      Aircraft Pilot  \n",
       "2                                    Marine Biologist  \n",
       "3                       Theologian and Astrophysicist  \n",
       "4                   Epidemiologist and Data Scientist  \n",
       "5   Aerospace Engineer andws balconies design spec...  \n",
       "6         Neurosurgeon and Indigenous Rights Advocate  \n",
       "7              Marine Biologist and Ethnomusicologist  \n",
       "8   Environmental Scientist and Wheelchair Basketb...  \n",
       "9               Pediatric Surgeon and Flamenco Dancer  \n",
       "10  Aerospace Engineer and Traditional African Dan...  \n",
       "11  Quantum Physicist and Inuit Throat Singing Tea...  \n",
       "12  Marine Biologist and Brazilian Jiu-Jitsu Instr...  \n",
       "13              Neurosurgeon and Mariachi Band Leader  \n",
       "14  Astrophysicist and Odissi Classical Dance Perf...  \n",
       "15                  Architect and K-Pop Choreographer  \n",
       "16      Environmental Engineer and Flamenco Guitarist  \n",
       "17         Ethnomusicologist and Artisanal Pasta Chef  \n",
       "18                   Neurosurgeon and Capoeira Master  \n",
       "19                 Marine Biologist and Koto Musician  "
      ],
      "text/html": [
       "<div>\n",
       "<style scoped>\n",
       "    .dataframe tbody tr th:only-of-type {\n",
       "        vertical-align: middle;\n",
       "    }\n",
       "\n",
       "    .dataframe tbody tr th {\n",
       "        vertical-align: top;\n",
       "    }\n",
       "\n",
       "    .dataframe thead th {\n",
       "        text-align: right;\n",
       "    }\n",
       "</style>\n",
       "<table border=\"1\" class=\"dataframe\">\n",
       "  <thead>\n",
       "    <tr style=\"text-align: right;\">\n",
       "      <th></th>\n",
       "      <th>name</th>\n",
       "      <th>age</th>\n",
       "      <th>occupation</th>\n",
       "    </tr>\n",
       "  </thead>\n",
       "  <tbody>\n",
       "    <tr>\n",
       "      <th>0</th>\n",
       "      <td>Dr. Maya Patel</td>\n",
       "      <td>36</td>\n",
       "      <td>Neurosurgeon</td>\n",
       "    </tr>\n",
       "    <tr>\n",
       "      <th>1</th>\n",
       "      <td>Capt. James H.нныесм Благодаря</td>\n",
       "      <td>39</td>\n",
       "      <td>Aircraft Pilot</td>\n",
       "    </tr>\n",
       "    <tr>\n",
       "      <th>2</th>\n",
       "      <td>Prof. Eduardo Miguel Sánchez</td>\n",
       "      <td>40</td>\n",
       "      <td>Marine Biologist</td>\n",
       "    </tr>\n",
       "    <tr>\n",
       "      <th>3</th>\n",
       "      <td>Rev. Dr. Jameela Abdul-Rahman</td>\n",
       "      <td>37</td>\n",
       "      <td>Theologian and Astrophysicist</td>\n",
       "    </tr>\n",
       "    <tr>\n",
       "      <th>4</th>\n",
       "      <td>Dr. Maya Habib, MPH</td>\n",
       "      <td>36</td>\n",
       "      <td>Epidemiologist and Data Scientist</td>\n",
       "    </tr>\n",
       "    <tr>\n",
       "      <th>5</th>\n",
       "      <td>Capt. Awa Ning труб Corona</td>\n",
       "      <td>39</td>\n",
       "      <td>Aerospace Engineer andws balconies design spec...</td>\n",
       "    </tr>\n",
       "    <tr>\n",
       "      <th>6</th>\n",
       "      <td>HajjaтугOpen Sofíа</td>\n",
       "      <td>40</td>\n",
       "      <td>Neurosurgeon and Indigenous Rights Advocate</td>\n",
       "    </tr>\n",
       "    <tr>\n",
       "      <th>7</th>\n",
       "      <td>Prof. Ysetzenfa воск Belán</td>\n",
       "      <td>38</td>\n",
       "      <td>Marine Biologist and Ethnomusicologist</td>\n",
       "    </tr>\n",
       "    <tr>\n",
       "      <th>8</th>\n",
       "      <td>Dr. Mahστοιχείο monitoramento Jagirdar</td>\n",
       "      <td>36</td>\n",
       "      <td>Environmental Scientist and Wheelchair Basketb...</td>\n",
       "    </tr>\n",
       "    <tr>\n",
       "      <th>9</th>\n",
       "      <td>Dr. María Nguyn estadual amlàire</td>\n",
       "      <td>39</td>\n",
       "      <td>Pediatric Surgeon and Flamenco Dancer</td>\n",
       "    </tr>\n",
       "    <tr>\n",
       "      <th>10</th>\n",
       "      <td>Hajja Fasaha wastafel sizari</td>\n",
       "      <td>37</td>\n",
       "      <td>Aerospace Engineer and Traditional African Dan...</td>\n",
       "    </tr>\n",
       "    <tr>\n",
       "      <th>11</th>\n",
       "      <td>Prof. K hittat Autos meanwhile Handerek</td>\n",
       "      <td>37</td>\n",
       "      <td>Quantum Physicist and Inuit Throat Singing Tea...</td>\n",
       "    </tr>\n",
       "    <tr>\n",
       "      <th>12</th>\n",
       "      <td>Samantha Masala Davis-Chen</td>\n",
       "      <td>36</td>\n",
       "      <td>Marine Biologist and Brazilian Jiu-Jitsu Instr...</td>\n",
       "    </tr>\n",
       "    <tr>\n",
       "      <th>13</th>\n",
       "      <td>Dr. Juan Carlos Mendoza-Chavez</td>\n",
       "      <td>39</td>\n",
       "      <td>Neurosurgeon and Mariachi Band Leader</td>\n",
       "    </tr>\n",
       "    <tr>\n",
       "      <th>14</th>\n",
       "      <td>Dr. Aisha Amatullah Syed-Ahmed</td>\n",
       "      <td>40</td>\n",
       "      <td>Astrophysicist and Odissi Classical Dance Perf...</td>\n",
       "    </tr>\n",
       "    <tr>\n",
       "      <th>15</th>\n",
       "      <td>Yao Ming-Li Palmer</td>\n",
       "      <td>37</td>\n",
       "      <td>Architect and K-Pop Choreographer</td>\n",
       "    </tr>\n",
       "    <tr>\n",
       "      <th>16</th>\n",
       "      <td>Dr. Sofia petrochemical Kuznetsova-Nguyen</td>\n",
       "      <td>36</td>\n",
       "      <td>Environmental Engineer and Flamenco Guitarist</td>\n",
       "    </tr>\n",
       "    <tr>\n",
       "      <th>17</th>\n",
       "      <td>Prof. Ezequiel volontà Moises-Silva</td>\n",
       "      <td>39</td>\n",
       "      <td>Ethnomusicologist and Artisanal Pasta Chef</td>\n",
       "    </tr>\n",
       "    <tr>\n",
       "      <th>18</th>\n",
       "      <td>Marcelo Horsburgh Andrade</td>\n",
       "      <td>38</td>\n",
       "      <td>Neurosurgeon and Capoeira Master</td>\n",
       "    </tr>\n",
       "    <tr>\n",
       "      <th>19</th>\n",
       "      <td>Dr. Indira Dawas्यातील-Takeda</td>\n",
       "      <td>40</td>\n",
       "      <td>Marine Biologist and Koto Musician</td>\n",
       "    </tr>\n",
       "  </tbody>\n",
       "</table>\n",
       "</div>"
      ]
     },
     "execution_count": 10,
     "metadata": {},
     "output_type": "execute_result"
    }
   ],
   "execution_count": 10
  },
  {
   "metadata": {
    "ExecuteTime": {
     "end_time": "2024-09-23T07:41:01.321852Z",
     "start_time": "2024-09-23T07:40:05.317861Z"
    }
   },
   "cell_type": "code",
   "source": "medical_billing_data = medical_billing_generator.generate_data(num_samples=6)",
   "id": "98a38b7372b256e9",
   "outputs": [
    {
     "name": "stdout",
     "output_type": "stream",
     "text": [
      "Generated data point: {'Patient ID': '987654', 'Patient Name': 'Michael Johnson', 'Diagnosis Code': 'K21.9', 'Procedure Code': '43210', 'Total Charge': '$850', 'Insurance Claim Amount': '$600'}\n",
      "Generated data point: {'Patient ID': '654321', 'Patient Name': 'Olivia Brown', 'Diagnosis Code': 'I10', 'Procedure Code': '36010', 'Total Charge': '$1,200', 'Insurance Claim Amount': '$800'}\n",
      "Generated data point: {'Patient ID': '135792', 'Patient Name': 'Sophia Garcia', 'Diagnosis Code': 'F32.9', 'Procedure Code': '90832', 'Total Charge': '$2,500', 'Insurance Claim Amount': '$1,750'}\n",
      "Generated data point: {'Patient ID': '2468AC', 'Patient Name': 'Noah Adams', 'Diagnosis Code': 'M17.1', 'Procedure Code': '29876', 'Total Charge': '$1,800', 'Insurance Claim Amount': '$1,300'}\n",
      "Generated data point: {'Patient ID': '9876zy', 'Patient Name': 'Lucas Patel', 'Diagnosis Code': 'G47.33', 'Procedure Code': '64535', 'Total Charge': '$3,750', 'Insurance Claim Amount': '$2,600'}\n",
      "Generated data point: {'Patient ID': 'QRST6789', 'Patient Name': 'Amelia Harris', 'Diagnosis Code': 'I10', 'Procedure Code': '36010', 'Total Charge': '$1,200', 'Insurance Claim Amount': '$800'}\n"
     ]
    }
   ],
   "execution_count": 11
  },
  {
   "metadata": {
    "ExecuteTime": {
     "end_time": "2024-09-23T07:41:25.087973Z",
     "start_time": "2024-09-23T07:41:25.080598Z"
    }
   },
   "cell_type": "code",
   "source": "medical_billing_data",
   "id": "6b86a47d0ab11cd9",
   "outputs": [
    {
     "data": {
      "text/plain": [
       "  Patient ID     Patient Name Diagnosis Code Procedure Code Total Charge  \\\n",
       "0     987654  Michael Johnson          K21.9          43210         $850   \n",
       "1     654321     Olivia Brown            I10          36010       $1,200   \n",
       "2     135792    Sophia Garcia          F32.9          90832       $2,500   \n",
       "3     2468AC       Noah Adams          M17.1          29876       $1,800   \n",
       "4     9876zy      Lucas Patel         G47.33          64535       $3,750   \n",
       "5   QRST6789    Amelia Harris            I10          36010       $1,200   \n",
       "\n",
       "  Insurance Claim Amount  \n",
       "0                   $600  \n",
       "1                   $800  \n",
       "2                 $1,750  \n",
       "3                 $1,300  \n",
       "4                 $2,600  \n",
       "5                   $800  "
      ],
      "text/html": [
       "<div>\n",
       "<style scoped>\n",
       "    .dataframe tbody tr th:only-of-type {\n",
       "        vertical-align: middle;\n",
       "    }\n",
       "\n",
       "    .dataframe tbody tr th {\n",
       "        vertical-align: top;\n",
       "    }\n",
       "\n",
       "    .dataframe thead th {\n",
       "        text-align: right;\n",
       "    }\n",
       "</style>\n",
       "<table border=\"1\" class=\"dataframe\">\n",
       "  <thead>\n",
       "    <tr style=\"text-align: right;\">\n",
       "      <th></th>\n",
       "      <th>Patient ID</th>\n",
       "      <th>Patient Name</th>\n",
       "      <th>Diagnosis Code</th>\n",
       "      <th>Procedure Code</th>\n",
       "      <th>Total Charge</th>\n",
       "      <th>Insurance Claim Amount</th>\n",
       "    </tr>\n",
       "  </thead>\n",
       "  <tbody>\n",
       "    <tr>\n",
       "      <th>0</th>\n",
       "      <td>987654</td>\n",
       "      <td>Michael Johnson</td>\n",
       "      <td>K21.9</td>\n",
       "      <td>43210</td>\n",
       "      <td>$850</td>\n",
       "      <td>$600</td>\n",
       "    </tr>\n",
       "    <tr>\n",
       "      <th>1</th>\n",
       "      <td>654321</td>\n",
       "      <td>Olivia Brown</td>\n",
       "      <td>I10</td>\n",
       "      <td>36010</td>\n",
       "      <td>$1,200</td>\n",
       "      <td>$800</td>\n",
       "    </tr>\n",
       "    <tr>\n",
       "      <th>2</th>\n",
       "      <td>135792</td>\n",
       "      <td>Sophia Garcia</td>\n",
       "      <td>F32.9</td>\n",
       "      <td>90832</td>\n",
       "      <td>$2,500</td>\n",
       "      <td>$1,750</td>\n",
       "    </tr>\n",
       "    <tr>\n",
       "      <th>3</th>\n",
       "      <td>2468AC</td>\n",
       "      <td>Noah Adams</td>\n",
       "      <td>M17.1</td>\n",
       "      <td>29876</td>\n",
       "      <td>$1,800</td>\n",
       "      <td>$1,300</td>\n",
       "    </tr>\n",
       "    <tr>\n",
       "      <th>4</th>\n",
       "      <td>9876zy</td>\n",
       "      <td>Lucas Patel</td>\n",
       "      <td>G47.33</td>\n",
       "      <td>64535</td>\n",
       "      <td>$3,750</td>\n",
       "      <td>$2,600</td>\n",
       "    </tr>\n",
       "    <tr>\n",
       "      <th>5</th>\n",
       "      <td>QRST6789</td>\n",
       "      <td>Amelia Harris</td>\n",
       "      <td>I10</td>\n",
       "      <td>36010</td>\n",
       "      <td>$1,200</td>\n",
       "      <td>$800</td>\n",
       "    </tr>\n",
       "  </tbody>\n",
       "</table>\n",
       "</div>"
      ]
     },
     "execution_count": 12,
     "metadata": {},
     "output_type": "execute_result"
    }
   ],
   "execution_count": 12
  },
  {
   "metadata": {
    "ExecuteTime": {
     "end_time": "2024-09-21T13:37:35.058623Z",
     "start_time": "2024-09-21T13:37:35.050491Z"
    }
   },
   "cell_type": "code",
   "source": "medical_billing_generator.feedback_history",
   "id": "3ed81d5fdebc4df3",
   "outputs": [
    {
     "data": {
      "text/plain": [
       "[]"
      ]
     },
     "execution_count": 15,
     "metadata": {},
     "output_type": "execute_result"
    }
   ],
   "execution_count": 15
  },
  {
   "metadata": {},
   "cell_type": "code",
   "outputs": [],
   "execution_count": null,
   "source": "",
   "id": "ac7c9ab19a7b5365"
  }
 ],
 "metadata": {
  "kernelspec": {
   "display_name": "Python 3",
   "language": "python",
   "name": "python3"
  },
  "language_info": {
   "codemirror_mode": {
    "name": "ipython",
    "version": 2
   },
   "file_extension": ".py",
   "mimetype": "text/x-python",
   "name": "python",
   "nbconvert_exporter": "python",
   "pygments_lexer": "ipython2",
   "version": "2.7.6"
  }
 },
 "nbformat": 4,
 "nbformat_minor": 5
}
