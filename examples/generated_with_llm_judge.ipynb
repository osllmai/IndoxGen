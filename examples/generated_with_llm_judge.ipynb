{
 "cells": [
  {
   "metadata": {},
   "cell_type": "markdown",
   "source": "[![Open In Colab](https://colab.research.google.com/assets/colab-badge.svg)](https://colab.research.google.com/github/osllmai/indoxGen/blob/master/examples/generated_with_llm_judge.ipynb)",
   "id": "6d61ef18899b9d92"
  },
  {
   "metadata": {},
   "cell_type": "code",
   "source": [
    "%pip install indoxGen\n",
    "%pip install openai"
   ],
   "id": "ed51bfb31f4e49d3",
   "outputs": [],
   "execution_count": null
  },
  {
   "cell_type": "code",
   "id": "initial_id",
   "metadata": {
    "collapsed": true,
    "ExecuteTime": {
     "end_time": "2024-10-19T16:15:04.614776Z",
     "start_time": "2024-10-19T16:15:04.556057Z"
    }
   },
   "source": [
    "import os\n",
    "from dotenv import load_dotenv\n",
    "\n",
    "load_dotenv()\n",
    "OPENAI_API_KEY = os.environ['OPENAI_API_KEY']\n",
    "NVIDIA_API_KEY = os.environ['NVIDIA_API_KEY']"
   ],
   "outputs": [],
   "execution_count": 1
  },
  {
   "metadata": {},
   "cell_type": "markdown",
   "source": [
    "### Example Data:\n",
    "\n",
    "This cell defines two sets of columns and corresponding example data for generating synthetic data, one focused on general demographic information and the other on medical data.\n",
    "\n",
    "1. **General Data**:\n",
    "   - `columns`: A list of three column names: `\"name\"`, `\"age\"`, and `\"occupation\"`. These represent typical demographic information fields.\n",
    "   - `example_data`: A list of dictionaries where each dictionary represents a person's demographic data. Two individuals are included:\n",
    "     - **Alice Johnson** (35 years old, Manager).\n",
    "     - **Bob Williams** (42 years old, Accountant).\n",
    "\n",
    "2. **Medical Data**:\n",
    "   - `columns_medical`: A list of six column names related to medical records, including `\"Patient ID\"`, `\"Patient Name\"`, `\"Diagnosis Code\"`, `\"Procedure Code\"`, `\"Total Charge\"`, and `\"Insurance Claim Amount\"`.\n",
    "   - `examples_medical`: A list of dictionaries containing medical examples in string format. Each dictionary provides a description of a patient's visit, including the patient ID, name, diagnosis code (e.g., ICD-10), procedure code (e.g., CPT), total charge, and the insurance claim amount.\n",
    "     - **Example 1**: Patient John Doe with diagnosis code J20.9 (acute bronchitis) and procedure 99203 (office visit).\n",
    "     - **Example 2**: Patient Johnson Smith with diagnosis code M54.5 (low back pain) and procedure 99213 (office visit).\n",
    "     - **Example 3**: Patient Emily Stone with diagnosis code E11.9 (type 2 diabetes) and procedure 99214 (office visit).\n",
    "\n",
    "This setup lays the foundation for generating two distinct types of synthetic datasets: one focusing on demographic data and the other on medical records. Each data type will likely follow different generation methods.\n"
   ],
   "id": "578ce38b1e86b549"
  },
  {
   "metadata": {
    "ExecuteTime": {
     "end_time": "2024-10-19T16:15:05.912955Z",
     "start_time": "2024-10-19T16:15:05.908129Z"
    }
   },
   "cell_type": "code",
   "source": [
    "columns = [\"name\", \"age\", \"occupation\"]\n",
    "example_data = [\n",
    "    {\"name\": \"Alice Johnson\", \"age\": 35, \"occupation\": \"Manager\"},\n",
    "    {\"name\": \"Bob Williams\", \"age\": 42, \"occupation\": \"Accountant\"}\n",
    "]\n",
    "\n",
    "columns_medical = [\"Patient ID\",\"Patient Name\",\"Diagnosis Code\",\"Procedure Code\",\"Total Charge\",\"Insurance Claim Amount\"]\n",
    "examples_medical = [\n",
    "    {\n",
    "        \"example\": \"\"\"Patient ID: 123456, Patient Name: John Doe, Diagnosis Code: \n",
    "        J20.9, Procedure Code: 99203, Total Charge: $500, Insurance Claim Amount: $350\"\"\"\n",
    "    },\n",
    "    {\n",
    "        \"example\": \"\"\"Patient ID: 789012, Patient Name: Johnson Smith, Diagnosis \n",
    "        Code: M54.5, Procedure Code: 99213, Total Charge: $150, Insurance Claim Amount: $120\"\"\"\n",
    "    },\n",
    "    {\n",
    "        \"example\": \"\"\"Patient ID: 345678, Patient Name: Emily Stone, Diagnosis Code: \n",
    "        E11.9, Procedure Code: 99214, Total Charge: $300, Insurance Claim Amount: $250\"\"\"\n",
    "    },\n",
    "]"
   ],
   "id": "f82dbf11365f0308",
   "outputs": [],
   "execution_count": 2
  },
  {
   "metadata": {},
   "cell_type": "markdown",
   "source": [
    "### Setting Up API Clients for Synthetic Data Generation\n",
    "\n",
    "This cell establishes connections to two API clients, which are used to interact with large language models (LLMs) for synthetic data generation tasks.\n",
    "\n",
    "1. **Imports**:\n",
    "   - `from indoxGen.llms import OpenAi`: Imports the `OpenAi` class from the `indoxGen.llms` module, enabling access to the OpenAI API for generating synthetic data.\n",
    "\n",
    "2. **Initialization of API Clients**:\n",
    "   - **OpenAI Client**:\n",
    "     ```python\n",
    "     openai = OpenAi(api_key=OPENAI_API_KEY, model=\"gpt-4o-mini\")\n",
    "     ```\n",
    "     Initializes an `OpenAi` client using the provided `OPENAI_API_KEY` to connect to the `\"gpt-4o-mini\"` model. This client will be used for generating synthetic data based on the GPT-4 mini variant, providing more lightweight and efficient data generation.\n",
    "\n",
    "   - **Nemotron (NVIDIA) Client**:\n",
    "     ```python\n",
    "     nemotron = OpenAi(api_key=NVIDIA_API_KEY, model=\"nvidia/nemotron-4-340b-instruct\", base_url=\"https://integrate.api.nvidia.com/v1\")\n",
    "     ```\n",
    "     Initializes another `OpenAi` client, this time for interacting with the `\"nvidia/nemotron-4-340b-instruct\"` model, using the `NVIDIA_API_KEY` and connecting to NVIDIA's integration API via the `base_url`. The Nemotron model is a high-capacity language model designed for complex data generation tasks.\n",
    "\n",
    "This setup allows for generating synthetic data using two different models: the lightweight GPT-4 mini for more general tasks and the NVIDIA Nemotron model for heavier, more complex data generation.\n"
   ],
   "id": "381b8b8b7d0d7d3b"
  },
  {
   "metadata": {
    "ExecuteTime": {
     "end_time": "2024-10-19T16:15:20.935743Z",
     "start_time": "2024-10-19T16:15:16.670054Z"
    }
   },
   "cell_type": "code",
   "source": [
    "from libs.indoxGen.indoxGen.llms import OpenAi\n",
    "\n",
    "openai = OpenAi(api_key=OPENAI_API_KEY,model=\"gpt-4o-mini\")\n",
    "\n",
    "nemotron = OpenAi(api_key=NVIDIA_API_KEY, model=\"nvidia/nemotron-4-340b-instruct\",\n",
    "                  base_url=\"https://integrate.api.nvidia.com/v1\")"
   ],
   "id": "7886a22687c5aa3b",
   "outputs": [],
   "execution_count": 3
  },
  {
   "metadata": {},
   "cell_type": "markdown",
   "source": [
    "### Initializing Synthetic Data Generator\n",
    "\n",
    "This cell sets up the synthetic data generation pipeline by initializing an instance of `SyntheticDataGenerator`. The generator leverages two language models (LLMs) to create realistic synthetic data based on the provided examples and user instructions.\n",
    "\n",
    "1. **Imports**:\n",
    "   - `from indoxGen.synthCore import SyntheticDataGenerator`: Imports the `SyntheticDataGenerator` class from the `indoxGen.synthCore` module, which is responsible for generating synthetic data based on specified parameters.\n",
    "\n",
    "2. **Initializing the `SyntheticDataGenerator`**:\n",
    "    The `SyntheticDataGenerator` is initialized with the following parameters:\n",
    "- **generator_llm**: The main language model (`nemotron`) used for generating the synthetic data.\n",
    "- **judge_llm**: A secondary language model (`openai`) used for evaluating the generated data, ensuring its quality and accuracy.\n",
    "- **columns**: Specifies the structure of the synthetic data, including `\"name\"`, `\"age\"`, and `\"occupation\"`.\n",
    "- **example_data**: Provides example entries to guide the generation process.\n",
    "- **user_instruction**: A detailed instruction for generating synthetic data, ensuring diversity in names, ages, occupations, and race. It also ensures that the generated data covers both common and rare procedures, along with appropriate age ranges.\n",
    "- **verbose**: Controls the verbosity of the generator, with `1` enabling detailed output during the generation process.\n"
   ],
   "id": "c98df6c4483d30d4"
  },
  {
   "metadata": {
    "ExecuteTime": {
     "end_time": "2024-10-19T16:16:02.818551Z",
     "start_time": "2024-10-19T16:16:02.765632Z"
    }
   },
   "cell_type": "code",
   "source": [
    "from libs.indoxGen.indoxGen.synthCore import GenerativeDataSynth\n",
    "generator = GenerativeDataSynth(\n",
    "    generator_llm=openai,\n",
    "    columns=columns,\n",
    "    example_data=example_data,\n",
    "    user_instruction=\"Generate realistic data including name, age and occupation. Ensure a mix of common and rare procedures, varying race, and appropriate date ranges for age.\",\n",
    "    verbose=1\n",
    ")"
   ],
   "id": "34e00ba1ebf7160b",
   "outputs": [],
   "execution_count": 5
  },
  {
   "metadata": {
    "ExecuteTime": {
     "end_time": "2024-09-30T16:27:16.454041Z",
     "start_time": "2024-09-30T16:27:16.450595Z"
    }
   },
   "cell_type": "code",
   "source": [
    "medical_billing_generator = GenerativeDataSynth(\n",
    "    generator_llm=nemotron,\n",
    "    judge_llm=openai,\n",
    "    columns=columns_medical,\n",
    "    example_data=examples_medical,\n",
    "    user_instruction=\"Generate realistic medical billing data including patient IDs, Patient Name, diagnosis codes, Total Charge, and Insurance Claim Amount. Ensure a mix of common and rare procedures, varying charge amounts, and appropriate date ranges for a typical healthcare provider.\",\n",
    "    verbose=1\n",
    ")"
   ],
   "id": "6cc5f5785a2109fe",
   "outputs": [],
   "execution_count": 5
  },
  {
   "metadata": {},
   "cell_type": "markdown",
   "source": [
    "### Generating Synthetic Data\n",
    "\n",
    "This cell generates synthetic data based on the configuration of the `SyntheticDataGenerator` instance.\n",
    "\n",
    "- **generated_data**: The result of calling the `generate_data` method on the `generator` instance. It stores the synthetic data created by the language model.\n",
    "  \n",
    "- **num_samples=20**: Specifies that the generator should create 20 samples of synthetic data. This controls the size of the output dataset.\n",
    "\n",
    "The generated data will follow the structure and content outlined in the `columns`, `example_data`, and `user_instruction` provided earlier, with the `generator_llm` producing the data and the `judge_llm` validating it for quality and accuracy.\n"
   ],
   "id": "9fd3bfbffb672690"
  },
  {
   "metadata": {
    "ExecuteTime": {
     "end_time": "2024-10-19T16:16:29.607241Z",
     "start_time": "2024-10-19T16:16:11.602269Z"
    }
   },
   "cell_type": "code",
   "source": [
    "# Generate data\n",
    "generated_data = generator.generate_data(num_samples=20)"
   ],
   "id": "ae599a029c38fa30",
   "outputs": [
    {
     "name": "stdout",
     "output_type": "stream",
     "text": [
      "\u001B[32mINFO\u001B[0m: \u001B[1mGenerated data point: {'name': 'Ravi Patel', 'age': '39', 'occupation': 'Software Engineer'}\u001B[0m\n",
      "\u001B[32mINFO\u001B[0m: \u001B[1mGenerated data point: {'name': 'Fatima Khan', 'age': '37', 'occupation': 'Graphic Designer'}\u001B[0m\n",
      "\u001B[32mINFO\u001B[0m: \u001B[1mGenerated data point: {'name': 'Marcus Chen', 'age': '41', 'occupation': 'Data Scientist'}\u001B[0m\n",
      "\u001B[32mINFO\u001B[0m: \u001B[1mGenerated data point: {'name': 'Sofia Martinez', 'age': '36', 'occupation': 'Marketing Specialist'}\u001B[0m\n",
      "\u001B[32mINFO\u001B[0m: \u001B[1mGenerated data point: {'name': \"Liam O'Connor\", 'age': '39', 'occupation': 'Civil Engineer'}\u001B[0m\n",
      "\u001B[32mINFO\u001B[0m: \u001B[1mGenerated data point: {'name': 'Priya Patel', 'age': '37', 'occupation': 'Healthcare Administrator'}\u001B[0m\n",
      "\u001B[32mINFO\u001B[0m: \u001B[1mGenerated data point: {'name': 'Marcus Chen', 'age': '41', 'occupation': 'Data Scientist'}\u001B[0m\n",
      "\u001B[32mINFO\u001B[0m: \u001B[1mGenerated data point: {'name': 'Fatima Al-Mansoori', 'age': '36', 'occupation': 'Marketing Specialist'}\u001B[0m\n",
      "\u001B[32mINFO\u001B[0m: \u001B[1mGenerated data point: {'name': 'Jamal Robinson', 'age': '39', 'occupation': 'Civil Engineer'}\u001B[0m\n",
      "\u001B[32mINFO\u001B[0m: \u001B[1mGenerated data point: {'name': 'Priya Patel', 'age': '37', 'occupation': 'Healthcare Administrator'}\u001B[0m\n",
      "\u001B[32mINFO\u001B[0m: \u001B[1mProgress: 10/20 data points generated. Attempts: 10\u001B[0m\n",
      "\u001B[32mINFO\u001B[0m: \u001B[1mGenerated data point: {'name': \"Liam O'Sullivan\", 'age': '41', 'occupation': 'Data Scientist'}\u001B[0m\n",
      "\u001B[32mINFO\u001B[0m: \u001B[1mGenerated data point: {'name': 'Fatima Khan', 'age': '36', 'occupation': 'Marketing Specialist'}\u001B[0m\n",
      "\u001B[32mINFO\u001B[0m: \u001B[1mGenerated data point: {'name': 'Marcus Chen', 'age': '39', 'occupation': 'Civil Engineer'}\u001B[0m\n",
      "\u001B[32mINFO\u001B[0m: \u001B[1mGenerated data point: {'name': 'Sofia Patel', 'age': '37', 'occupation': 'Healthcare Administrator'}\u001B[0m\n",
      "\u001B[32mINFO\u001B[0m: \u001B[1mGenerated data point: {'name': 'Jamal Robinson', 'age': '41', 'occupation': 'Data Scientist'}\u001B[0m\n",
      "\u001B[32mINFO\u001B[0m: \u001B[1mGenerated data point: {'name': 'Fatima Al-Mansoori', 'age': '36', 'occupation': 'Marketing Specialist'}\u001B[0m\n",
      "\u001B[32mINFO\u001B[0m: \u001B[1mGenerated data point: {'name': 'Liam Chen', 'age': '39', 'occupation': 'Civil Engineer'}\u001B[0m\n",
      "\u001B[32mINFO\u001B[0m: \u001B[1mGenerated data point: {'name': 'Sofia Patel', 'age': '37', 'occupation': 'Healthcare Administrator'}\u001B[0m\n",
      "\u001B[32mINFO\u001B[0m: \u001B[1mGenerated data point: {'name': 'Marcus Thompson', 'age': '41', 'occupation': 'Data Scientist'}\u001B[0m\n",
      "\u001B[32mINFO\u001B[0m: \u001B[1mGenerated data point: {'name': 'Fatima Al-Mansoori', 'age': '36', 'occupation': 'Marketing Specialist'}\u001B[0m\n",
      "\u001B[32mINFO\u001B[0m: \u001B[1mProgress: 20/20 data points generated. Attempts: 20\u001B[0m\n"
     ]
    }
   ],
   "execution_count": 6
  },
  {
   "metadata": {
    "ExecuteTime": {
     "end_time": "2024-09-30T15:49:08.535729Z",
     "start_time": "2024-09-30T15:49:08.507567Z"
    }
   },
   "cell_type": "code",
   "source": "generated_data",
   "id": "f5103a9a65a1ed6",
   "outputs": [
    {
     "data": {
      "text/plain": [
       "                       name age  \\\n",
       "0            Dr. Maya Patel  37   \n",
       "1     Capt. Jamal Al-Rashid  39   \n",
       "2           Prof. Yuko Sato  36   \n",
       "3       Rev. Carlos Mendoza  38   \n",
       "4          Dr. Indira Patel  37   \n",
       "5     Maj. Thandiwe Ngwenya  39   \n",
       "6      Prof. Hana Yamaguchi  36   \n",
       "7      Rev. James O'Connell  38   \n",
       "8          Dr. Indira Patel  40   \n",
       "9       Maj. Carlos Mendoza  39   \n",
       "10     Prof. Yuko Takahashi  36   \n",
       "11       Rev. James O'Brien  37   \n",
       "12         Dr. Indira Patel  38   \n",
       "13        Maj. Maria Garcia  39   \n",
       "14          Prof. Yuko Sato  41   \n",
       "15       Rev. James O'Brien  36   \n",
       "16         Dr. Indira Patel  37   \n",
       "17        Marcelo Gonçalves  39   \n",
       "18          Capt. Grace Kim  40   \n",
       "19  Prof. Yasmine Abdelaziz  36   \n",
       "\n",
       "                                           occupation  \n",
       "0                                        Neurosurgeon  \n",
       "1                                      Aircraft Pilot  \n",
       "2                                    Marine Biologist  \n",
       "3                                       Social Worker  \n",
       "4                                        Neurosurgeon  \n",
       "5                                  Aerospace Engineer  \n",
       "6                                    Marine Biologist  \n",
       "7                          Chaplain and Social Worker  \n",
       "8                                        Neurosurgeon  \n",
       "9                   Aerospace Engineer and Test Pilot  \n",
       "10   Materials Scientist and Professor of Engineering  \n",
       "11                         Chaplain and Social Worker  \n",
       "12                Neurosurgeon and Medical Researcher  \n",
       "13            Aerospace Engineer and Military Officer  \n",
       "14  Linguistics Professor and Sign Language Interp...  \n",
       "15                         Chaplain and Social Worker  \n",
       "16      Pediatric Cardiologist and Medical Researcher  \n",
       "17            Astrophysicist and Science Communicator  \n",
       "18               Naval Aviator and Aerospace Engineer  \n",
       "19  Archaeologist and Professor of Ancient History...  "
      ],
      "text/html": [
       "<div>\n",
       "<style scoped>\n",
       "    .dataframe tbody tr th:only-of-type {\n",
       "        vertical-align: middle;\n",
       "    }\n",
       "\n",
       "    .dataframe tbody tr th {\n",
       "        vertical-align: top;\n",
       "    }\n",
       "\n",
       "    .dataframe thead th {\n",
       "        text-align: right;\n",
       "    }\n",
       "</style>\n",
       "<table border=\"1\" class=\"dataframe\">\n",
       "  <thead>\n",
       "    <tr style=\"text-align: right;\">\n",
       "      <th></th>\n",
       "      <th>name</th>\n",
       "      <th>age</th>\n",
       "      <th>occupation</th>\n",
       "    </tr>\n",
       "  </thead>\n",
       "  <tbody>\n",
       "    <tr>\n",
       "      <th>0</th>\n",
       "      <td>Dr. Maya Patel</td>\n",
       "      <td>37</td>\n",
       "      <td>Neurosurgeon</td>\n",
       "    </tr>\n",
       "    <tr>\n",
       "      <th>1</th>\n",
       "      <td>Capt. Jamal Al-Rashid</td>\n",
       "      <td>39</td>\n",
       "      <td>Aircraft Pilot</td>\n",
       "    </tr>\n",
       "    <tr>\n",
       "      <th>2</th>\n",
       "      <td>Prof. Yuko Sato</td>\n",
       "      <td>36</td>\n",
       "      <td>Marine Biologist</td>\n",
       "    </tr>\n",
       "    <tr>\n",
       "      <th>3</th>\n",
       "      <td>Rev. Carlos Mendoza</td>\n",
       "      <td>38</td>\n",
       "      <td>Social Worker</td>\n",
       "    </tr>\n",
       "    <tr>\n",
       "      <th>4</th>\n",
       "      <td>Dr. Indira Patel</td>\n",
       "      <td>37</td>\n",
       "      <td>Neurosurgeon</td>\n",
       "    </tr>\n",
       "    <tr>\n",
       "      <th>5</th>\n",
       "      <td>Maj. Thandiwe Ngwenya</td>\n",
       "      <td>39</td>\n",
       "      <td>Aerospace Engineer</td>\n",
       "    </tr>\n",
       "    <tr>\n",
       "      <th>6</th>\n",
       "      <td>Prof. Hana Yamaguchi</td>\n",
       "      <td>36</td>\n",
       "      <td>Marine Biologist</td>\n",
       "    </tr>\n",
       "    <tr>\n",
       "      <th>7</th>\n",
       "      <td>Rev. James O'Connell</td>\n",
       "      <td>38</td>\n",
       "      <td>Chaplain and Social Worker</td>\n",
       "    </tr>\n",
       "    <tr>\n",
       "      <th>8</th>\n",
       "      <td>Dr. Indira Patel</td>\n",
       "      <td>40</td>\n",
       "      <td>Neurosurgeon</td>\n",
       "    </tr>\n",
       "    <tr>\n",
       "      <th>9</th>\n",
       "      <td>Maj. Carlos Mendoza</td>\n",
       "      <td>39</td>\n",
       "      <td>Aerospace Engineer and Test Pilot</td>\n",
       "    </tr>\n",
       "    <tr>\n",
       "      <th>10</th>\n",
       "      <td>Prof. Yuko Takahashi</td>\n",
       "      <td>36</td>\n",
       "      <td>Materials Scientist and Professor of Engineering</td>\n",
       "    </tr>\n",
       "    <tr>\n",
       "      <th>11</th>\n",
       "      <td>Rev. James O'Brien</td>\n",
       "      <td>37</td>\n",
       "      <td>Chaplain and Social Worker</td>\n",
       "    </tr>\n",
       "    <tr>\n",
       "      <th>12</th>\n",
       "      <td>Dr. Indira Patel</td>\n",
       "      <td>38</td>\n",
       "      <td>Neurosurgeon and Medical Researcher</td>\n",
       "    </tr>\n",
       "    <tr>\n",
       "      <th>13</th>\n",
       "      <td>Maj. Maria Garcia</td>\n",
       "      <td>39</td>\n",
       "      <td>Aerospace Engineer and Military Officer</td>\n",
       "    </tr>\n",
       "    <tr>\n",
       "      <th>14</th>\n",
       "      <td>Prof. Yuko Sato</td>\n",
       "      <td>41</td>\n",
       "      <td>Linguistics Professor and Sign Language Interp...</td>\n",
       "    </tr>\n",
       "    <tr>\n",
       "      <th>15</th>\n",
       "      <td>Rev. James O'Brien</td>\n",
       "      <td>36</td>\n",
       "      <td>Chaplain and Social Worker</td>\n",
       "    </tr>\n",
       "    <tr>\n",
       "      <th>16</th>\n",
       "      <td>Dr. Indira Patel</td>\n",
       "      <td>37</td>\n",
       "      <td>Pediatric Cardiologist and Medical Researcher</td>\n",
       "    </tr>\n",
       "    <tr>\n",
       "      <th>17</th>\n",
       "      <td>Marcelo Gonçalves</td>\n",
       "      <td>39</td>\n",
       "      <td>Astrophysicist and Science Communicator</td>\n",
       "    </tr>\n",
       "    <tr>\n",
       "      <th>18</th>\n",
       "      <td>Capt. Grace Kim</td>\n",
       "      <td>40</td>\n",
       "      <td>Naval Aviator and Aerospace Engineer</td>\n",
       "    </tr>\n",
       "    <tr>\n",
       "      <th>19</th>\n",
       "      <td>Prof. Yasmine Abdelaziz</td>\n",
       "      <td>36</td>\n",
       "      <td>Archaeologist and Professor of Ancient History...</td>\n",
       "    </tr>\n",
       "  </tbody>\n",
       "</table>\n",
       "</div>"
      ]
     },
     "execution_count": 6,
     "metadata": {},
     "output_type": "execute_result"
    }
   ],
   "execution_count": 6
  },
  {
   "metadata": {
    "ExecuteTime": {
     "end_time": "2024-09-24T16:36:25.663281Z",
     "start_time": "2024-09-24T16:35:33.545446Z"
    }
   },
   "cell_type": "code",
   "source": "medical_billing_data = medical_billing_generator.generate_data(num_samples=6)",
   "id": "98a38b7372b256e9",
   "outputs": [
    {
     "name": "stdout",
     "output_type": "stream",
     "text": [
      "Generated data point: {'Patient ID': '987654', 'Patient Name': 'Olivia Brown', 'Diagnosis Code': 'I10', 'Procedure Code': '36415', 'Total Charge': '$2,500', 'Insurance Claim Amount': '$2,000'}\n",
      "Generated data point: {'Patient ID': '654321', 'Patient Name': 'Michael Davis', 'Diagnosis Code': 'K21.9', 'Procedure Code': '43235', 'Total Charge': '$1,800', 'Insurance Claim Amount': '$1,500'}\n",
      "Generated data point: {'Patient ID': '135792', 'Patient Name': 'Sophia Williams', 'Diagnosis Code': 'G47.33', 'Procedure Code': '92551', 'Total Charge': '$1,250', 'Insurance Claim Amount': '$1,000'}\n",
      "Generated data point: {'Patient ID': '246813', 'Patient Name': 'Ava Thompson', 'Diagnosis Code': 'F32.9', 'Procedure Code': '90837', 'Total Charge': '$1,750', 'Insurance Claim Amount': '$1,400'}\n",
      "Generated data point: {'Patient ID': '987654', 'Patient Name': 'Benjamin Brown', 'Diagnosis Code': 'I10', 'Procedure Code': '36.12', 'Total Charge': '$2,500', 'Insurance Claim Amount': '$2,000'}\n",
      "Generated data point: {'Patient ID': '678901', 'Patient Name': 'Isabella Johnson', 'Diagnosis Code': 'N18.9', 'Procedure Code': '50.59', 'Total Charge': '$3,800', 'Insurance Claim Amount': '$3,200'}\n"
     ]
    }
   ],
   "execution_count": 9
  },
  {
   "metadata": {
    "ExecuteTime": {
     "end_time": "2024-09-24T16:36:25.672414Z",
     "start_time": "2024-09-24T16:36:25.663281Z"
    }
   },
   "cell_type": "code",
   "source": "medical_billing_data",
   "id": "6b86a47d0ab11cd9",
   "outputs": [
    {
     "data": {
      "text/plain": [
       "  Patient ID      Patient Name Diagnosis Code Procedure Code Total Charge  \\\n",
       "0     987654      Olivia Brown            I10          36415       $2,500   \n",
       "1     654321     Michael Davis          K21.9          43235       $1,800   \n",
       "2     135792   Sophia Williams         G47.33          92551       $1,250   \n",
       "3     246813      Ava Thompson          F32.9          90837       $1,750   \n",
       "4     987654    Benjamin Brown            I10          36.12       $2,500   \n",
       "5     678901  Isabella Johnson          N18.9          50.59       $3,800   \n",
       "\n",
       "  Insurance Claim Amount  \n",
       "0                 $2,000  \n",
       "1                 $1,500  \n",
       "2                 $1,000  \n",
       "3                 $1,400  \n",
       "4                 $2,000  \n",
       "5                 $3,200  "
      ],
      "text/html": [
       "<div>\n",
       "<style scoped>\n",
       "    .dataframe tbody tr th:only-of-type {\n",
       "        vertical-align: middle;\n",
       "    }\n",
       "\n",
       "    .dataframe tbody tr th {\n",
       "        vertical-align: top;\n",
       "    }\n",
       "\n",
       "    .dataframe thead th {\n",
       "        text-align: right;\n",
       "    }\n",
       "</style>\n",
       "<table border=\"1\" class=\"dataframe\">\n",
       "  <thead>\n",
       "    <tr style=\"text-align: right;\">\n",
       "      <th></th>\n",
       "      <th>Patient ID</th>\n",
       "      <th>Patient Name</th>\n",
       "      <th>Diagnosis Code</th>\n",
       "      <th>Procedure Code</th>\n",
       "      <th>Total Charge</th>\n",
       "      <th>Insurance Claim Amount</th>\n",
       "    </tr>\n",
       "  </thead>\n",
       "  <tbody>\n",
       "    <tr>\n",
       "      <th>0</th>\n",
       "      <td>987654</td>\n",
       "      <td>Olivia Brown</td>\n",
       "      <td>I10</td>\n",
       "      <td>36415</td>\n",
       "      <td>$2,500</td>\n",
       "      <td>$2,000</td>\n",
       "    </tr>\n",
       "    <tr>\n",
       "      <th>1</th>\n",
       "      <td>654321</td>\n",
       "      <td>Michael Davis</td>\n",
       "      <td>K21.9</td>\n",
       "      <td>43235</td>\n",
       "      <td>$1,800</td>\n",
       "      <td>$1,500</td>\n",
       "    </tr>\n",
       "    <tr>\n",
       "      <th>2</th>\n",
       "      <td>135792</td>\n",
       "      <td>Sophia Williams</td>\n",
       "      <td>G47.33</td>\n",
       "      <td>92551</td>\n",
       "      <td>$1,250</td>\n",
       "      <td>$1,000</td>\n",
       "    </tr>\n",
       "    <tr>\n",
       "      <th>3</th>\n",
       "      <td>246813</td>\n",
       "      <td>Ava Thompson</td>\n",
       "      <td>F32.9</td>\n",
       "      <td>90837</td>\n",
       "      <td>$1,750</td>\n",
       "      <td>$1,400</td>\n",
       "    </tr>\n",
       "    <tr>\n",
       "      <th>4</th>\n",
       "      <td>987654</td>\n",
       "      <td>Benjamin Brown</td>\n",
       "      <td>I10</td>\n",
       "      <td>36.12</td>\n",
       "      <td>$2,500</td>\n",
       "      <td>$2,000</td>\n",
       "    </tr>\n",
       "    <tr>\n",
       "      <th>5</th>\n",
       "      <td>678901</td>\n",
       "      <td>Isabella Johnson</td>\n",
       "      <td>N18.9</td>\n",
       "      <td>50.59</td>\n",
       "      <td>$3,800</td>\n",
       "      <td>$3,200</td>\n",
       "    </tr>\n",
       "  </tbody>\n",
       "</table>\n",
       "</div>"
      ]
     },
     "execution_count": 10,
     "metadata": {},
     "output_type": "execute_result"
    }
   ],
   "execution_count": 10
  },
  {
   "metadata": {},
   "cell_type": "code",
   "source": "",
   "id": "ac7c9ab19a7b5365",
   "outputs": [],
   "execution_count": null
  }
 ],
 "metadata": {
  "kernelspec": {
   "display_name": "Python 3",
   "language": "python",
   "name": "python3"
  },
  "language_info": {
   "codemirror_mode": {
    "name": "ipython",
    "version": 2
   },
   "file_extension": ".py",
   "mimetype": "text/x-python",
   "name": "python",
   "nbconvert_exporter": "python",
   "pygments_lexer": "ipython2",
   "version": "2.7.6"
  }
 },
 "nbformat": 4,
 "nbformat_minor": 5
}
