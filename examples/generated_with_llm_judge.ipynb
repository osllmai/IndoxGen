{
 "cells": [
  {
   "cell_type": "code",
   "id": "initial_id",
   "metadata": {
    "collapsed": true,
    "ExecuteTime": {
     "end_time": "2024-09-24T16:33:41.092780Z",
     "start_time": "2024-09-24T16:33:41.072963Z"
    }
   },
   "source": [
    "import os\n",
    "from dotenv import load_dotenv\n",
    "\n",
    "load_dotenv()\n",
    "INDOX_API_KEY = os.environ['INDOX_API_KEY']\n",
    "NVIDIA_API_KEY = os.environ['NVIDIA_API_KEY']"
   ],
   "outputs": [],
   "execution_count": 1
  },
  {
   "metadata": {
    "ExecuteTime": {
     "end_time": "2024-09-24T16:33:41.484003Z",
     "start_time": "2024-09-24T16:33:41.474151Z"
    }
   },
   "cell_type": "code",
   "source": [
    "columns = [\"name\", \"age\", \"occupation\"]\n",
    "example_data = [\n",
    "    {\"name\": \"Alice Johnson\", \"age\": 35, \"occupation\": \"Manager\"},\n",
    "    {\"name\": \"Bob Williams\", \"age\": 42, \"occupation\": \"Accountant\"}\n",
    "]"
   ],
   "id": "f82dbf11365f0308",
   "outputs": [],
   "execution_count": 2
  },
  {
   "metadata": {
    "ExecuteTime": {
     "end_time": "2024-09-24T16:33:41.894545Z",
     "start_time": "2024-09-24T16:33:41.884669Z"
    }
   },
   "cell_type": "code",
   "source": [
    "columns_medical = [\"Patient ID\",\"Patient Name\",\"Diagnosis Code\",\"Procedure Code\",\"Total Charge\",\"Insurance Claim Amount\"]\n",
    "examples_medical = [\n",
    "    {\n",
    "        \"example\": \"\"\"Patient ID: 123456, Patient Name: John Doe, Diagnosis Code: \n",
    "        J20.9, Procedure Code: 99203, Total Charge: $500, Insurance Claim Amount: $350\"\"\"\n",
    "    },\n",
    "    {\n",
    "        \"example\": \"\"\"Patient ID: 789012, Patient Name: Johnson Smith, Diagnosis \n",
    "        Code: M54.5, Procedure Code: 99213, Total Charge: $150, Insurance Claim Amount: $120\"\"\"\n",
    "    },\n",
    "    {\n",
    "        \"example\": \"\"\"Patient ID: 345678, Patient Name: Emily Stone, Diagnosis Code: \n",
    "        E11.9, Procedure Code: 99214, Total Charge: $300, Insurance Claim Amount: $250\"\"\"\n",
    "    },\n",
    "]"
   ],
   "id": "7e2479618bd238bc",
   "outputs": [],
   "execution_count": 3
  },
  {
   "metadata": {
    "ExecuteTime": {
     "end_time": "2024-09-24T16:33:44.081112Z",
     "start_time": "2024-09-24T16:33:42.508926Z"
    }
   },
   "cell_type": "code",
   "source": [
    "from indoxGen.llms import OpenAi, IndoxApi\n",
    "\n",
    "indox = IndoxApi(api_key=INDOX_API_KEY)\n",
    "\n",
    "nemotron = OpenAi(api_key=NVIDIA_API_KEY, model=\"nvidia/nemotron-4-340b-instruct\",\n",
    "                  base_url=\"https://integrate.api.nvidia.com/v1\")"
   ],
   "id": "7886a22687c5aa3b",
   "outputs": [],
   "execution_count": 4
  },
  {
   "metadata": {
    "ExecuteTime": {
     "end_time": "2024-09-24T16:33:45.990042Z",
     "start_time": "2024-09-24T16:33:44.956818Z"
    }
   },
   "cell_type": "code",
   "source": [
    "from indoxGen.synthCore import SyntheticDataGenerator\n",
    "generator = SyntheticDataGenerator(\n",
    "    generator_llm=nemotron,\n",
    "    judge_llm=indox,\n",
    "    columns=columns,\n",
    "    example_data=example_data,\n",
    "    user_instruction=\"Generate realistic data including name, age and occupation. Ensure a mix of common and rare procedures, varying race, and appropriate date ranges for age.\",\n",
    "    verbose=1\n",
    ")"
   ],
   "id": "34e00ba1ebf7160b",
   "outputs": [],
   "execution_count": 5
  },
  {
   "metadata": {
    "ExecuteTime": {
     "end_time": "2024-09-24T16:33:46.012200Z",
     "start_time": "2024-09-24T16:33:46.002069Z"
    }
   },
   "cell_type": "code",
   "source": [
    "medical_billing_generator = SyntheticDataGenerator(\n",
    "    generator_llm=nemotron,\n",
    "    judge_llm=indox,\n",
    "    columns=columns_medical,\n",
    "    example_data=examples_medical,\n",
    "    user_instruction=\"Generate realistic medical billing data including patient IDs, Patient Name, diagnosis codes, Total Charge, and Insurance Claim Amount. Ensure a mix of common and rare procedures, varying charge amounts, and appropriate date ranges for a typical healthcare provider.\",\n",
    "    verbose=1\n",
    ")"
   ],
   "id": "6cc5f5785a2109fe",
   "outputs": [],
   "execution_count": 6
  },
  {
   "metadata": {
    "ExecuteTime": {
     "end_time": "2024-09-24T16:35:33.530287Z",
     "start_time": "2024-09-24T16:33:46.415487Z"
    }
   },
   "cell_type": "code",
   "source": [
    "# Generate data\n",
    "generated_data = generator.generate_data(num_samples=20)"
   ],
   "id": "ae599a029c38fa30",
   "outputs": [
    {
     "name": "stdout",
     "output_type": "stream",
     "text": [
      "Generated data point: {'name': 'Dr. Maya Patel', 'age': '37', 'occupation': 'Neurosurgeon'}\n",
      "Generated data point: {'name': 'Capt. Jamal Al-Rashid', 'age': '36', 'occupation': 'Aircraft Pilot'}\n",
      "Generated data point: {'name': 'Prof. Yuko Sato', 'age': '39', 'occupation': 'Marine Biologist'}\n",
      "Generated data point: {'name': 'Rev. Carlos Mendoza', 'age': '40', 'occupation': 'Social Worker'}\n",
      "Generated data point: {'name': 'Dr. Indira Patel', 'age': '37', 'occupation': 'Neurosurgeon'}\n",
      "Generated data point: {'name': 'Maj. Thandiwe Nkosi', 'age': '36', 'occupation': 'Aerospace Engineer'}\n",
      "Generated data point: {'name': 'Prof. Hana Yamaguchi', 'age': '39', 'occupation': 'Marine Biologist'}\n",
      "Generated data point: {'name': \"Rev. James O'Connell\", 'age': '38', 'occupation': 'Chaplain'}\n",
      "Generated data point: {'name': 'Dr. Amal Al-Mansouri', 'age': '37', 'occupation': 'Neurosurgeon'}\n",
      "Generated data point: {'name': 'Sgt. Major Fatima Singh', 'age': '40', 'occupation': 'Military Officer'}\n",
      "Progress: 10/20 data points generated. Attempts: 10\n",
      "Generated data point: {'name': 'Prof. Dr. Maria Garcia-Lopez', 'age': '36', 'occupation': 'Astrophysicist'}\n",
      "Generated data point: {'name': 'Rev. James Okello', 'age': '39', 'occupation': 'Chaplain and Community Organizer'}\n",
      "Generated data point: {'name': 'Dr. Mei-Ling Zhang', 'age': '37', 'occupation': 'Marine Biologist and Conservationist'}\n",
      "Generated data point: {'name': 'Sgt. Maj. Fatima Al-Khateeb', 'age': '38', 'occupation': 'Military Officer and Arabic Linguist'}\n",
      "Generated data point: {'name': 'Prof. Indira Patel-Singh', 'age': '36', 'occupation': 'Astrophysicist and STEM Educator'}\n",
      "Generated data point: {'name': \"Rev. James O'Reilly\", 'age': '39', 'occupation': 'Chaplain and Social Worker'}\n",
      "Generated data point: {'name': 'Dr. Maria Gonzalez-Chan', 'age': '37', 'occupation': 'Pediatric Cardiologist and Medical Researcher'}\n",
      "Generated data point: {'name': 'Capt. Akiko Tanaka-Smith', 'age': '38', 'occupation': 'Naval Officer and Oceanographer'}\n",
      "Generated data point: {'name': 'Eniola Adeyemi, Esq.', 'age': '36', 'occupation': 'Immigration Attorney and Human Rights Activist'}\n",
      "Generated data point: {'name': 'Prof. Yasmine Al-Khalili', 'age': '39', 'occupation': 'Archaeologist and Professor of Middle Eastern Studies'}\n",
      "Progress: 20/20 data points generated. Attempts: 20\n"
     ]
    }
   ],
   "execution_count": 7
  },
  {
   "metadata": {
    "ExecuteTime": {
     "end_time": "2024-09-24T16:35:33.545446Z",
     "start_time": "2024-09-24T16:35:33.531302Z"
    }
   },
   "cell_type": "code",
   "source": "generated_data",
   "id": "f5103a9a65a1ed6",
   "outputs": [
    {
     "data": {
      "text/plain": [
       "                            name age  \\\n",
       "0                 Dr. Maya Patel  37   \n",
       "1          Capt. Jamal Al-Rashid  36   \n",
       "2                Prof. Yuko Sato  39   \n",
       "3            Rev. Carlos Mendoza  40   \n",
       "4               Dr. Indira Patel  37   \n",
       "5            Maj. Thandiwe Nkosi  36   \n",
       "6           Prof. Hana Yamaguchi  39   \n",
       "7           Rev. James O'Connell  38   \n",
       "8           Dr. Amal Al-Mansouri  37   \n",
       "9        Sgt. Major Fatima Singh  40   \n",
       "10  Prof. Dr. Maria Garcia-Lopez  36   \n",
       "11             Rev. James Okello  39   \n",
       "12            Dr. Mei-Ling Zhang  37   \n",
       "13   Sgt. Maj. Fatima Al-Khateeb  38   \n",
       "14      Prof. Indira Patel-Singh  36   \n",
       "15           Rev. James O'Reilly  39   \n",
       "16       Dr. Maria Gonzalez-Chan  37   \n",
       "17      Capt. Akiko Tanaka-Smith  38   \n",
       "18          Eniola Adeyemi, Esq.  36   \n",
       "19      Prof. Yasmine Al-Khalili  39   \n",
       "\n",
       "                                           occupation  \n",
       "0                                        Neurosurgeon  \n",
       "1                                      Aircraft Pilot  \n",
       "2                                    Marine Biologist  \n",
       "3                                       Social Worker  \n",
       "4                                        Neurosurgeon  \n",
       "5                                  Aerospace Engineer  \n",
       "6                                    Marine Biologist  \n",
       "7                                            Chaplain  \n",
       "8                                        Neurosurgeon  \n",
       "9                                    Military Officer  \n",
       "10                                     Astrophysicist  \n",
       "11                   Chaplain and Community Organizer  \n",
       "12               Marine Biologist and Conservationist  \n",
       "13               Military Officer and Arabic Linguist  \n",
       "14                   Astrophysicist and STEM Educator  \n",
       "15                         Chaplain and Social Worker  \n",
       "16      Pediatric Cardiologist and Medical Researcher  \n",
       "17                    Naval Officer and Oceanographer  \n",
       "18     Immigration Attorney and Human Rights Activist  \n",
       "19  Archaeologist and Professor of Middle Eastern ...  "
      ],
      "text/html": [
       "<div>\n",
       "<style scoped>\n",
       "    .dataframe tbody tr th:only-of-type {\n",
       "        vertical-align: middle;\n",
       "    }\n",
       "\n",
       "    .dataframe tbody tr th {\n",
       "        vertical-align: top;\n",
       "    }\n",
       "\n",
       "    .dataframe thead th {\n",
       "        text-align: right;\n",
       "    }\n",
       "</style>\n",
       "<table border=\"1\" class=\"dataframe\">\n",
       "  <thead>\n",
       "    <tr style=\"text-align: right;\">\n",
       "      <th></th>\n",
       "      <th>name</th>\n",
       "      <th>age</th>\n",
       "      <th>occupation</th>\n",
       "    </tr>\n",
       "  </thead>\n",
       "  <tbody>\n",
       "    <tr>\n",
       "      <th>0</th>\n",
       "      <td>Dr. Maya Patel</td>\n",
       "      <td>37</td>\n",
       "      <td>Neurosurgeon</td>\n",
       "    </tr>\n",
       "    <tr>\n",
       "      <th>1</th>\n",
       "      <td>Capt. Jamal Al-Rashid</td>\n",
       "      <td>36</td>\n",
       "      <td>Aircraft Pilot</td>\n",
       "    </tr>\n",
       "    <tr>\n",
       "      <th>2</th>\n",
       "      <td>Prof. Yuko Sato</td>\n",
       "      <td>39</td>\n",
       "      <td>Marine Biologist</td>\n",
       "    </tr>\n",
       "    <tr>\n",
       "      <th>3</th>\n",
       "      <td>Rev. Carlos Mendoza</td>\n",
       "      <td>40</td>\n",
       "      <td>Social Worker</td>\n",
       "    </tr>\n",
       "    <tr>\n",
       "      <th>4</th>\n",
       "      <td>Dr. Indira Patel</td>\n",
       "      <td>37</td>\n",
       "      <td>Neurosurgeon</td>\n",
       "    </tr>\n",
       "    <tr>\n",
       "      <th>5</th>\n",
       "      <td>Maj. Thandiwe Nkosi</td>\n",
       "      <td>36</td>\n",
       "      <td>Aerospace Engineer</td>\n",
       "    </tr>\n",
       "    <tr>\n",
       "      <th>6</th>\n",
       "      <td>Prof. Hana Yamaguchi</td>\n",
       "      <td>39</td>\n",
       "      <td>Marine Biologist</td>\n",
       "    </tr>\n",
       "    <tr>\n",
       "      <th>7</th>\n",
       "      <td>Rev. James O'Connell</td>\n",
       "      <td>38</td>\n",
       "      <td>Chaplain</td>\n",
       "    </tr>\n",
       "    <tr>\n",
       "      <th>8</th>\n",
       "      <td>Dr. Amal Al-Mansouri</td>\n",
       "      <td>37</td>\n",
       "      <td>Neurosurgeon</td>\n",
       "    </tr>\n",
       "    <tr>\n",
       "      <th>9</th>\n",
       "      <td>Sgt. Major Fatima Singh</td>\n",
       "      <td>40</td>\n",
       "      <td>Military Officer</td>\n",
       "    </tr>\n",
       "    <tr>\n",
       "      <th>10</th>\n",
       "      <td>Prof. Dr. Maria Garcia-Lopez</td>\n",
       "      <td>36</td>\n",
       "      <td>Astrophysicist</td>\n",
       "    </tr>\n",
       "    <tr>\n",
       "      <th>11</th>\n",
       "      <td>Rev. James Okello</td>\n",
       "      <td>39</td>\n",
       "      <td>Chaplain and Community Organizer</td>\n",
       "    </tr>\n",
       "    <tr>\n",
       "      <th>12</th>\n",
       "      <td>Dr. Mei-Ling Zhang</td>\n",
       "      <td>37</td>\n",
       "      <td>Marine Biologist and Conservationist</td>\n",
       "    </tr>\n",
       "    <tr>\n",
       "      <th>13</th>\n",
       "      <td>Sgt. Maj. Fatima Al-Khateeb</td>\n",
       "      <td>38</td>\n",
       "      <td>Military Officer and Arabic Linguist</td>\n",
       "    </tr>\n",
       "    <tr>\n",
       "      <th>14</th>\n",
       "      <td>Prof. Indira Patel-Singh</td>\n",
       "      <td>36</td>\n",
       "      <td>Astrophysicist and STEM Educator</td>\n",
       "    </tr>\n",
       "    <tr>\n",
       "      <th>15</th>\n",
       "      <td>Rev. James O'Reilly</td>\n",
       "      <td>39</td>\n",
       "      <td>Chaplain and Social Worker</td>\n",
       "    </tr>\n",
       "    <tr>\n",
       "      <th>16</th>\n",
       "      <td>Dr. Maria Gonzalez-Chan</td>\n",
       "      <td>37</td>\n",
       "      <td>Pediatric Cardiologist and Medical Researcher</td>\n",
       "    </tr>\n",
       "    <tr>\n",
       "      <th>17</th>\n",
       "      <td>Capt. Akiko Tanaka-Smith</td>\n",
       "      <td>38</td>\n",
       "      <td>Naval Officer and Oceanographer</td>\n",
       "    </tr>\n",
       "    <tr>\n",
       "      <th>18</th>\n",
       "      <td>Eniola Adeyemi, Esq.</td>\n",
       "      <td>36</td>\n",
       "      <td>Immigration Attorney and Human Rights Activist</td>\n",
       "    </tr>\n",
       "    <tr>\n",
       "      <th>19</th>\n",
       "      <td>Prof. Yasmine Al-Khalili</td>\n",
       "      <td>39</td>\n",
       "      <td>Archaeologist and Professor of Middle Eastern ...</td>\n",
       "    </tr>\n",
       "  </tbody>\n",
       "</table>\n",
       "</div>"
      ]
     },
     "execution_count": 8,
     "metadata": {},
     "output_type": "execute_result"
    }
   ],
   "execution_count": 8
  },
  {
   "metadata": {
    "ExecuteTime": {
     "end_time": "2024-09-24T16:36:25.663281Z",
     "start_time": "2024-09-24T16:35:33.545446Z"
    }
   },
   "cell_type": "code",
   "source": "medical_billing_data = medical_billing_generator.generate_data(num_samples=6)",
   "id": "98a38b7372b256e9",
   "outputs": [
    {
     "name": "stdout",
     "output_type": "stream",
     "text": [
      "Generated data point: {'Patient ID': '987654', 'Patient Name': 'Olivia Brown', 'Diagnosis Code': 'I10', 'Procedure Code': '36415', 'Total Charge': '$2,500', 'Insurance Claim Amount': '$2,000'}\n",
      "Generated data point: {'Patient ID': '654321', 'Patient Name': 'Michael Davis', 'Diagnosis Code': 'K21.9', 'Procedure Code': '43235', 'Total Charge': '$1,800', 'Insurance Claim Amount': '$1,500'}\n",
      "Generated data point: {'Patient ID': '135792', 'Patient Name': 'Sophia Williams', 'Diagnosis Code': 'G47.33', 'Procedure Code': '92551', 'Total Charge': '$1,250', 'Insurance Claim Amount': '$1,000'}\n",
      "Generated data point: {'Patient ID': '246813', 'Patient Name': 'Ava Thompson', 'Diagnosis Code': 'F32.9', 'Procedure Code': '90837', 'Total Charge': '$1,750', 'Insurance Claim Amount': '$1,400'}\n",
      "Generated data point: {'Patient ID': '987654', 'Patient Name': 'Benjamin Brown', 'Diagnosis Code': 'I10', 'Procedure Code': '36.12', 'Total Charge': '$2,500', 'Insurance Claim Amount': '$2,000'}\n",
      "Generated data point: {'Patient ID': '678901', 'Patient Name': 'Isabella Johnson', 'Diagnosis Code': 'N18.9', 'Procedure Code': '50.59', 'Total Charge': '$3,800', 'Insurance Claim Amount': '$3,200'}\n"
     ]
    }
   ],
   "execution_count": 9
  },
  {
   "metadata": {
    "ExecuteTime": {
     "end_time": "2024-09-24T16:36:25.672414Z",
     "start_time": "2024-09-24T16:36:25.663281Z"
    }
   },
   "cell_type": "code",
   "source": "medical_billing_data",
   "id": "6b86a47d0ab11cd9",
   "outputs": [
    {
     "data": {
      "text/plain": [
       "  Patient ID      Patient Name Diagnosis Code Procedure Code Total Charge  \\\n",
       "0     987654      Olivia Brown            I10          36415       $2,500   \n",
       "1     654321     Michael Davis          K21.9          43235       $1,800   \n",
       "2     135792   Sophia Williams         G47.33          92551       $1,250   \n",
       "3     246813      Ava Thompson          F32.9          90837       $1,750   \n",
       "4     987654    Benjamin Brown            I10          36.12       $2,500   \n",
       "5     678901  Isabella Johnson          N18.9          50.59       $3,800   \n",
       "\n",
       "  Insurance Claim Amount  \n",
       "0                 $2,000  \n",
       "1                 $1,500  \n",
       "2                 $1,000  \n",
       "3                 $1,400  \n",
       "4                 $2,000  \n",
       "5                 $3,200  "
      ],
      "text/html": [
       "<div>\n",
       "<style scoped>\n",
       "    .dataframe tbody tr th:only-of-type {\n",
       "        vertical-align: middle;\n",
       "    }\n",
       "\n",
       "    .dataframe tbody tr th {\n",
       "        vertical-align: top;\n",
       "    }\n",
       "\n",
       "    .dataframe thead th {\n",
       "        text-align: right;\n",
       "    }\n",
       "</style>\n",
       "<table border=\"1\" class=\"dataframe\">\n",
       "  <thead>\n",
       "    <tr style=\"text-align: right;\">\n",
       "      <th></th>\n",
       "      <th>Patient ID</th>\n",
       "      <th>Patient Name</th>\n",
       "      <th>Diagnosis Code</th>\n",
       "      <th>Procedure Code</th>\n",
       "      <th>Total Charge</th>\n",
       "      <th>Insurance Claim Amount</th>\n",
       "    </tr>\n",
       "  </thead>\n",
       "  <tbody>\n",
       "    <tr>\n",
       "      <th>0</th>\n",
       "      <td>987654</td>\n",
       "      <td>Olivia Brown</td>\n",
       "      <td>I10</td>\n",
       "      <td>36415</td>\n",
       "      <td>$2,500</td>\n",
       "      <td>$2,000</td>\n",
       "    </tr>\n",
       "    <tr>\n",
       "      <th>1</th>\n",
       "      <td>654321</td>\n",
       "      <td>Michael Davis</td>\n",
       "      <td>K21.9</td>\n",
       "      <td>43235</td>\n",
       "      <td>$1,800</td>\n",
       "      <td>$1,500</td>\n",
       "    </tr>\n",
       "    <tr>\n",
       "      <th>2</th>\n",
       "      <td>135792</td>\n",
       "      <td>Sophia Williams</td>\n",
       "      <td>G47.33</td>\n",
       "      <td>92551</td>\n",
       "      <td>$1,250</td>\n",
       "      <td>$1,000</td>\n",
       "    </tr>\n",
       "    <tr>\n",
       "      <th>3</th>\n",
       "      <td>246813</td>\n",
       "      <td>Ava Thompson</td>\n",
       "      <td>F32.9</td>\n",
       "      <td>90837</td>\n",
       "      <td>$1,750</td>\n",
       "      <td>$1,400</td>\n",
       "    </tr>\n",
       "    <tr>\n",
       "      <th>4</th>\n",
       "      <td>987654</td>\n",
       "      <td>Benjamin Brown</td>\n",
       "      <td>I10</td>\n",
       "      <td>36.12</td>\n",
       "      <td>$2,500</td>\n",
       "      <td>$2,000</td>\n",
       "    </tr>\n",
       "    <tr>\n",
       "      <th>5</th>\n",
       "      <td>678901</td>\n",
       "      <td>Isabella Johnson</td>\n",
       "      <td>N18.9</td>\n",
       "      <td>50.59</td>\n",
       "      <td>$3,800</td>\n",
       "      <td>$3,200</td>\n",
       "    </tr>\n",
       "  </tbody>\n",
       "</table>\n",
       "</div>"
      ]
     },
     "execution_count": 10,
     "metadata": {},
     "output_type": "execute_result"
    }
   ],
   "execution_count": 10
  },
  {
   "metadata": {},
   "cell_type": "code",
   "source": "",
   "id": "ac7c9ab19a7b5365",
   "outputs": [],
   "execution_count": null
  }
 ],
 "metadata": {
  "kernelspec": {
   "display_name": "Python 3",
   "language": "python",
   "name": "python3"
  },
  "language_info": {
   "codemirror_mode": {
    "name": "ipython",
    "version": 2
   },
   "file_extension": ".py",
   "mimetype": "text/x-python",
   "name": "python",
   "nbconvert_exporter": "python",
   "pygments_lexer": "ipython2",
   "version": "2.7.6"
  }
 },
 "nbformat": 4,
 "nbformat_minor": 5
}
