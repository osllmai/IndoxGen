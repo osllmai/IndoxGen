{
 "cells": [
  {
   "metadata": {
    "ExecuteTime": {
     "end_time": "2024-09-30T16:11:56.864363Z",
     "start_time": "2024-09-30T16:11:56.594145Z"
    }
   },
   "cell_type": "code",
   "source": [
    "import os\n",
    "from dotenv import load_dotenv\n",
    "from indoxGen.llms import IndoxApi\n",
    "load_dotenv()\n",
    "INDOX_API_KEY = os.getenv(\"INDOX_API_KEY\")"
   ],
   "id": "ad8ebcee4ff35d0e",
   "outputs": [],
   "execution_count": 1
  },
  {
   "metadata": {},
   "cell_type": "markdown",
   "source": "## Generate data from LLm without data",
   "id": "8677c8c36435f44c"
  },
  {
   "cell_type": "code",
   "id": "initial_id",
   "metadata": {
    "collapsed": true,
    "ExecuteTime": {
     "end_time": "2024-09-30T16:12:02.682400Z",
     "start_time": "2024-09-30T16:11:57.858094Z"
    }
   },
   "source": [
    "from indoxGen.synthCore import DataFromPrompt\n",
    "\n",
    "user_prompt = \"Generate a dataset with 3 column and 3 row about soccer.\"\n",
    "\n",
    "LLM = IndoxApi(api_key=INDOX_API_KEY)\n",
    "# instruction = DataGenerationPrompt.get_instruction(user_prompt)\n",
    "\n",
    "data_generator = DataFromPrompt(llm=LLM,user_instruction=user_prompt,verbose=1)\n",
    "\n",
    "generated_df = data_generator.generate_data()\n",
    "\n",
    "# print(generated_df)\n",
    "data_generator.save_to_excel(\"output_dataFromPrompt.xlsx\")\n"
   ],
   "outputs": [
    {
     "name": "stdout",
     "output_type": "stream",
     "text": [
      "\u001B[32mINFO\u001B[0m: \u001B[1mDataFromPrompt initialized with verbose level 1\u001B[0m\n",
      "\u001B[32mINFO\u001B[0m: \u001B[1mStarting data generation process\u001B[0m\n",
      "\u001B[32mINFO\u001B[0m: \u001B[1mAttempt 1/3 to generate data\u001B[0m\n",
      "\u001B[32mINFO\u001B[0m: \u001B[1mSuccessfully extracted and parsed JSON data\u001B[0m\n",
      "\u001B[32mINFO\u001B[0m: \u001B[1mData generated successfully\u001B[0m\n",
      "\u001B[32mINFO\u001B[0m: \u001B[1mConverting generated data to DataFrame\u001B[0m\n",
      "\u001B[32mINFO\u001B[0m: \u001B[1mCreated DataFrame from nested list of dictionaries: (3, 3)\u001B[0m\n",
      "\u001B[32mINFO\u001B[0m: \u001B[1mConverting generated data to DataFrame\u001B[0m\n",
      "\u001B[32mINFO\u001B[0m: \u001B[1mCreated DataFrame from nested list of dictionaries: (3, 3)\u001B[0m\n",
      "\u001B[32mINFO\u001B[0m: \u001B[1mData saved to Excel file at: output_dataFromPrompt.xlsx\u001B[0m\n"
     ]
    }
   ],
   "execution_count": 2
  },
  {
   "metadata": {
    "ExecuteTime": {
     "end_time": "2024-09-30T16:12:03.880581Z",
     "start_time": "2024-09-30T16:12:03.870592Z"
    }
   },
   "cell_type": "code",
   "source": "generated_df",
   "id": "bbdfa31d1e446249",
   "outputs": [
    {
     "data": {
      "text/plain": [
       "         player_name                 team  goals_scored\n",
       "0       Lionel Messi  Paris Saint-Germain           672\n",
       "1  Cristiano Ronaldo             Al Nassr           700\n",
       "2         Neymar Jr.             Al Hilal           400"
      ],
      "text/html": [
       "<div>\n",
       "<style scoped>\n",
       "    .dataframe tbody tr th:only-of-type {\n",
       "        vertical-align: middle;\n",
       "    }\n",
       "\n",
       "    .dataframe tbody tr th {\n",
       "        vertical-align: top;\n",
       "    }\n",
       "\n",
       "    .dataframe thead th {\n",
       "        text-align: right;\n",
       "    }\n",
       "</style>\n",
       "<table border=\"1\" class=\"dataframe\">\n",
       "  <thead>\n",
       "    <tr style=\"text-align: right;\">\n",
       "      <th></th>\n",
       "      <th>player_name</th>\n",
       "      <th>team</th>\n",
       "      <th>goals_scored</th>\n",
       "    </tr>\n",
       "  </thead>\n",
       "  <tbody>\n",
       "    <tr>\n",
       "      <th>0</th>\n",
       "      <td>Lionel Messi</td>\n",
       "      <td>Paris Saint-Germain</td>\n",
       "      <td>672</td>\n",
       "    </tr>\n",
       "    <tr>\n",
       "      <th>1</th>\n",
       "      <td>Cristiano Ronaldo</td>\n",
       "      <td>Al Nassr</td>\n",
       "      <td>700</td>\n",
       "    </tr>\n",
       "    <tr>\n",
       "      <th>2</th>\n",
       "      <td>Neymar Jr.</td>\n",
       "      <td>Al Hilal</td>\n",
       "      <td>400</td>\n",
       "    </tr>\n",
       "  </tbody>\n",
       "</table>\n",
       "</div>"
      ]
     },
     "execution_count": 3,
     "metadata": {},
     "output_type": "execute_result"
    }
   ],
   "execution_count": 3
  },
  {
   "metadata": {},
   "cell_type": "markdown",
   "source": "## Generate data with uploaded data",
   "id": "3d0d65db2aa4ab8"
  },
  {
   "metadata": {
    "ExecuteTime": {
     "end_time": "2024-09-30T16:12:07.806919Z",
     "start_time": "2024-09-30T16:12:05.476806Z"
    }
   },
   "cell_type": "code",
   "source": [
    "from indoxGen.synthCore import DataFromPrompt\n",
    "from indoxGen.utils import Excel\n",
    "\n",
    "dataset_file_path = \"output_dataFromPrompt.xlsx\"\n",
    "\n",
    "excel_loader = Excel(dataset_file_path) \n",
    "df = excel_loader.load()  \n",
    "user_prompt = \" based on given dataset generate one unique row about soccer\"\n",
    "LLM = IndoxApi(api_key=INDOX_API_KEY)\n",
    "\n",
    "added_row = DataFromPrompt(llm=LLM, user_instruction=user_prompt, example_data=df, verbose=1).generate_data()\n",
    "print(added_row)\n",
    "\n"
   ],
   "id": "2431219cb0b43b04",
   "outputs": [
    {
     "name": "stdout",
     "output_type": "stream",
     "text": [
      "\u001B[32mINFO\u001B[0m: \u001B[1mDataFromPrompt initialized with verbose level 1\u001B[0m\n",
      "\u001B[32mINFO\u001B[0m: \u001B[1mExample data provided with 3 rows and 3 columns\u001B[0m\n",
      "\u001B[32mINFO\u001B[0m: \u001B[1mStarting data generation process\u001B[0m\n",
      "\u001B[32mINFO\u001B[0m: \u001B[1mAttempt 1/3 to generate data\u001B[0m\n",
      "\u001B[32mINFO\u001B[0m: \u001B[1mSuccessfully extracted and parsed JSON data\u001B[0m\n",
      "\u001B[32mINFO\u001B[0m: \u001B[1mData generated successfully\u001B[0m\n",
      "\u001B[32mINFO\u001B[0m: \u001B[1mConverting generated data to DataFrame\u001B[0m\n",
      "\u001B[32mINFO\u001B[0m: \u001B[1mCreated DataFrame from single dictionary: (1, 3)\u001B[0m\n",
      "     player_name                 team  goals_scored\n",
      "0  Kylian Mbappé  Paris Saint-Germain           250\n"
     ]
    }
   ],
   "execution_count": 4
  },
  {
   "metadata": {
    "ExecuteTime": {
     "end_time": "2024-09-30T16:12:09.048864Z",
     "start_time": "2024-09-30T16:12:09.041788Z"
    }
   },
   "cell_type": "code",
   "source": "added_row",
   "id": "61bb74714aab8687",
   "outputs": [
    {
     "data": {
      "text/plain": [
       "     player_name                 team  goals_scored\n",
       "0  Kylian Mbappé  Paris Saint-Germain           250"
      ],
      "text/html": [
       "<div>\n",
       "<style scoped>\n",
       "    .dataframe tbody tr th:only-of-type {\n",
       "        vertical-align: middle;\n",
       "    }\n",
       "\n",
       "    .dataframe tbody tr th {\n",
       "        vertical-align: top;\n",
       "    }\n",
       "\n",
       "    .dataframe thead th {\n",
       "        text-align: right;\n",
       "    }\n",
       "</style>\n",
       "<table border=\"1\" class=\"dataframe\">\n",
       "  <thead>\n",
       "    <tr style=\"text-align: right;\">\n",
       "      <th></th>\n",
       "      <th>player_name</th>\n",
       "      <th>team</th>\n",
       "      <th>goals_scored</th>\n",
       "    </tr>\n",
       "  </thead>\n",
       "  <tbody>\n",
       "    <tr>\n",
       "      <th>0</th>\n",
       "      <td>Kylian Mbappé</td>\n",
       "      <td>Paris Saint-Germain</td>\n",
       "      <td>250</td>\n",
       "    </tr>\n",
       "  </tbody>\n",
       "</table>\n",
       "</div>"
      ]
     },
     "execution_count": 5,
     "metadata": {},
     "output_type": "execute_result"
    }
   ],
   "execution_count": 5
  },
  {
   "metadata": {},
   "cell_type": "markdown",
   "source": "## Generate Data with Few-shot input output Examples",
   "id": "2b251be24dd78ec"
  },
  {
   "metadata": {
    "ExecuteTime": {
     "end_time": "2024-09-30T16:12:13.008788Z",
     "start_time": "2024-09-30T16:12:10.343075Z"
    }
   },
   "cell_type": "code",
   "source": [
    "from indoxGen.synthCore import FewShotPrompt\n",
    "# Define your Language Model (LLM) instance (replace with the actual LLM you're using)\n",
    "LLM = IndoxApi(api_key=INDOX_API_KEY)\n",
    "\n",
    "# Define a user prompt for the generation task\n",
    "user_prompt = \"Describe the formation of stars in simple terms. Return the result in JSON format, with the key 'description'.\"\n",
    "\n",
    "# Define few-shot examples (input-output pairs) to help guide the LLM\n",
    "examples = [\n",
    "    {\n",
    "        \"input\": \"Describe the process of photosynthesis.\",\n",
    "        \"output\": \"Photosynthesis is the process by which green plants use sunlight to synthesize food from carbon dioxide and water.\"\n",
    "    },\n",
    "    {\n",
    "        \"input\": \"Explain the water cycle.\",\n",
    "        \"output\": \"The water cycle is the process by which water circulates between the earth's oceans, atmosphere, and land, involving precipitation, evaporation, and condensation.\"\n",
    "    }\n",
    "]\n",
    "\n",
    "# Create an instance of FewShotPrompt using the defined LLM, user prompt, and few-shot examples\n",
    "data_generator = FewShotPrompt(\n",
    "    llm=LLM,                            # Language model instance (LLM)\n",
    "    user_instruction=user_prompt,        # Main user instruction or query\n",
    "    examples=examples,                   # Few-shot input-output examples\n",
    "    verbose=1,                           # Verbosity level (optional)\n",
    "    max_tokens=8000                      # Max tokens for generation (optional)\n",
    ")\n",
    "\n",
    "# Generate the data based on the few-shot setup\n",
    "df = data_generator.generate_data()\n"
   ],
   "id": "59be4f15250a5399",
   "outputs": [
    {
     "name": "stdout",
     "output_type": "stream",
     "text": [
      "\u001B[32mINFO\u001B[0m: \u001B[1mFewShotPrompt initialized with 2 examples and max_tokens=8000\u001B[0m\n",
      "\u001B[32mINFO\u001B[0m: \u001B[1mGenerating data from LLM\u001B[0m\n",
      "\u001B[32mINFO\u001B[0m: \u001B[1mSuccessfully parsed JSON response\u001B[0m\n",
      "\u001B[32mINFO\u001B[0m: \u001B[1mCreated DataFrame with 1 rows\u001B[0m\n"
     ]
    }
   ],
   "execution_count": 6
  },
  {
   "metadata": {
    "ExecuteTime": {
     "end_time": "2024-09-30T16:12:14.348915Z",
     "start_time": "2024-09-30T16:12:14.342954Z"
    }
   },
   "cell_type": "code",
   "source": "df",
   "id": "47d8702e06da7bd9",
   "outputs": [
    {
     "data": {
      "text/plain": [
       "                                         description\n",
       "0  The formation of stars begins in a cloud of ga..."
      ],
      "text/html": [
       "<div>\n",
       "<style scoped>\n",
       "    .dataframe tbody tr th:only-of-type {\n",
       "        vertical-align: middle;\n",
       "    }\n",
       "\n",
       "    .dataframe tbody tr th {\n",
       "        vertical-align: top;\n",
       "    }\n",
       "\n",
       "    .dataframe thead th {\n",
       "        text-align: right;\n",
       "    }\n",
       "</style>\n",
       "<table border=\"1\" class=\"dataframe\">\n",
       "  <thead>\n",
       "    <tr style=\"text-align: right;\">\n",
       "      <th></th>\n",
       "      <th>description</th>\n",
       "    </tr>\n",
       "  </thead>\n",
       "  <tbody>\n",
       "    <tr>\n",
       "      <th>0</th>\n",
       "      <td>The formation of stars begins in a cloud of ga...</td>\n",
       "    </tr>\n",
       "  </tbody>\n",
       "</table>\n",
       "</div>"
      ]
     },
     "execution_count": 7,
     "metadata": {},
     "output_type": "execute_result"
    }
   ],
   "execution_count": 7
  },
  {
   "metadata": {},
   "cell_type": "markdown",
   "source": "The formation of stars begins in a cloud of gas and dust in space. Over time, gravity pulls the gas and dust together, causing it to clump and become denser. As the material gathers, it heats up and forms a protostar. When the temperature and pressure in the core become high enough, nuclear fusion starts, and the protostar becomes a main-sequence star, shining brightly.",
   "id": "e0494d6a7137b443"
  },
  {
   "metadata": {
    "ExecuteTime": {
     "end_time": "2024-09-30T16:12:27.281694Z",
     "start_time": "2024-09-30T16:12:27.267928Z"
    }
   },
   "cell_type": "code",
   "source": "data_generator.save_to_excel(\"output_data.xlsx\",df)",
   "id": "ad7ab1482e0ae9f6",
   "outputs": [
    {
     "name": "stdout",
     "output_type": "stream",
     "text": [
      "\u001B[32mINFO\u001B[0m: \u001B[1mDataFrame saved to Excel file at: output_data.xlsx\u001B[0m\n"
     ]
    }
   ],
   "execution_count": 9
  },
  {
   "metadata": {},
   "cell_type": "markdown",
   "source": "## Generate Data with Attribute",
   "id": "9a6dd9fc64f98a2"
  },
  {
   "metadata": {
    "ExecuteTime": {
     "end_time": "2024-09-30T16:12:41.673116Z",
     "start_time": "2024-09-30T16:12:28.327545Z"
    }
   },
   "cell_type": "code",
   "source": [
    "from indoxGen.synthCore import DataFromAttributedPrompt\n",
    "LLM = IndoxApi(api_key=INDOX_API_KEY)\n",
    "\n",
    "user_instruction =  \"Generate a {adjective} sentence that is {length}.\"\n",
    "\n",
    "attributes = {\n",
    "        \"adjective\": [\"serious\", \"funny\"],\n",
    "        \"length\": [\"short\", \"long\"]\n",
    " }\n",
    "\n",
    "dataset = DataFromAttributedPrompt(llm=LLM,user_instruction=user_instruction,attributes=attributes,verbose=1)\n",
    "\n",
    "df = dataset.generate_data()"
   ],
   "id": "535a991e554bbc33",
   "outputs": [
    {
     "name": "stdout",
     "output_type": "stream",
     "text": [
      "\u001B[32mINFO\u001B[0m: \u001B[1mDataFromAttributedPrompt initialized with 2 attributes and max_tokens=8000\u001B[0m\n",
      "\u001B[32mINFO\u001B[0m: \u001B[1mStarting data generation process\u001B[0m\n",
      "\u001B[32mINFO\u001B[0m: \u001B[1mPreparing prompts from attributes\u001B[0m\n",
      "\u001B[32mINFO\u001B[0m: \u001B[1mGenerated 4 prompts from attributes\u001B[0m\n",
      "\u001B[32mINFO\u001B[0m: \u001B[1mGenerated 4 data points\u001B[0m\n"
     ]
    }
   ],
   "execution_count": 10
  },
  {
   "metadata": {
    "ExecuteTime": {
     "end_time": "2024-09-30T16:12:42.403474Z",
     "start_time": "2024-09-30T16:12:42.395521Z"
    }
   },
   "cell_type": "code",
   "source": "df",
   "id": "ff21b5b7af50eadb",
   "outputs": [
    {
     "data": {
      "text/plain": [
       "                                            sentence\n",
       "0           Knowledge empowers the pursuit of truth.\n",
       "1  In the quiet solitude of the early morning, as...\n",
       "2  I told my computer I needed a break, and now i...\n",
       "3  As the overly ambitious squirrel, wearing a ti..."
      ],
      "text/html": [
       "<div>\n",
       "<style scoped>\n",
       "    .dataframe tbody tr th:only-of-type {\n",
       "        vertical-align: middle;\n",
       "    }\n",
       "\n",
       "    .dataframe tbody tr th {\n",
       "        vertical-align: top;\n",
       "    }\n",
       "\n",
       "    .dataframe thead th {\n",
       "        text-align: right;\n",
       "    }\n",
       "</style>\n",
       "<table border=\"1\" class=\"dataframe\">\n",
       "  <thead>\n",
       "    <tr style=\"text-align: right;\">\n",
       "      <th></th>\n",
       "      <th>sentence</th>\n",
       "    </tr>\n",
       "  </thead>\n",
       "  <tbody>\n",
       "    <tr>\n",
       "      <th>0</th>\n",
       "      <td>Knowledge empowers the pursuit of truth.</td>\n",
       "    </tr>\n",
       "    <tr>\n",
       "      <th>1</th>\n",
       "      <td>In the quiet solitude of the early morning, as...</td>\n",
       "    </tr>\n",
       "    <tr>\n",
       "      <th>2</th>\n",
       "      <td>I told my computer I needed a break, and now i...</td>\n",
       "    </tr>\n",
       "    <tr>\n",
       "      <th>3</th>\n",
       "      <td>As the overly ambitious squirrel, wearing a ti...</td>\n",
       "    </tr>\n",
       "  </tbody>\n",
       "</table>\n",
       "</div>"
      ]
     },
     "execution_count": 11,
     "metadata": {},
     "output_type": "execute_result"
    }
   ],
   "execution_count": 11
  },
  {
   "metadata": {},
   "cell_type": "code",
   "outputs": [],
   "execution_count": null,
   "source": "",
   "id": "6da96e20bcc7e89b"
  }
 ],
 "metadata": {
  "kernelspec": {
   "display_name": "Python 3",
   "language": "python",
   "name": "python3"
  },
  "language_info": {
   "codemirror_mode": {
    "name": "ipython",
    "version": 2
   },
   "file_extension": ".py",
   "mimetype": "text/x-python",
   "name": "python",
   "nbconvert_exporter": "python",
   "pygments_lexer": "ipython2",
   "version": "2.7.6"
  }
 },
 "nbformat": 4,
 "nbformat_minor": 5
}
