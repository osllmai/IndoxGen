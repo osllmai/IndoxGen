{
 "cells": [
  {
   "metadata": {
    "ExecuteTime": {
     "end_time": "2024-09-24T11:35:34.185659Z",
     "start_time": "2024-09-24T11:35:32.625618Z"
    }
   },
   "cell_type": "code",
   "source": [
    "import os\n",
    "from dotenv import load_dotenv\n",
    "from models import IndoxApi\n",
    "load_dotenv()\n",
    "INDOX_API_KEY = os.getenv(\"INDOX_API_KEY\")"
   ],
   "id": "ad8ebcee4ff35d0e",
   "outputs": [],
   "execution_count": 1
  },
  {
   "metadata": {},
   "cell_type": "markdown",
   "source": "## Generate data from LLm without data",
   "id": "8677c8c36435f44c"
  },
  {
   "cell_type": "code",
   "id": "initial_id",
   "metadata": {
    "collapsed": true,
    "ExecuteTime": {
     "end_time": "2024-09-24T11:35:40.818257Z",
     "start_time": "2024-09-24T11:35:34.185659Z"
    }
   },
   "source": [
    "from synthCore import DataFromPrompt\n",
    "from SynthCore import DataGenerationPrompt \n",
    "\n",
    "\n",
    "user_prompt = \"Generate a dataset with 3 column and 3 row about astronomy.\"\n",
    "\n",
    "LLM = IndoxApi(api_key=INDOX_API_KEY)\n",
    "instruction = DataGenerationPrompt.get_instruction(user_prompt)\n",
    "\n",
    "data_generator = DataFromPrompt(\n",
    "    prompt_name=\"Generate Research Paper Abstracts\",\n",
    "    args={\n",
    "        \"llm\": LLM,\n",
    "        \"n\": 1,\n",
    "        \"temperature\": 0.1,\n",
    "        \"instruction\": instruction,\n",
    "    },\n",
    "    outputs={\"generations\": \"generate\"},\n",
    "\n",
    ")\n",
    "\n",
    "generated_df = data_generator.run()\n",
    "\n",
    "print(generated_df)\n",
    "data_generator.save_to_excel(\"output_data.xlsx\")\n"
   ],
   "outputs": [
    {
     "name": "stdout",
     "output_type": "stream",
     "text": [
      "\u001B[32mINFO\u001B[0m: \u001B[1mGenerated DataFrame with shape: (3, 3)\u001B[0m\n",
      "    Celestial Body  Distance from Earth (light years)      Discovery Method\n",
      "0  Exoplanet Xylon                                 42    Transit Photometry\n",
      "1   Nebula Whisper                               1500   Radio Wave Analysis\n",
      "2   Asteroid Drift                                320  Spectroscopic Survey\n",
      "\u001B[32mINFO\u001B[0m: \u001B[1mDataFrame saved to Excel file at: output_data.xlsx\u001B[0m\n"
     ]
    }
   ],
   "execution_count": 2
  },
  {
   "metadata": {
    "ExecuteTime": {
     "end_time": "2024-09-24T11:35:40.856382Z",
     "start_time": "2024-09-24T11:35:40.818257Z"
    }
   },
   "cell_type": "code",
   "source": "generated_df",
   "id": "bbdfa31d1e446249",
   "outputs": [
    {
     "data": {
      "text/plain": [
       "    Celestial Body  Distance from Earth (light years)      Discovery Method\n",
       "0  Exoplanet Xylon                                 42    Transit Photometry\n",
       "1   Nebula Whisper                               1500   Radio Wave Analysis\n",
       "2   Asteroid Drift                                320  Spectroscopic Survey"
      ],
      "text/html": [
       "<div>\n",
       "<style scoped>\n",
       "    .dataframe tbody tr th:only-of-type {\n",
       "        vertical-align: middle;\n",
       "    }\n",
       "\n",
       "    .dataframe tbody tr th {\n",
       "        vertical-align: top;\n",
       "    }\n",
       "\n",
       "    .dataframe thead th {\n",
       "        text-align: right;\n",
       "    }\n",
       "</style>\n",
       "<table border=\"1\" class=\"dataframe\">\n",
       "  <thead>\n",
       "    <tr style=\"text-align: right;\">\n",
       "      <th></th>\n",
       "      <th>Celestial Body</th>\n",
       "      <th>Distance from Earth (light years)</th>\n",
       "      <th>Discovery Method</th>\n",
       "    </tr>\n",
       "  </thead>\n",
       "  <tbody>\n",
       "    <tr>\n",
       "      <th>0</th>\n",
       "      <td>Exoplanet Xylon</td>\n",
       "      <td>42</td>\n",
       "      <td>Transit Photometry</td>\n",
       "    </tr>\n",
       "    <tr>\n",
       "      <th>1</th>\n",
       "      <td>Nebula Whisper</td>\n",
       "      <td>1500</td>\n",
       "      <td>Radio Wave Analysis</td>\n",
       "    </tr>\n",
       "    <tr>\n",
       "      <th>2</th>\n",
       "      <td>Asteroid Drift</td>\n",
       "      <td>320</td>\n",
       "      <td>Spectroscopic Survey</td>\n",
       "    </tr>\n",
       "  </tbody>\n",
       "</table>\n",
       "</div>"
      ]
     },
     "execution_count": 3,
     "metadata": {},
     "output_type": "execute_result"
    }
   ],
   "execution_count": 3
  },
  {
   "metadata": {},
   "cell_type": "markdown",
   "source": "## Generate data with uploaded data",
   "id": "3d0d65db2aa4ab8"
  },
  {
   "metadata": {
    "ExecuteTime": {
     "end_time": "2024-09-24T11:35:42.169918Z",
     "start_time": "2024-09-24T11:35:40.856382Z"
    }
   },
   "cell_type": "code",
   "source": [
    "from SynthCore import DataFromPrompt\n",
    "from SynthCore import DataGenerationPrompt \n",
    "from SynthCore import Excel\n",
    "\n",
    "dataset_file_path = \"output_data.xlsx\"\n",
    "\n",
    "excel_loader = Excel(dataset_file_path) \n",
    "df = excel_loader.load()  \n",
    "user_prompt = \" based on given dataset generate one unique row about astronomy\"\n",
    "LLM = IndoxApi(api_key=INDOX_API_KEY)\n",
    "\n",
    "instruction = DataGenerationPrompt.get_instruction(user_prompt)\n",
    "\n",
    "dataset = DataFromPrompt(\n",
    "    prompt_name=\"Generate New Column\",\n",
    "    args={\n",
    "        \"llm\": LLM,\n",
    "        \"n\": 1,\n",
    "        \"temperature\": 0.7,\n",
    "        \"instruction\": instruction,\n",
    "    },\n",
    "    outputs={\"generations\": \"generate\"},\n",
    "    dataframe=df\n",
    ")\n",
    "updated_df = dataset.run()\n",
    "print(updated_df)\n"
   ],
   "id": "2431219cb0b43b04",
   "outputs": [
    {
     "name": "stdout",
     "output_type": "stream",
     "text": [
      "\u001B[32mINFO\u001B[0m: \u001B[1mGenerated DataFrame with shape: (4, 3)\u001B[0m\n",
      "    Celestial Body  Distance from Earth (light years)       Discovery Method\n",
      "0      Quasar Echo                               8000  Gravitational Lensing\n",
      "1  Exoplanet Xylon                                 42     Transit Photometry\n",
      "2   Nebula Whisper                               1500    Radio Wave Analysis\n",
      "3   Asteroid Drift                                320   Spectroscopic Survey\n"
     ]
    }
   ],
   "execution_count": 4
  },
  {
   "metadata": {
    "ExecuteTime": {
     "end_time": "2024-09-24T11:35:42.205723Z",
     "start_time": "2024-09-24T11:35:42.172928Z"
    }
   },
   "cell_type": "code",
   "source": "updated_df",
   "id": "61bb74714aab8687",
   "outputs": [
    {
     "data": {
      "text/plain": [
       "    Celestial Body  Distance from Earth (light years)       Discovery Method\n",
       "0      Quasar Echo                               8000  Gravitational Lensing\n",
       "1  Exoplanet Xylon                                 42     Transit Photometry\n",
       "2   Nebula Whisper                               1500    Radio Wave Analysis\n",
       "3   Asteroid Drift                                320   Spectroscopic Survey"
      ],
      "text/html": [
       "<div>\n",
       "<style scoped>\n",
       "    .dataframe tbody tr th:only-of-type {\n",
       "        vertical-align: middle;\n",
       "    }\n",
       "\n",
       "    .dataframe tbody tr th {\n",
       "        vertical-align: top;\n",
       "    }\n",
       "\n",
       "    .dataframe thead th {\n",
       "        text-align: right;\n",
       "    }\n",
       "</style>\n",
       "<table border=\"1\" class=\"dataframe\">\n",
       "  <thead>\n",
       "    <tr style=\"text-align: right;\">\n",
       "      <th></th>\n",
       "      <th>Celestial Body</th>\n",
       "      <th>Distance from Earth (light years)</th>\n",
       "      <th>Discovery Method</th>\n",
       "    </tr>\n",
       "  </thead>\n",
       "  <tbody>\n",
       "    <tr>\n",
       "      <th>0</th>\n",
       "      <td>Quasar Echo</td>\n",
       "      <td>8000</td>\n",
       "      <td>Gravitational Lensing</td>\n",
       "    </tr>\n",
       "    <tr>\n",
       "      <th>1</th>\n",
       "      <td>Exoplanet Xylon</td>\n",
       "      <td>42</td>\n",
       "      <td>Transit Photometry</td>\n",
       "    </tr>\n",
       "    <tr>\n",
       "      <th>2</th>\n",
       "      <td>Nebula Whisper</td>\n",
       "      <td>1500</td>\n",
       "      <td>Radio Wave Analysis</td>\n",
       "    </tr>\n",
       "    <tr>\n",
       "      <th>3</th>\n",
       "      <td>Asteroid Drift</td>\n",
       "      <td>320</td>\n",
       "      <td>Spectroscopic Survey</td>\n",
       "    </tr>\n",
       "  </tbody>\n",
       "</table>\n",
       "</div>"
      ]
     },
     "execution_count": 5,
     "metadata": {},
     "output_type": "execute_result"
    }
   ],
   "execution_count": 5
  },
  {
   "metadata": {},
   "cell_type": "markdown",
   "source": "## Generate Data with Few-shot input output Examples",
   "id": "2b251be24dd78ec"
  },
  {
   "metadata": {
    "ExecuteTime": {
     "end_time": "2024-09-24T11:37:15.134731Z",
     "start_time": "2024-09-24T11:37:13.335040Z"
    }
   },
   "cell_type": "code",
   "source": [
    "from SynthCore import FewShotPrompt\n",
    "\n",
    "examples = [\n",
    "    {\n",
    "        \"input\": \"Generate a dataset with 3 columns and 2 rows about biology.\",\n",
    "        \"output\": '[{\"Species\": \"Human\", \"Cell Count\": 37.2, \"Age\": 30}, {\"Species\": \"Mouse\", \"Cell Count\": 3.2, \"Age\": 2}]'\n",
    "    },\n",
    "    {\n",
    "        \"input\": \"Generate a dataset with 3 columns and 2 rows about chemistry.\",\n",
    "        \"output\": '[{\"Element\": \"Hydrogen\", \"Atomic Number\": 1, \"Weight\": 1.008}, {\"Element\": \"Oxygen\", \"Atomic Number\": 8, \"Weight\": 15.999}]'\n",
    "    }\n",
    "]\n",
    "\n",
    "user_prompt = \"Generate a dataset with 3 columns and 2 rows about astronomy.\"\n",
    "#instruction = DataGenerationPrompt.get_instruction(user_prompt)\n",
    "LLM = IndoxApi(api_key=INDOX_API_KEY)\n",
    "\n",
    "data_generator= FewShotPrompt(\n",
    "    prompt_name=\"Generate Astronomy Dataset\",\n",
    "    args={\n",
    "        \"llm\": LLM,\n",
    "        \"n\": 1,  \n",
    "        \"instruction\": user_prompt,  \n",
    "    },\n",
    "    outputs={\"generations\": \"generate\"},\n",
    "    examples=examples  \n",
    ")\n",
    "\n",
    "generated_df = data_generator.run()\n",
    "\n",
    "print(generated_df)\n",
    "data_generator.save_to_excel(\"output_data.xlsx\",df)\n"
   ],
   "id": "59be4f15250a5399",
   "outputs": [
    {
     "name": "stdout",
     "output_type": "stream",
     "text": [
      "  Celestial Body  Diameter (km)  Distance from Sun (million km)\n",
      "0          Earth          12742                           149.6\n",
      "1           Mars           6779                           227.9\n",
      "\u001B[32mINFO\u001B[0m: \u001B[1mDataFrame saved to Excel file at: output_data.xlsx\u001B[0m\n"
     ]
    }
   ],
   "execution_count": 9
  },
  {
   "metadata": {
    "ExecuteTime": {
     "end_time": "2024-09-24T11:37:22.843324Z",
     "start_time": "2024-09-24T11:37:22.819749Z"
    }
   },
   "cell_type": "code",
   "source": "df",
   "id": "47d8702e06da7bd9",
   "outputs": [
    {
     "data": {
      "text/plain": [
       "  Celestial Body  Diameter (km)  Distance from Sun (million km)\n",
       "0          Earth          12742                           149.6\n",
       "1           Mars           6779                           227.9"
      ],
      "text/html": [
       "<div>\n",
       "<style scoped>\n",
       "    .dataframe tbody tr th:only-of-type {\n",
       "        vertical-align: middle;\n",
       "    }\n",
       "\n",
       "    .dataframe tbody tr th {\n",
       "        vertical-align: top;\n",
       "    }\n",
       "\n",
       "    .dataframe thead th {\n",
       "        text-align: right;\n",
       "    }\n",
       "</style>\n",
       "<table border=\"1\" class=\"dataframe\">\n",
       "  <thead>\n",
       "    <tr style=\"text-align: right;\">\n",
       "      <th></th>\n",
       "      <th>Celestial Body</th>\n",
       "      <th>Diameter (km)</th>\n",
       "      <th>Distance from Sun (million km)</th>\n",
       "    </tr>\n",
       "  </thead>\n",
       "  <tbody>\n",
       "    <tr>\n",
       "      <th>0</th>\n",
       "      <td>Earth</td>\n",
       "      <td>12742</td>\n",
       "      <td>149.6</td>\n",
       "    </tr>\n",
       "    <tr>\n",
       "      <th>1</th>\n",
       "      <td>Mars</td>\n",
       "      <td>6779</td>\n",
       "      <td>227.9</td>\n",
       "    </tr>\n",
       "  </tbody>\n",
       "</table>\n",
       "</div>"
      ]
     },
     "execution_count": 10,
     "metadata": {},
     "output_type": "execute_result"
    }
   ],
   "execution_count": 10
  },
  {
   "metadata": {},
   "cell_type": "markdown",
   "source": "## Generate Data with Attribute",
   "id": "9a6dd9fc64f98a2"
  },
  {
   "metadata": {
    "ExecuteTime": {
     "end_time": "2024-09-24T11:37:31.384995Z",
     "start_time": "2024-09-24T11:37:25.612419Z"
    }
   },
   "cell_type": "code",
   "source": [
    "from SynthCore import DataFromAttributedPrompt\n",
    "LLM = IndoxApi(api_key=INDOX_API_KEY)\n",
    "\n",
    "args = {\n",
    "    \"instruction\": \"Generate a {adjective} sentence that is {length}.\",\n",
    "    \"attributes\": {\n",
    "        \"adjective\": [\"serious\", \"funny\"],\n",
    "        \"length\": [\"short\", \"long\"]\n",
    "    },\n",
    "    \"llm\":LLM\n",
    "}\n",
    "\n",
    "dataset = DataFromAttributedPrompt(prompt_name=\"ExamplePrompt\",\n",
    "                                            args=args,\n",
    "                                            outputs={})\n",
    "\n",
    "df = dataset .run()\n",
    "\n",
    "print(df)"
   ],
   "id": "535a991e554bbc33",
   "outputs": [
    {
     "name": "stdout",
     "output_type": "stream",
     "text": [
      "\u001B[32mINFO\u001B[0m: \u001B[1mGenerated 4 prompts from attributes.\u001B[0m\n",
      "\u001B[32mINFO\u001B[0m: \u001B[1mRunning prompt: Generate a serious sentence that is short.\u001B[0m\n",
      "\u001B[32mINFO\u001B[0m: \u001B[1mRunning prompt: Generate a serious sentence that is long.\u001B[0m\n",
      "\u001B[32mINFO\u001B[0m: \u001B[1mRunning prompt: Generate a funny sentence that is short.\u001B[0m\n",
      "\u001B[32mINFO\u001B[0m: \u001B[1mRunning prompt: Generate a funny sentence that is long.\u001B[0m\n",
      "\u001B[32mINFO\u001B[0m: \u001B[1mGenerated DataFrame with 4 records.\u001B[0m\n",
      "                                            response\n",
      "0                             Time waits for no one.\n",
      "1  In the quiet stillness of the early morning, a...\n",
      "2  I told my dog he was adopted, and now he won’t...\n",
      "3  As the overly ambitious squirrel, donning a ti...\n"
     ]
    }
   ],
   "execution_count": 11
  },
  {
   "metadata": {
    "ExecuteTime": {
     "end_time": "2024-09-24T11:35:46.808724Z",
     "start_time": "2024-09-24T11:35:46.793089Z"
    }
   },
   "cell_type": "code",
   "source": "df",
   "id": "ff21b5b7af50eadb",
   "outputs": [],
   "execution_count": null
  }
 ],
 "metadata": {
  "kernelspec": {
   "display_name": "Python 3",
   "language": "python",
   "name": "python3"
  },
  "language_info": {
   "codemirror_mode": {
    "name": "ipython",
    "version": 2
   },
   "file_extension": ".py",
   "mimetype": "text/x-python",
   "name": "python",
   "nbconvert_exporter": "python",
   "pygments_lexer": "ipython2",
   "version": "2.7.6"
  }
 },
 "nbformat": 4,
 "nbformat_minor": 5
}
