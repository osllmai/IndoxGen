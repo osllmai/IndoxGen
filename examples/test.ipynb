{
 "cells": [
  {
   "cell_type": "code",
   "id": "initial_id",
   "metadata": {
    "collapsed": true,
    "ExecuteTime": {
     "end_time": "2024-10-15T14:43:23.989314Z",
     "start_time": "2024-10-15T14:43:23.964190Z"
    }
   },
   "source": [
    "import os\n",
    "from dotenv import load_dotenv\n",
    "\n",
    "load_dotenv()\n",
    "OPENAI_API_KEY = os.environ['OPENAI_API_KEY']\n",
    "NVIDIA_API_KEY = os.environ['NVIDIA_API_KEY']"
   ],
   "outputs": [],
   "execution_count": 1
  },
  {
   "metadata": {
    "ExecuteTime": {
     "end_time": "2024-10-15T14:43:26.515838Z",
     "start_time": "2024-10-15T14:43:24.302478Z"
    }
   },
   "cell_type": "code",
   "source": [
    "from libs.indoxGen.indoxGen.llms import OpenAi\n",
    "\n",
    "openai = OpenAi(api_key=OPENAI_API_KEY, model=\"gpt-4o-mini\")\n",
    "\n",
    "nemotron = OpenAi(api_key=NVIDIA_API_KEY, model=\"nvidia/nemotron-4-340b-instruct\",\n",
    "                  base_url=\"https://integrate.api.nvidia.com/v1\")"
   ],
   "id": "ca4ae2a45772e9e4",
   "outputs": [],
   "execution_count": 2
  },
  {
   "metadata": {
    "ExecuteTime": {
     "end_time": "2024-10-15T14:43:26.858437Z",
     "start_time": "2024-10-15T14:43:26.515838Z"
    }
   },
   "cell_type": "code",
   "source": [
    "import pandas as pd\n",
    "import random\n",
    "\n",
    "\n",
    "def generate_text_data():\n",
    "    adjectives = [\"Quick\", \"Lazy\", \"Happy\", \"Sad\", \"Brave\", \"Calm\", \"Bright\", \"Dark\"]\n",
    "    nouns = [\"Fox\", \"Dog\", \"Cat\", \"Rabbit\", \"Bear\", \"Tiger\", \"Eagle\", \"Wolf\"]\n",
    "    return f\"{random.choice(adjectives)} {random.choice(nouns)}\"\n",
    "\n",
    "\n",
    "def generate_numerical_data():\n",
    "    return random.uniform(10, 100)\n",
    "\n",
    "\n",
    "data = {\n",
    "    \"Description\": [generate_text_data() for _ in range(15)],  # Random text descriptions\n",
    "    \"Quantity\": [random.randint(1, 50) for _ in range(15)],  # Random integer values\n",
    "    \"Price\": [round(generate_numerical_data(), 2) for _ in range(15)],  # Random float values\n",
    "    \"In Stock\": [random.choice([True, False]) for _ in range(15)]  # Random boolean values\n",
    "}\n",
    "\n",
    "df = pd.DataFrame(data)\n"
   ],
   "id": "e211adc76deae5fb",
   "outputs": [],
   "execution_count": 3
  },
  {
   "metadata": {
    "ExecuteTime": {
     "end_time": "2024-10-15T14:43:26.872208Z",
     "start_time": "2024-10-15T14:43:26.858437Z"
    }
   },
   "cell_type": "code",
   "source": "df",
   "id": "7b93f45a9734284e",
   "outputs": [
    {
     "data": {
      "text/plain": [
       "     Description  Quantity  Price  In Stock\n",
       "0       Calm Cat        26  76.95     False\n",
       "1       Sad Bear         9  86.07      True\n",
       "2       Lazy Dog        50  34.45      True\n",
       "3     Calm Eagle         2  24.20     False\n",
       "4    Quick Eagle        10  12.66      True\n",
       "5      Brave Cat         8  76.80     False\n",
       "6      Lazy Wolf        43  24.68     False\n",
       "7   Bright Tiger        43  56.89      True\n",
       "8   Quick Rabbit        14  63.71      True\n",
       "9    Calm Rabbit        29  32.04      True\n",
       "10      Dark Cat        15  65.88      True\n",
       "11      Lazy Dog        40  80.83     False\n",
       "12    Calm Eagle        27  41.59     False\n",
       "13      Sad Bear        14  68.01     False\n",
       "14     Quick Dog        10  77.35      True"
      ],
      "text/html": [
       "<div>\n",
       "<style scoped>\n",
       "    .dataframe tbody tr th:only-of-type {\n",
       "        vertical-align: middle;\n",
       "    }\n",
       "\n",
       "    .dataframe tbody tr th {\n",
       "        vertical-align: top;\n",
       "    }\n",
       "\n",
       "    .dataframe thead th {\n",
       "        text-align: right;\n",
       "    }\n",
       "</style>\n",
       "<table border=\"1\" class=\"dataframe\">\n",
       "  <thead>\n",
       "    <tr style=\"text-align: right;\">\n",
       "      <th></th>\n",
       "      <th>Description</th>\n",
       "      <th>Quantity</th>\n",
       "      <th>Price</th>\n",
       "      <th>In Stock</th>\n",
       "    </tr>\n",
       "  </thead>\n",
       "  <tbody>\n",
       "    <tr>\n",
       "      <th>0</th>\n",
       "      <td>Calm Cat</td>\n",
       "      <td>26</td>\n",
       "      <td>76.95</td>\n",
       "      <td>False</td>\n",
       "    </tr>\n",
       "    <tr>\n",
       "      <th>1</th>\n",
       "      <td>Sad Bear</td>\n",
       "      <td>9</td>\n",
       "      <td>86.07</td>\n",
       "      <td>True</td>\n",
       "    </tr>\n",
       "    <tr>\n",
       "      <th>2</th>\n",
       "      <td>Lazy Dog</td>\n",
       "      <td>50</td>\n",
       "      <td>34.45</td>\n",
       "      <td>True</td>\n",
       "    </tr>\n",
       "    <tr>\n",
       "      <th>3</th>\n",
       "      <td>Calm Eagle</td>\n",
       "      <td>2</td>\n",
       "      <td>24.20</td>\n",
       "      <td>False</td>\n",
       "    </tr>\n",
       "    <tr>\n",
       "      <th>4</th>\n",
       "      <td>Quick Eagle</td>\n",
       "      <td>10</td>\n",
       "      <td>12.66</td>\n",
       "      <td>True</td>\n",
       "    </tr>\n",
       "    <tr>\n",
       "      <th>5</th>\n",
       "      <td>Brave Cat</td>\n",
       "      <td>8</td>\n",
       "      <td>76.80</td>\n",
       "      <td>False</td>\n",
       "    </tr>\n",
       "    <tr>\n",
       "      <th>6</th>\n",
       "      <td>Lazy Wolf</td>\n",
       "      <td>43</td>\n",
       "      <td>24.68</td>\n",
       "      <td>False</td>\n",
       "    </tr>\n",
       "    <tr>\n",
       "      <th>7</th>\n",
       "      <td>Bright Tiger</td>\n",
       "      <td>43</td>\n",
       "      <td>56.89</td>\n",
       "      <td>True</td>\n",
       "    </tr>\n",
       "    <tr>\n",
       "      <th>8</th>\n",
       "      <td>Quick Rabbit</td>\n",
       "      <td>14</td>\n",
       "      <td>63.71</td>\n",
       "      <td>True</td>\n",
       "    </tr>\n",
       "    <tr>\n",
       "      <th>9</th>\n",
       "      <td>Calm Rabbit</td>\n",
       "      <td>29</td>\n",
       "      <td>32.04</td>\n",
       "      <td>True</td>\n",
       "    </tr>\n",
       "    <tr>\n",
       "      <th>10</th>\n",
       "      <td>Dark Cat</td>\n",
       "      <td>15</td>\n",
       "      <td>65.88</td>\n",
       "      <td>True</td>\n",
       "    </tr>\n",
       "    <tr>\n",
       "      <th>11</th>\n",
       "      <td>Lazy Dog</td>\n",
       "      <td>40</td>\n",
       "      <td>80.83</td>\n",
       "      <td>False</td>\n",
       "    </tr>\n",
       "    <tr>\n",
       "      <th>12</th>\n",
       "      <td>Calm Eagle</td>\n",
       "      <td>27</td>\n",
       "      <td>41.59</td>\n",
       "      <td>False</td>\n",
       "    </tr>\n",
       "    <tr>\n",
       "      <th>13</th>\n",
       "      <td>Sad Bear</td>\n",
       "      <td>14</td>\n",
       "      <td>68.01</td>\n",
       "      <td>False</td>\n",
       "    </tr>\n",
       "    <tr>\n",
       "      <th>14</th>\n",
       "      <td>Quick Dog</td>\n",
       "      <td>10</td>\n",
       "      <td>77.35</td>\n",
       "      <td>True</td>\n",
       "    </tr>\n",
       "  </tbody>\n",
       "</table>\n",
       "</div>"
      ]
     },
     "execution_count": 4,
     "metadata": {},
     "output_type": "execute_result"
    }
   ],
   "execution_count": 4
  },
  {
   "metadata": {
    "ExecuteTime": {
     "end_time": "2024-10-15T14:43:35.055849Z",
     "start_time": "2024-10-15T14:43:34.414195Z"
    }
   },
   "cell_type": "code",
   "source": "from libs.indoxGen.indoxGen.hybrid_synth import TextTabularSynth, initialize_gan_synth, initialize_llm_synth",
   "id": "dec737a400bfcc9d",
   "outputs": [],
   "execution_count": 6
  },
  {
   "metadata": {
    "ExecuteTime": {
     "end_time": "2024-10-15T14:43:35.061153Z",
     "start_time": "2024-10-15T14:43:35.055849Z"
    }
   },
   "cell_type": "code",
   "source": [
    "llm_columns = [\"Description\", \"In Stock\"]\n",
    "\n",
    "llm_setup = initialize_llm_synth(generator_llm=nemotron, judge_llm=openai, real_data=df, columns=llm_columns,example_data=df,user_instruction=\"please only generate columns with text, leave numerical\")"
   ],
   "id": "e0e8f088444355b0",
   "outputs": [],
   "execution_count": 7
  },
  {
   "metadata": {
    "ExecuteTime": {
     "end_time": "2024-10-15T14:44:03.815126Z",
     "start_time": "2024-10-15T14:43:35.575684Z"
    }
   },
   "cell_type": "code",
   "source": [
    "\n",
    "integer_columns = [\"Quantity\"]\n",
    "mixed_columns = [\"Price\"]\n",
    "gan_setup = initialize_gan_synth(input_dim=100,  \n",
    "                                 generator_layers=[128, 256, 512],\n",
    "                                 discriminator_layers=[512, 256, 128],\n",
    "                                 learning_rate=2e-4,\n",
    "                                 beta_1=0.5,\n",
    "                                 beta_2=0.9,\n",
    "                                 batch_size=128,\n",
    "                                 epochs=50,\n",
    "                                 n_critic=5,\n",
    "                                 mixed_columns=mixed_columns,\n",
    "                                 integer_columns=integer_columns,\n",
    "                                 categorical_columns=None)"
   ],
   "id": "db5704d71c536bb5",
   "outputs": [
    {
     "ename": "ImportError",
     "evalue": "Neither `indoxGen_tensor` nor `indoxGen_torch` is installed. Please install one of these packages to proceed.",
     "output_type": "error",
     "traceback": [
      "\u001B[1;31m---------------------------------------------------------------------------\u001B[0m",
      "\u001B[1;31mStopIteration\u001B[0m                             Traceback (most recent call last)",
      "File \u001B[1;32m~\\AppData\\Local\\Programs\\Python\\Python312\\Lib\\importlib\\metadata\\__init__.py:397\u001B[0m, in \u001B[0;36mDistribution.from_name\u001B[1;34m(cls, name)\u001B[0m\n\u001B[0;32m    396\u001B[0m \u001B[38;5;28;01mtry\u001B[39;00m:\n\u001B[1;32m--> 397\u001B[0m     \u001B[38;5;28;01mreturn\u001B[39;00m \u001B[38;5;28;43mnext\u001B[39;49m\u001B[43m(\u001B[49m\u001B[38;5;28;43mcls\u001B[39;49m\u001B[38;5;241;43m.\u001B[39;49m\u001B[43mdiscover\u001B[49m\u001B[43m(\u001B[49m\u001B[43mname\u001B[49m\u001B[38;5;241;43m=\u001B[39;49m\u001B[43mname\u001B[49m\u001B[43m)\u001B[49m\u001B[43m)\u001B[49m\n\u001B[0;32m    398\u001B[0m \u001B[38;5;28;01mexcept\u001B[39;00m \u001B[38;5;167;01mStopIteration\u001B[39;00m:\n",
      "\u001B[1;31mStopIteration\u001B[0m: ",
      "\nDuring handling of the above exception, another exception occurred:\n",
      "\u001B[1;31mPackageNotFoundError\u001B[0m                      Traceback (most recent call last)",
      "File \u001B[1;32mE:\\Codes\\IndoxGen\\libs\\indoxGen\\indoxGen\\hybrid_synth\\text_tabular.py:57\u001B[0m, in \u001B[0;36minitialize_gan_synth\u001B[1;34m(input_dim, generator_layers, discriminator_layers, learning_rate, beta_1, beta_2, batch_size, epochs, n_critic, categorical_columns, mixed_columns, integer_columns)\u001B[0m\n\u001B[0;32m     56\u001B[0m \u001B[38;5;28;01mtry\u001B[39;00m:\n\u001B[1;32m---> 57\u001B[0m     \u001B[38;5;28;01mfrom\u001B[39;00m \u001B[38;5;21;01mlibs\u001B[39;00m\u001B[38;5;21;01m.\u001B[39;00m\u001B[38;5;21;01mindoxGen_tensor\u001B[39;00m\u001B[38;5;21;01m.\u001B[39;00m\u001B[38;5;21;01mindoxGen_tensor\u001B[39;00m \u001B[38;5;28;01mimport\u001B[39;00m TabularGANConfig\n\u001B[0;32m     58\u001B[0m     \u001B[38;5;28mprint\u001B[39m(\u001B[38;5;124m\"\u001B[39m\u001B[38;5;124mSuccessfully imported TabularGANConfig from indoxGen_tensor.\u001B[39m\u001B[38;5;124m\"\u001B[39m)\n",
      "File \u001B[1;32mE:\\Codes\\IndoxGen\\libs\\indoxGen_tensor\\indoxGen_tensor\\__init__.py:17\u001B[0m\n\u001B[0;32m     16\u001B[0m \u001B[38;5;66;03m# Ensure the package name is correct here\u001B[39;00m\n\u001B[1;32m---> 17\u001B[0m __version__ \u001B[38;5;241m=\u001B[39m \u001B[43mimportlib\u001B[49m\u001B[38;5;241;43m.\u001B[39;49m\u001B[43mmetadata\u001B[49m\u001B[38;5;241;43m.\u001B[39;49m\u001B[43mversion\u001B[49m\u001B[43m(\u001B[49m\u001B[38;5;124;43m\"\u001B[39;49m\u001B[38;5;124;43mindoxGen_tensor\u001B[39;49m\u001B[38;5;124;43m\"\u001B[39;49m\u001B[43m)\u001B[49m\n",
      "File \u001B[1;32m~\\AppData\\Local\\Programs\\Python\\Python312\\Lib\\importlib\\metadata\\__init__.py:888\u001B[0m, in \u001B[0;36mversion\u001B[1;34m(distribution_name)\u001B[0m\n\u001B[0;32m    882\u001B[0m \u001B[38;5;250m\u001B[39m\u001B[38;5;124;03m\"\"\"Get the version string for the named package.\u001B[39;00m\n\u001B[0;32m    883\u001B[0m \n\u001B[0;32m    884\u001B[0m \u001B[38;5;124;03m:param distribution_name: The name of the distribution package to query.\u001B[39;00m\n\u001B[0;32m    885\u001B[0m \u001B[38;5;124;03m:return: The version string for the package as defined in the package's\u001B[39;00m\n\u001B[0;32m    886\u001B[0m \u001B[38;5;124;03m    \"Version\" metadata key.\u001B[39;00m\n\u001B[0;32m    887\u001B[0m \u001B[38;5;124;03m\"\"\"\u001B[39;00m\n\u001B[1;32m--> 888\u001B[0m \u001B[38;5;28;01mreturn\u001B[39;00m \u001B[43mdistribution\u001B[49m\u001B[43m(\u001B[49m\u001B[43mdistribution_name\u001B[49m\u001B[43m)\u001B[49m\u001B[38;5;241m.\u001B[39mversion\n",
      "File \u001B[1;32m~\\AppData\\Local\\Programs\\Python\\Python312\\Lib\\importlib\\metadata\\__init__.py:861\u001B[0m, in \u001B[0;36mdistribution\u001B[1;34m(distribution_name)\u001B[0m\n\u001B[0;32m    856\u001B[0m \u001B[38;5;250m\u001B[39m\u001B[38;5;124;03m\"\"\"Get the ``Distribution`` instance for the named package.\u001B[39;00m\n\u001B[0;32m    857\u001B[0m \n\u001B[0;32m    858\u001B[0m \u001B[38;5;124;03m:param distribution_name: The name of the distribution package as a string.\u001B[39;00m\n\u001B[0;32m    859\u001B[0m \u001B[38;5;124;03m:return: A ``Distribution`` instance (or subclass thereof).\u001B[39;00m\n\u001B[0;32m    860\u001B[0m \u001B[38;5;124;03m\"\"\"\u001B[39;00m\n\u001B[1;32m--> 861\u001B[0m \u001B[38;5;28;01mreturn\u001B[39;00m \u001B[43mDistribution\u001B[49m\u001B[38;5;241;43m.\u001B[39;49m\u001B[43mfrom_name\u001B[49m\u001B[43m(\u001B[49m\u001B[43mdistribution_name\u001B[49m\u001B[43m)\u001B[49m\n",
      "File \u001B[1;32m~\\AppData\\Local\\Programs\\Python\\Python312\\Lib\\importlib\\metadata\\__init__.py:399\u001B[0m, in \u001B[0;36mDistribution.from_name\u001B[1;34m(cls, name)\u001B[0m\n\u001B[0;32m    398\u001B[0m \u001B[38;5;28;01mexcept\u001B[39;00m \u001B[38;5;167;01mStopIteration\u001B[39;00m:\n\u001B[1;32m--> 399\u001B[0m     \u001B[38;5;28;01mraise\u001B[39;00m PackageNotFoundError(name)\n",
      "\u001B[1;31mPackageNotFoundError\u001B[0m: No package metadata was found for indoxGen_tensor",
      "\nDuring handling of the above exception, another exception occurred:\n",
      "\u001B[1;31mModuleNotFoundError\u001B[0m                       Traceback (most recent call last)",
      "File \u001B[1;32mE:\\Codes\\IndoxGen\\libs\\indoxGen\\indoxGen\\hybrid_synth\\text_tabular.py:61\u001B[0m, in \u001B[0;36minitialize_gan_synth\u001B[1;34m(input_dim, generator_layers, discriminator_layers, learning_rate, beta_1, beta_2, batch_size, epochs, n_critic, categorical_columns, mixed_columns, integer_columns)\u001B[0m\n\u001B[0;32m     60\u001B[0m \u001B[38;5;28;01mtry\u001B[39;00m:\n\u001B[1;32m---> 61\u001B[0m     \u001B[38;5;28;01mfrom\u001B[39;00m \u001B[38;5;21;01mindoxGen_torch\u001B[39;00m \u001B[38;5;28;01mimport\u001B[39;00m TabularGANConfig\n\u001B[0;32m     62\u001B[0m     \u001B[38;5;28mprint\u001B[39m(\u001B[38;5;124m\"\u001B[39m\u001B[38;5;124mSuccessfully imported TabularGANConfig from indoxGen_torch.\u001B[39m\u001B[38;5;124m\"\u001B[39m)\n",
      "\u001B[1;31mModuleNotFoundError\u001B[0m: No module named 'indoxGen_torch'",
      "\nDuring handling of the above exception, another exception occurred:\n",
      "\u001B[1;31mImportError\u001B[0m                               Traceback (most recent call last)",
      "Cell \u001B[1;32mIn[8], line 3\u001B[0m\n\u001B[0;32m      1\u001B[0m integer_columns \u001B[38;5;241m=\u001B[39m [\u001B[38;5;124m\"\u001B[39m\u001B[38;5;124mQuantity\u001B[39m\u001B[38;5;124m\"\u001B[39m]\n\u001B[0;32m      2\u001B[0m mixed_columns \u001B[38;5;241m=\u001B[39m [\u001B[38;5;124m\"\u001B[39m\u001B[38;5;124mPrice\u001B[39m\u001B[38;5;124m\"\u001B[39m]\n\u001B[1;32m----> 3\u001B[0m gan_setup \u001B[38;5;241m=\u001B[39m \u001B[43minitialize_gan_synth\u001B[49m\u001B[43m(\u001B[49m\u001B[43minput_dim\u001B[49m\u001B[38;5;241;43m=\u001B[39;49m\u001B[38;5;241;43m100\u001B[39;49m\u001B[43m,\u001B[49m\u001B[43m  \u001B[49m\n\u001B[0;32m      4\u001B[0m \u001B[43m                                 \u001B[49m\u001B[43mgenerator_layers\u001B[49m\u001B[38;5;241;43m=\u001B[39;49m\u001B[43m[\u001B[49m\u001B[38;5;241;43m128\u001B[39;49m\u001B[43m,\u001B[49m\u001B[43m \u001B[49m\u001B[38;5;241;43m256\u001B[39;49m\u001B[43m,\u001B[49m\u001B[43m \u001B[49m\u001B[38;5;241;43m512\u001B[39;49m\u001B[43m]\u001B[49m\u001B[43m,\u001B[49m\n\u001B[0;32m      5\u001B[0m \u001B[43m                                 \u001B[49m\u001B[43mdiscriminator_layers\u001B[49m\u001B[38;5;241;43m=\u001B[39;49m\u001B[43m[\u001B[49m\u001B[38;5;241;43m512\u001B[39;49m\u001B[43m,\u001B[49m\u001B[43m \u001B[49m\u001B[38;5;241;43m256\u001B[39;49m\u001B[43m,\u001B[49m\u001B[43m \u001B[49m\u001B[38;5;241;43m128\u001B[39;49m\u001B[43m]\u001B[49m\u001B[43m,\u001B[49m\n\u001B[0;32m      6\u001B[0m \u001B[43m                                 \u001B[49m\u001B[43mlearning_rate\u001B[49m\u001B[38;5;241;43m=\u001B[39;49m\u001B[38;5;241;43m2e-4\u001B[39;49m\u001B[43m,\u001B[49m\n\u001B[0;32m      7\u001B[0m \u001B[43m                                 \u001B[49m\u001B[43mbeta_1\u001B[49m\u001B[38;5;241;43m=\u001B[39;49m\u001B[38;5;241;43m0.5\u001B[39;49m\u001B[43m,\u001B[49m\n\u001B[0;32m      8\u001B[0m \u001B[43m                                 \u001B[49m\u001B[43mbeta_2\u001B[49m\u001B[38;5;241;43m=\u001B[39;49m\u001B[38;5;241;43m0.9\u001B[39;49m\u001B[43m,\u001B[49m\n\u001B[0;32m      9\u001B[0m \u001B[43m                                 \u001B[49m\u001B[43mbatch_size\u001B[49m\u001B[38;5;241;43m=\u001B[39;49m\u001B[38;5;241;43m128\u001B[39;49m\u001B[43m,\u001B[49m\n\u001B[0;32m     10\u001B[0m \u001B[43m                                 \u001B[49m\u001B[43mepochs\u001B[49m\u001B[38;5;241;43m=\u001B[39;49m\u001B[38;5;241;43m50\u001B[39;49m\u001B[43m,\u001B[49m\n\u001B[0;32m     11\u001B[0m \u001B[43m                                 \u001B[49m\u001B[43mn_critic\u001B[49m\u001B[38;5;241;43m=\u001B[39;49m\u001B[38;5;241;43m5\u001B[39;49m\u001B[43m,\u001B[49m\n\u001B[0;32m     12\u001B[0m \u001B[43m                                 \u001B[49m\u001B[43mmixed_columns\u001B[49m\u001B[38;5;241;43m=\u001B[39;49m\u001B[43mmixed_columns\u001B[49m\u001B[43m,\u001B[49m\n\u001B[0;32m     13\u001B[0m \u001B[43m                                 \u001B[49m\u001B[43minteger_columns\u001B[49m\u001B[38;5;241;43m=\u001B[39;49m\u001B[43minteger_columns\u001B[49m\u001B[43m,\u001B[49m\n\u001B[0;32m     14\u001B[0m \u001B[43m                                 \u001B[49m\u001B[43mcategorical_columns\u001B[49m\u001B[38;5;241;43m=\u001B[39;49m\u001B[38;5;28;43;01mNone\u001B[39;49;00m\u001B[43m)\u001B[49m\n",
      "File \u001B[1;32mE:\\Codes\\IndoxGen\\libs\\indoxGen\\indoxGen\\hybrid_synth\\text_tabular.py:64\u001B[0m, in \u001B[0;36minitialize_gan_synth\u001B[1;34m(input_dim, generator_layers, discriminator_layers, learning_rate, beta_1, beta_2, batch_size, epochs, n_critic, categorical_columns, mixed_columns, integer_columns)\u001B[0m\n\u001B[0;32m     62\u001B[0m         \u001B[38;5;28mprint\u001B[39m(\u001B[38;5;124m\"\u001B[39m\u001B[38;5;124mSuccessfully imported TabularGANConfig from indoxGen_torch.\u001B[39m\u001B[38;5;124m\"\u001B[39m)\n\u001B[0;32m     63\u001B[0m     \u001B[38;5;28;01mexcept\u001B[39;00m \u001B[38;5;167;01mImportError\u001B[39;00m:\n\u001B[1;32m---> 64\u001B[0m         \u001B[38;5;28;01mraise\u001B[39;00m \u001B[38;5;167;01mImportError\u001B[39;00m(\n\u001B[0;32m     65\u001B[0m             \u001B[38;5;124m\"\u001B[39m\u001B[38;5;124mNeither `indoxGen_tensor` nor `indoxGen_torch` is installed. \u001B[39m\u001B[38;5;124m\"\u001B[39m\n\u001B[0;32m     66\u001B[0m             \u001B[38;5;124m\"\u001B[39m\u001B[38;5;124mPlease install one of these packages to proceed.\u001B[39m\u001B[38;5;124m\"\u001B[39m\n\u001B[0;32m     67\u001B[0m         )\n\u001B[0;32m     69\u001B[0m gan_config \u001B[38;5;241m=\u001B[39m TabularGANConfig(\n\u001B[0;32m     70\u001B[0m     input_dim\u001B[38;5;241m=\u001B[39minput_dim,\n\u001B[0;32m     71\u001B[0m     generator_layers\u001B[38;5;241m=\u001B[39mgenerator_layers,\n\u001B[1;32m   (...)\u001B[0m\n\u001B[0;32m     78\u001B[0m     n_critic\u001B[38;5;241m=\u001B[39mn_critic\n\u001B[0;32m     79\u001B[0m )\n\u001B[0;32m     81\u001B[0m \u001B[38;5;28;01mreturn\u001B[39;00m {\n\u001B[0;32m     82\u001B[0m     \u001B[38;5;124m\"\u001B[39m\u001B[38;5;124mconfig\u001B[39m\u001B[38;5;124m\"\u001B[39m: gan_config,\n\u001B[0;32m     83\u001B[0m     \u001B[38;5;124m\"\u001B[39m\u001B[38;5;124mcategorical_columns\u001B[39m\u001B[38;5;124m\"\u001B[39m: categorical_columns,\n\u001B[0;32m     84\u001B[0m     \u001B[38;5;124m\"\u001B[39m\u001B[38;5;124mmixed_columns\u001B[39m\u001B[38;5;124m\"\u001B[39m: mixed_columns,\n\u001B[0;32m     85\u001B[0m     \u001B[38;5;124m\"\u001B[39m\u001B[38;5;124minteger_columns\u001B[39m\u001B[38;5;124m\"\u001B[39m: integer_columns\n\u001B[0;32m     86\u001B[0m }\n",
      "\u001B[1;31mImportError\u001B[0m: Neither `indoxGen_tensor` nor `indoxGen_torch` is installed. Please install one of these packages to proceed."
     ]
    }
   ],
   "execution_count": 8
  },
  {
   "metadata": {},
   "cell_type": "code",
   "outputs": [],
   "execution_count": null,
   "source": "",
   "id": "baf1a59dc6c30707"
  }
 ],
 "metadata": {
  "kernelspec": {
   "display_name": "Python 3",
   "language": "python",
   "name": "python3"
  },
  "language_info": {
   "codemirror_mode": {
    "name": "ipython",
    "version": 2
   },
   "file_extension": ".py",
   "mimetype": "text/x-python",
   "name": "python",
   "nbconvert_exporter": "python",
   "pygments_lexer": "ipython2",
   "version": "2.7.6"
  }
 },
 "nbformat": 4,
 "nbformat_minor": 5
}
