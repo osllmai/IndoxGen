{
 "cells": [
  {
   "cell_type": "code",
   "id": "initial_id",
   "metadata": {
    "collapsed": true,
    "ExecuteTime": {
     "end_time": "2024-09-24T07:14:37.009686Z",
     "start_time": "2024-09-24T07:14:36.996824Z"
    }
   },
   "source": [
    "import os\n",
    "from dotenv import load_dotenv\n",
    "\n",
    "load_dotenv('api.env')\n",
    "INDOX_API_KEY = os.environ['INDOX_API_KEY']\n",
    "NVIDIA_API_KEY = os.environ['NVIDIA_API_KEY']"
   ],
   "outputs": [],
   "execution_count": 1
  },
  {
   "metadata": {
    "ExecuteTime": {
     "end_time": "2024-09-24T07:14:37.604903Z",
     "start_time": "2024-09-24T07:14:37.599153Z"
    }
   },
   "cell_type": "code",
   "source": [
    "columns = [\"name\", \"age\", \"occupation\"]\n",
    "example_data = [\n",
    "    {\"name\": \"Alice Johnson\", \"age\": 35, \"occupation\": \"Manager\"},\n",
    "    {\"name\": \"Bob Williams\", \"age\": 42, \"occupation\": \"Accountant\"}\n",
    "]"
   ],
   "id": "f82dbf11365f0308",
   "outputs": [],
   "execution_count": 2
  },
  {
   "metadata": {
    "ExecuteTime": {
     "end_time": "2024-09-24T07:14:38.140671Z",
     "start_time": "2024-09-24T07:14:38.137562Z"
    }
   },
   "cell_type": "code",
   "source": [
    "columns_medical = [\"Patient ID\",\"Patient Name\",\"Diagnosis Code\",\"Procedure Code\",\"Total Charge\",\"Insurance Claim Amount\"]\n",
    "examples_medical = [\n",
    "    {\n",
    "        \"example\": \"\"\"Patient ID: 123456, Patient Name: John Doe, Diagnosis Code: \n",
    "        J20.9, Procedure Code: 99203, Total Charge: $500, Insurance Claim Amount: $350\"\"\"\n",
    "    },\n",
    "    {\n",
    "        \"example\": \"\"\"Patient ID: 789012, Patient Name: Johnson Smith, Diagnosis \n",
    "        Code: M54.5, Procedure Code: 99213, Total Charge: $150, Insurance Claim Amount: $120\"\"\"\n",
    "    },\n",
    "    {\n",
    "        \"example\": \"\"\"Patient ID: 345678, Patient Name: Emily Stone, Diagnosis Code: \n",
    "        E11.9, Procedure Code: 99214, Total Charge: $300, Insurance Claim Amount: $250\"\"\"\n",
    "    },\n",
    "]"
   ],
   "id": "7e2479618bd238bc",
   "outputs": [],
   "execution_count": 3
  },
  {
   "metadata": {
    "ExecuteTime": {
     "end_time": "2024-09-24T07:14:39.573985Z",
     "start_time": "2024-09-24T07:14:39.278824Z"
    }
   },
   "cell_type": "code",
   "source": [
    "from models import OpenAi, IndoxApi\n",
    "\n",
    "indox = IndoxApi(api_key=INDOX_API_KEY)\n",
    "\n",
    "nemotron = OpenAi(api_key=NVIDIA_API_KEY, model=\"nvidia/nemotron-4-340b-instruct\",\n",
    "                  base_url=\"https://integrate.api.nvidia.com/v1\")"
   ],
   "id": "7886a22687c5aa3b",
   "outputs": [],
   "execution_count": 4
  },
  {
   "metadata": {
    "ExecuteTime": {
     "end_time": "2024-09-24T07:14:40.354603Z",
     "start_time": "2024-09-24T07:14:40.349850Z"
    }
   },
   "cell_type": "code",
   "source": "feedback_range = (0.3, 1)",
   "id": "f84e7efea79c5cc3",
   "outputs": [],
   "execution_count": 5
  },
  {
   "metadata": {
    "ExecuteTime": {
     "end_time": "2024-09-24T07:14:41.279260Z",
     "start_time": "2024-09-24T07:14:40.815212Z"
    }
   },
   "cell_type": "code",
   "source": [
    "from SynthCore import SyntheticDataGeneratorFeedback\n",
    "generator = SyntheticDataGeneratorFeedback(\n",
    "    generator_llm=nemotron,\n",
    "    judge_llm=indox,\n",
    "    columns=columns,\n",
    "    example_data=example_data,\n",
    "    user_instruction=\"Generate realistic data including name, age and occupation. Ensure a mix of common and rare procedures, varying race, and appropriate date ranges for age.\",\n",
    "    verbose=1,\n",
    "    diversity_threshold=0.8,\n",
    "    feedback_range = feedback_range\n",
    ")"
   ],
   "id": "34e00ba1ebf7160b",
   "outputs": [
    {
     "name": "stderr",
     "output_type": "stream",
     "text": [
      "/home/amirdkb/anaconda3/envs/AI/lib/python3.10/site-packages/numpy/core/_methods.py:206: RuntimeWarning: Degrees of freedom <= 0 for slice\n",
      "  ret = _var(a, axis=axis, dtype=dtype, out=out, ddof=ddof,\n",
      "/home/amirdkb/anaconda3/envs/AI/lib/python3.10/site-packages/numpy/core/_methods.py:163: RuntimeWarning: invalid value encountered in divide\n",
      "  arrmean = um.true_divide(arrmean, div, out=arrmean,\n",
      "/home/amirdkb/anaconda3/envs/AI/lib/python3.10/site-packages/numpy/core/_methods.py:198: RuntimeWarning: invalid value encountered in scalar divide\n",
      "  ret = ret.dtype.type(ret / rcount)\n"
     ]
    }
   ],
   "execution_count": 6
  },
  {
   "metadata": {
    "ExecuteTime": {
     "end_time": "2024-09-24T07:16:07.034092Z",
     "start_time": "2024-09-24T07:14:51.194724Z"
    }
   },
   "cell_type": "code",
   "source": [
    "# Generate data\n",
    "generated_data = generator.generate_data(num_samples=8)"
   ],
   "id": "ae599a029c38fa30",
   "outputs": [
    {
     "name": "stdout",
     "output_type": "stream",
     "text": [
      "Feedback for generator: Generated data: {\"name\": \"Dr. Maya Chatterjee\", \"age\": 39, \"occupation\": \"Neurosurgeon\"}\n",
      "Score: 0.8\n",
      "Reason: Low score\n",
      "Feedback for generator: Generated data: {\"name\": \"Dr. Maya Chatterjee\", \"age\": 39, \"occupation\": \"Neurosurgeon\"}\n",
      "Score: 0.8\n",
      "Reason: Low score\n",
      "Feedback for generator: Generated data: {\"name\": \"Dr. Maya Chatterjee\", \"age\": 39, \"occupation\": \"Neurosurgeon\"}\n",
      "Score: 0.8\n",
      "Reason: Low score\n",
      "Progress: 0/8 data points generated. Attempts: 10\n",
      "Warning: Only generated 0 out of 8 requested samples after 11 attempts. Use 'user_review_and_regenerate' method for review and accept or regenerate rejected data with range score: (0.3, 1) \n"
     ]
    }
   ],
   "execution_count": 8
  },
  {
   "metadata": {
    "ExecuteTime": {
     "end_time": "2024-09-24T07:17:05.448503Z",
     "start_time": "2024-09-24T07:17:05.436931Z"
    }
   },
   "cell_type": "code",
   "source": "generated_data",
   "id": "f5103a9a65a1ed6",
   "outputs": [
    {
     "data": {
      "text/plain": [
       "Empty DataFrame\n",
       "Columns: []\n",
       "Index: []"
      ],
      "text/html": [
       "<div>\n",
       "<style scoped>\n",
       "    .dataframe tbody tr th:only-of-type {\n",
       "        vertical-align: middle;\n",
       "    }\n",
       "\n",
       "    .dataframe tbody tr th {\n",
       "        vertical-align: top;\n",
       "    }\n",
       "\n",
       "    .dataframe thead th {\n",
       "        text-align: right;\n",
       "    }\n",
       "</style>\n",
       "<table border=\"1\" class=\"dataframe\">\n",
       "  <thead>\n",
       "    <tr style=\"text-align: right;\">\n",
       "      <th></th>\n",
       "    </tr>\n",
       "  </thead>\n",
       "  <tbody>\n",
       "  </tbody>\n",
       "</table>\n",
       "</div>"
      ]
     },
     "execution_count": 9,
     "metadata": {},
     "output_type": "execute_result"
    }
   ],
   "execution_count": 9
  },
  {
   "metadata": {
    "ExecuteTime": {
     "end_time": "2024-09-24T07:17:06.210941Z",
     "start_time": "2024-09-24T07:17:06.204395Z"
    }
   },
   "cell_type": "code",
   "source": "generator.pending_review",
   "id": "95c1ec398c461a46",
   "outputs": [
    {
     "data": {
      "text/plain": [
       "[{'name': 'Dr. Maya Chatterjee', 'age': 39, 'occupation': 'Neurosurgeon'},\n",
       " {'name': 'Dr. Maya Singh', 'age': 39, 'occupation': 'Neurosurgeon'},\n",
       " {'name': 'Dr. Maya Chatterjee', 'age': 39, 'occupation': 'Neurosurgeon'},\n",
       " {'name': 'Dr. Maya Singh', 'age': 39, 'occupation': 'Neurosurgeon'},\n",
       " {'name': 'Dr. Maya Singh', 'age': 39, 'occupation': 'Neurosurgeon'},\n",
       " {'name': 'Dr. Maya Chakraborty', 'age': 37, 'occupation': 'Neurosurgeon'},\n",
       " {'name': 'Dr. Maya Singh', 'age': 39, 'occupation': 'Neurosurgeon'},\n",
       " {'name': 'Dr. Maya Singh', 'age': 39, 'occupation': 'Neurosurgeon'}]"
      ]
     },
     "execution_count": 10,
     "metadata": {},
     "output_type": "execute_result"
    }
   ],
   "execution_count": 10
  },
  {
   "metadata": {},
   "cell_type": "code",
   "source": "generator.user_review_and_regenerate([0,1],[2,3],'change name to another name , also change occupation to another occupation',min_score=0.7)",
   "id": "dced7a825161a547",
   "outputs": [],
   "execution_count": null
  }
 ],
 "metadata": {
  "kernelspec": {
   "display_name": "Python 3",
   "language": "python",
   "name": "python3"
  },
  "language_info": {
   "codemirror_mode": {
    "name": "ipython",
    "version": 2
   },
   "file_extension": ".py",
   "mimetype": "text/x-python",
   "name": "python",
   "nbconvert_exporter": "python",
   "pygments_lexer": "ipython2",
   "version": "2.7.6"
  }
 },
 "nbformat": 4,
 "nbformat_minor": 5
}
