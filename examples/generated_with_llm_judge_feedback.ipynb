{
 "cells": [
  {
   "cell_type": "code",
   "id": "initial_id",
   "metadata": {
    "collapsed": true,
    "ExecuteTime": {
     "end_time": "2024-09-24T16:42:18.538015Z",
     "start_time": "2024-09-24T16:42:18.523297Z"
    }
   },
   "source": [
    "import os\n",
    "from dotenv import load_dotenv\n",
    "\n",
    "load_dotenv()\n",
    "INDOX_API_KEY = os.environ['INDOX_API_KEY']\n",
    "NVIDIA_API_KEY = os.environ['NVIDIA_API_KEY']"
   ],
   "outputs": [],
   "execution_count": 1
  },
  {
   "metadata": {
    "ExecuteTime": {
     "end_time": "2024-09-24T16:42:18.849136Z",
     "start_time": "2024-09-24T16:42:18.841309Z"
    }
   },
   "cell_type": "code",
   "source": [
    "columns = [\"name\", \"age\", \"occupation\"]\n",
    "example_data = [\n",
    "    {\"name\": \"Alice Johnson\", \"age\": 35, \"occupation\": \"Manager\"},\n",
    "    {\"name\": \"Bob Williams\", \"age\": 42, \"occupation\": \"Accountant\"}\n",
    "]"
   ],
   "id": "f82dbf11365f0308",
   "outputs": [],
   "execution_count": 2
  },
  {
   "metadata": {
    "ExecuteTime": {
     "end_time": "2024-09-24T16:42:19.368639Z",
     "start_time": "2024-09-24T16:42:19.364862Z"
    }
   },
   "cell_type": "code",
   "source": [
    "columns_medical = [\"Patient ID\",\"Patient Name\",\"Diagnosis Code\",\"Procedure Code\",\"Total Charge\",\"Insurance Claim Amount\"]\n",
    "examples_medical = [\n",
    "    {\n",
    "        \"example\": \"\"\"Patient ID: 123456, Patient Name: John Doe, Diagnosis Code: \n",
    "        J20.9, Procedure Code: 99203, Total Charge: $500, Insurance Claim Amount: $350\"\"\"\n",
    "    },\n",
    "    {\n",
    "        \"example\": \"\"\"Patient ID: 789012, Patient Name: Johnson Smith, Diagnosis \n",
    "        Code: M54.5, Procedure Code: 99213, Total Charge: $150, Insurance Claim Amount: $120\"\"\"\n",
    "    },\n",
    "    {\n",
    "        \"example\": \"\"\"Patient ID: 345678, Patient Name: Emily Stone, Diagnosis Code: \n",
    "        E11.9, Procedure Code: 99214, Total Charge: $300, Insurance Claim Amount: $250\"\"\"\n",
    "    },\n",
    "]"
   ],
   "id": "7e2479618bd238bc",
   "outputs": [],
   "execution_count": 3
  },
  {
   "metadata": {
    "ExecuteTime": {
     "end_time": "2024-09-24T16:42:22.530270Z",
     "start_time": "2024-09-24T16:42:20.795268Z"
    }
   },
   "cell_type": "code",
   "source": [
    "from indoxGen.llms import OpenAi, IndoxApi\n",
    "\n",
    "indox = IndoxApi(api_key=INDOX_API_KEY)\n",
    "\n",
    "nemotron = OpenAi(api_key=NVIDIA_API_KEY, model=\"nvidia/nemotron-4-340b-instruct\",\n",
    "                  base_url=\"https://integrate.api.nvidia.com/v1\")"
   ],
   "id": "7886a22687c5aa3b",
   "outputs": [],
   "execution_count": 4
  },
  {
   "metadata": {
    "ExecuteTime": {
     "end_time": "2024-09-24T16:42:22.534190Z",
     "start_time": "2024-09-24T16:42:22.530270Z"
    }
   },
   "cell_type": "code",
   "source": "feedback_range = (0.3, 0.8)",
   "id": "f84e7efea79c5cc3",
   "outputs": [],
   "execution_count": 5
  },
  {
   "metadata": {
    "ExecuteTime": {
     "end_time": "2024-09-24T16:42:30.021287Z",
     "start_time": "2024-09-24T16:42:28.899858Z"
    }
   },
   "cell_type": "code",
   "source": [
    "from indoxGen.synthCore import SyntheticDataGeneratorHF\n",
    "generator = SyntheticDataGeneratorHF(\n",
    "    generator_llm=nemotron,\n",
    "    judge_llm=indox,\n",
    "    columns=columns,\n",
    "    example_data=example_data,\n",
    "    user_instruction=\"Generate realistic data including name, age and occupation. Ensure a mix of common and rare procedures, varying race, and appropriate date ranges for age.\",\n",
    "    verbose=1,\n",
    "    diversity_threshold=0.4,\n",
    "    feedback_range = feedback_range\n",
    ")"
   ],
   "id": "34e00ba1ebf7160b",
   "outputs": [],
   "execution_count": 6
  },
  {
   "metadata": {
    "ExecuteTime": {
     "end_time": "2024-09-24T16:43:14.321946Z",
     "start_time": "2024-09-24T16:42:30.021287Z"
    }
   },
   "cell_type": "code",
   "source": [
    "# Generate data\n",
    "generated_data = generator.generate_data(num_samples=8)"
   ],
   "id": "ae599a029c38fa30",
   "outputs": [
    {
     "name": "stdout",
     "output_type": "stream",
     "text": [
      "Generated data point: {'name': 'Dr. Maya Patel', 'age': 37, 'occupation': 'Neurosurgeon'}\n",
      "Generated data point: {'name': 'Capt. Jamal Al-Rashid', 'age': 39, 'occupation': 'Aircraft Pilot'}\n",
      "Generated data point: {'name': 'Rev. Prof. Esperanza Mendoza-Chavez', 'age': 36, 'occupation': 'Theologian and University Professor'}\n",
      "Generated data point: {'name': 'Sgt. Maj. Kenji Tanaka', 'age': 40, 'occupation': 'Military Musician and Composer'}\n",
      "Generated data point: {'name': 'Dr. Indira Patel-Singh, MD, PhD', 'age': 37, 'occupation': 'Neurosurgeon and Medical Researcher'}\n",
      "Generated data point: {'name': 'Chief Mate Thandiwe Mokoena', 'age': 39, 'occupation': \"Marine Engineer and Ship's Officer\"}\n",
      "Generated data point: {'name': 'Rev. Fr. José María González, S.J.', 'age': 36, 'occupation': 'Jesuit Priest, Astrophysicist and University Professor'}\n",
      "Warning: Only generated 7 out of 8 requested samples after 8 attempts. Use 'user_review_and_regenerate' method for review and accept or regenerate rejected data with range score: (0.3, 0.8) \n"
     ]
    }
   ],
   "execution_count": 7
  },
  {
   "metadata": {
    "ExecuteTime": {
     "end_time": "2024-09-24T16:43:28.167278Z",
     "start_time": "2024-09-24T16:43:28.155194Z"
    }
   },
   "cell_type": "code",
   "source": "generated_data",
   "id": "f5103a9a65a1ed6",
   "outputs": [
    {
     "data": {
      "text/plain": [
       "                                  name  age  \\\n",
       "0                       Dr. Maya Patel   37   \n",
       "1                Capt. Jamal Al-Rashid   39   \n",
       "2  Rev. Prof. Esperanza Mendoza-Chavez   36   \n",
       "3               Sgt. Maj. Kenji Tanaka   40   \n",
       "4      Dr. Indira Patel-Singh, MD, PhD   37   \n",
       "5          Chief Mate Thandiwe Mokoena   39   \n",
       "6   Rev. Fr. José María González, S.J.   36   \n",
       "\n",
       "                                          occupation  \n",
       "0                                       Neurosurgeon  \n",
       "1                                     Aircraft Pilot  \n",
       "2                Theologian and University Professor  \n",
       "3                     Military Musician and Composer  \n",
       "4                Neurosurgeon and Medical Researcher  \n",
       "5                 Marine Engineer and Ship's Officer  \n",
       "6  Jesuit Priest, Astrophysicist and University P...  "
      ],
      "text/html": [
       "<div>\n",
       "<style scoped>\n",
       "    .dataframe tbody tr th:only-of-type {\n",
       "        vertical-align: middle;\n",
       "    }\n",
       "\n",
       "    .dataframe tbody tr th {\n",
       "        vertical-align: top;\n",
       "    }\n",
       "\n",
       "    .dataframe thead th {\n",
       "        text-align: right;\n",
       "    }\n",
       "</style>\n",
       "<table border=\"1\" class=\"dataframe\">\n",
       "  <thead>\n",
       "    <tr style=\"text-align: right;\">\n",
       "      <th></th>\n",
       "      <th>name</th>\n",
       "      <th>age</th>\n",
       "      <th>occupation</th>\n",
       "    </tr>\n",
       "  </thead>\n",
       "  <tbody>\n",
       "    <tr>\n",
       "      <th>0</th>\n",
       "      <td>Dr. Maya Patel</td>\n",
       "      <td>37</td>\n",
       "      <td>Neurosurgeon</td>\n",
       "    </tr>\n",
       "    <tr>\n",
       "      <th>1</th>\n",
       "      <td>Capt. Jamal Al-Rashid</td>\n",
       "      <td>39</td>\n",
       "      <td>Aircraft Pilot</td>\n",
       "    </tr>\n",
       "    <tr>\n",
       "      <th>2</th>\n",
       "      <td>Rev. Prof. Esperanza Mendoza-Chavez</td>\n",
       "      <td>36</td>\n",
       "      <td>Theologian and University Professor</td>\n",
       "    </tr>\n",
       "    <tr>\n",
       "      <th>3</th>\n",
       "      <td>Sgt. Maj. Kenji Tanaka</td>\n",
       "      <td>40</td>\n",
       "      <td>Military Musician and Composer</td>\n",
       "    </tr>\n",
       "    <tr>\n",
       "      <th>4</th>\n",
       "      <td>Dr. Indira Patel-Singh, MD, PhD</td>\n",
       "      <td>37</td>\n",
       "      <td>Neurosurgeon and Medical Researcher</td>\n",
       "    </tr>\n",
       "    <tr>\n",
       "      <th>5</th>\n",
       "      <td>Chief Mate Thandiwe Mokoena</td>\n",
       "      <td>39</td>\n",
       "      <td>Marine Engineer and Ship's Officer</td>\n",
       "    </tr>\n",
       "    <tr>\n",
       "      <th>6</th>\n",
       "      <td>Rev. Fr. José María González, S.J.</td>\n",
       "      <td>36</td>\n",
       "      <td>Jesuit Priest, Astrophysicist and University P...</td>\n",
       "    </tr>\n",
       "  </tbody>\n",
       "</table>\n",
       "</div>"
      ]
     },
     "execution_count": 8,
     "metadata": {},
     "output_type": "execute_result"
    }
   ],
   "execution_count": 8
  },
  {
   "metadata": {
    "ExecuteTime": {
     "end_time": "2024-09-24T16:43:29.694975Z",
     "start_time": "2024-09-24T16:43:29.688142Z"
    }
   },
   "cell_type": "code",
   "source": "generator.pending_review",
   "id": "95c1ec398c461a46",
   "outputs": [
    {
     "data": {
      "text/plain": [
       "[{'name': 'Dr. Maya Patel', 'age': 37, 'occupation': 'Neurosurgeon'}]"
      ]
     },
     "execution_count": 9,
     "metadata": {},
     "output_type": "execute_result"
    }
   ],
   "execution_count": 9
  },
  {
   "metadata": {
    "ExecuteTime": {
     "end_time": "2024-09-24T16:45:04.911380Z",
     "start_time": "2024-09-24T16:44:52.031823Z"
    }
   },
   "cell_type": "code",
   "source": "generator.user_review_and_regenerate(regenerate_rows=[0],accepted_rows=[],regeneration_feedback= 'change name to another name , also change occupation to another occupation',min_score=0.7)",
   "id": "dced7a825161a547",
   "outputs": [
    {
     "name": "stdout",
     "output_type": "stream",
     "text": [
      "{'name': 'Dr. Amelia Wong, DVM, DACVIM', 'age': '39', 'occupation': 'Veterinary Specialist in Neurology and Neurosurgery, and Animal Welfare Advocate'}\n"
     ]
    },
    {
     "data": {
      "text/plain": [
       "                                  name age  \\\n",
       "0                       Dr. Maya Patel  37   \n",
       "1                Capt. Jamal Al-Rashid  39   \n",
       "2  Rev. Prof. Esperanza Mendoza-Chavez  36   \n",
       "3               Sgt. Maj. Kenji Tanaka  40   \n",
       "4      Dr. Indira Patel-Singh, MD, PhD  37   \n",
       "5          Chief Mate Thandiwe Mokoena  39   \n",
       "6   Rev. Fr. José María González, S.J.  36   \n",
       "7         Dr. Amelia Wong, DVM, DACVIM  39   \n",
       "\n",
       "                                          occupation  \n",
       "0                                       Neurosurgeon  \n",
       "1                                     Aircraft Pilot  \n",
       "2                Theologian and University Professor  \n",
       "3                     Military Musician and Composer  \n",
       "4                Neurosurgeon and Medical Researcher  \n",
       "5                 Marine Engineer and Ship's Officer  \n",
       "6  Jesuit Priest, Astrophysicist and University P...  \n",
       "7  Veterinary Specialist in Neurology and Neurosu...  "
      ],
      "text/html": [
       "<div>\n",
       "<style scoped>\n",
       "    .dataframe tbody tr th:only-of-type {\n",
       "        vertical-align: middle;\n",
       "    }\n",
       "\n",
       "    .dataframe tbody tr th {\n",
       "        vertical-align: top;\n",
       "    }\n",
       "\n",
       "    .dataframe thead th {\n",
       "        text-align: right;\n",
       "    }\n",
       "</style>\n",
       "<table border=\"1\" class=\"dataframe\">\n",
       "  <thead>\n",
       "    <tr style=\"text-align: right;\">\n",
       "      <th></th>\n",
       "      <th>name</th>\n",
       "      <th>age</th>\n",
       "      <th>occupation</th>\n",
       "    </tr>\n",
       "  </thead>\n",
       "  <tbody>\n",
       "    <tr>\n",
       "      <th>0</th>\n",
       "      <td>Dr. Maya Patel</td>\n",
       "      <td>37</td>\n",
       "      <td>Neurosurgeon</td>\n",
       "    </tr>\n",
       "    <tr>\n",
       "      <th>1</th>\n",
       "      <td>Capt. Jamal Al-Rashid</td>\n",
       "      <td>39</td>\n",
       "      <td>Aircraft Pilot</td>\n",
       "    </tr>\n",
       "    <tr>\n",
       "      <th>2</th>\n",
       "      <td>Rev. Prof. Esperanza Mendoza-Chavez</td>\n",
       "      <td>36</td>\n",
       "      <td>Theologian and University Professor</td>\n",
       "    </tr>\n",
       "    <tr>\n",
       "      <th>3</th>\n",
       "      <td>Sgt. Maj. Kenji Tanaka</td>\n",
       "      <td>40</td>\n",
       "      <td>Military Musician and Composer</td>\n",
       "    </tr>\n",
       "    <tr>\n",
       "      <th>4</th>\n",
       "      <td>Dr. Indira Patel-Singh, MD, PhD</td>\n",
       "      <td>37</td>\n",
       "      <td>Neurosurgeon and Medical Researcher</td>\n",
       "    </tr>\n",
       "    <tr>\n",
       "      <th>5</th>\n",
       "      <td>Chief Mate Thandiwe Mokoena</td>\n",
       "      <td>39</td>\n",
       "      <td>Marine Engineer and Ship's Officer</td>\n",
       "    </tr>\n",
       "    <tr>\n",
       "      <th>6</th>\n",
       "      <td>Rev. Fr. José María González, S.J.</td>\n",
       "      <td>36</td>\n",
       "      <td>Jesuit Priest, Astrophysicist and University P...</td>\n",
       "    </tr>\n",
       "    <tr>\n",
       "      <th>7</th>\n",
       "      <td>Dr. Amelia Wong, DVM, DACVIM</td>\n",
       "      <td>39</td>\n",
       "      <td>Veterinary Specialist in Neurology and Neurosu...</td>\n",
       "    </tr>\n",
       "  </tbody>\n",
       "</table>\n",
       "</div>"
      ]
     },
     "execution_count": 14,
     "metadata": {},
     "output_type": "execute_result"
    }
   ],
   "execution_count": 14
  },
  {
   "metadata": {},
   "cell_type": "code",
   "outputs": [],
   "execution_count": null,
   "source": "",
   "id": "862ac5e552f06eb4"
  }
 ],
 "metadata": {
  "kernelspec": {
   "display_name": "Python 3",
   "language": "python",
   "name": "python3"
  },
  "language_info": {
   "codemirror_mode": {
    "name": "ipython",
    "version": 2
   },
   "file_extension": ".py",
   "mimetype": "text/x-python",
   "name": "python",
   "nbconvert_exporter": "python",
   "pygments_lexer": "ipython2",
   "version": "2.7.6"
  }
 },
 "nbformat": 4,
 "nbformat_minor": 5
}
