{
 "cells": [
  {
   "metadata": {},
   "cell_type": "markdown",
   "source": "[![Open In Colab](https://colab.research.google.com/assets/colab-badge.svg)](https://colab.research.google.com/github/osllmai/indoxGen/blob/master/examples/generated_with_llm_judge_feedback.ipynb)",
   "id": "268d5240e1f4075a"
  },
  {
   "metadata": {},
   "cell_type": "code",
   "outputs": [],
   "execution_count": null,
   "source": [
    "%pip install indoxGen\n",
    "%pip install openai\n",
    "%pip install python-dotenv"
   ],
   "id": "113e5e58f49cf63"
  },
  {
   "cell_type": "code",
   "id": "initial_id",
   "metadata": {
    "collapsed": true,
    "ExecuteTime": {
     "end_time": "2024-09-25T12:29:59.142676Z",
     "start_time": "2024-09-25T12:29:59.126968Z"
    }
   },
   "source": [
    "import os\n",
    "from dotenv import load_dotenv\n",
    "\n",
    "load_dotenv('api.env') # Make sure your api keys save in a file named 'api.env'\n",
    "INDOX_API_KEY = os.environ['INDOX_API_KEY']\n",
    "NVIDIA_API_KEY = os.environ['NVIDIA_API_KEY']"
   ],
   "outputs": [],
   "execution_count": 1
  },
  {
   "metadata": {},
   "cell_type": "markdown",
   "source": [
    "### Example Data:\n",
    "\n",
    "This cell defines a set of column and corresponding example data for generating synthetic data which focused on general demographic information.\n",
    "\n",
    "1. **General Data**:\n",
    "   - `columns`: A list of three column names: `\"name\"`, `\"age\"`, and `\"occupation\"`. These represent typical demographic information fields.\n",
    "   - `example_data`: A list of dictionaries where each dictionary represents a person's demographic data. Two individuals are included:\n",
    "     - **Alice Johnson** (35 years old, Manager).\n",
    "     - **Bob Williams** (42 years old, Accountant).\n"
   ],
   "id": "3efe6a414fac5e08"
  },
  {
   "metadata": {
    "ExecuteTime": {
     "end_time": "2024-09-25T12:30:00.772195Z",
     "start_time": "2024-09-25T12:30:00.767606Z"
    }
   },
   "cell_type": "code",
   "source": [
    "columns = [\"name\", \"age\", \"occupation\"]\n",
    "example_data = [\n",
    "    {\"name\": \"Alice Johnson\", \"age\": 35, \"occupation\": \"Manager\"},\n",
    "    {\"name\": \"Bob Williams\", \"age\": 42, \"occupation\": \"Accountant\"}\n",
    "]"
   ],
   "id": "f82dbf11365f0308",
   "outputs": [],
   "execution_count": 2
  },
  {
   "metadata": {},
   "cell_type": "markdown",
   "source": [
    "### Setting Up API Clients for Synthetic Data Generation\n",
    "\n",
    "This cell establishes connections to two API clients, which are used to interact with large language models (LLMs) for synthetic data generation tasks.\n",
    "\n",
    "1. **Imports**:\n",
    "   - `from indoxGen.llms import OpenAi, IndoxApi`: Imports the `OpenAi` and `IndoxApi`classes from the `indoxGen.llms` module, enabling access to the OpenAI API and IndoxApi for generating synthetic data.\n",
    "\n",
    "2. **Initialization of API Clients**:\n",
    "   - **IndoxApi Client**:\n",
    "     ```python\n",
    "     indox = IndoxApi(api_key=INDOX_API_KEY)\n",
    "     ```\n",
    "      Initializes an `IndoxApi` client using the provided `INDOX_API_KEY` to access the OpenAI model. This client will be used for generating synthetic data, offering lightweight and efficient data generation capabilities.\n",
    "\n",
    "   - **Nemotron (NVIDIA) Client**:\n",
    "     ```python\n",
    "     nemotron = OpenAi(api_key=NVIDIA_API_KEY, model=\"nvidia/nemotron-4-340b-instruct\", base_url=\"https://integrate.api.nvidia.com/v1\")\n",
    "     ```\n",
    "     Initializes another `OpenAi` client, this time for interacting with the `\"nvidia/nemotron-4-340b-instruct\"` model, using the `NVIDIA_API_KEY` and connecting to NVIDIA's integration API via the `base_url`. The Nemotron model is a high-capacity language model designed for complex data generation tasks.\n",
    "\n",
    "This setup allows for generating synthetic data using two different models: the lightweight GPT-4 mini for more general tasks and the NVIDIA Nemotron model for heavier, more complex data generation.\n"
   ],
   "id": "bdf6fbd0fbca2deb"
  },
  {
   "metadata": {
    "ExecuteTime": {
     "end_time": "2024-09-25T12:30:03.105215Z",
     "start_time": "2024-09-25T12:30:02.796538Z"
    }
   },
   "cell_type": "code",
   "source": [
    "from indoxGen.llms import IndoxApi, OpenAi\n",
    "\n",
    "indox = IndoxApi(api_key=INDOX_API_KEY)\n",
    "\n",
    "nemotron = OpenAi(api_key=NVIDIA_API_KEY, model=\"nvidia/nemotron-4-340b-instruct\",\n",
    "                  base_url=\"https://integrate.api.nvidia.com/v1\")"
   ],
   "id": "7886a22687c5aa3b",
   "outputs": [],
   "execution_count": 3
  },
  {
   "metadata": {},
   "cell_type": "markdown",
   "source": [
    "### Initializing Synthetic Data Generator with human feedback feature\n",
    "\n",
    "This cell sets up the synthetic data generation with human feedback pipeline by initializing an instance of `SyntheticDataGeneratorHF`. The generator leverages two language models (LLMs) to create realistic synthetic data based on the provided examples and user instructions. Also the generator allows you to inspect data that falls below a certain threshold, either accepting it or regenerating them using a feedback to add to the existing dataset.\n",
    "\n",
    "1. **Imports**:\n",
    "   - `from indoxGen.synthCore import SyntheticDataGeneratorHF`: Imports the `SyntheticDataGeneratorHF` class from the `indoxGen.synthCore` module, which is responsible for generating synthetic data with human feedback based on specified parameters.\n",
    "\n",
    "2. **Initializing the `SyntheticDataGeneratorHF`**:\n",
    "    The `SyntheticDataGeneratorHF` is initialized with the following parameters:\n",
    "- **generator_llm**: The main language model (`nemotron`) used for generating the synthetic data.\n",
    "- **judge_llm**: A secondary language model (`openai`) used for evaluating the generated data, ensuring its quality and accuracy.\n",
    "- **columns**: Specifies the structure of the synthetic data, including `\"name\"`, `\"age\"`, and `\"occupation\"`.\n",
    "- **example_data**: Provides example entries to guide the generation process.\n",
    "- **user_instruction**: A detailed instruction for generating synthetic data, ensuring diversity in names, ages, occupations, and race. It also ensures that the generated data covers both common and rare procedures, along with appropriate age ranges.\n",
    "- **verbose**: Controls the verbosity of the generator, with `1` enabling detailed output during the generation process.\n",
    "- **diversity_threshold**: Threshold for determining data diversity\n",
    "- **feedback_min_score**: Minimum score for accepting generated data, data falling below this threshold will be held in pending review for a decision on whether to accept or regenerate it.\n"
   ],
   "id": "18e3fb2f0faabab"
  },
  {
   "metadata": {
    "ExecuteTime": {
     "end_time": "2024-09-25T12:30:05.399117Z",
     "start_time": "2024-09-25T12:30:04.852046Z"
    }
   },
   "cell_type": "code",
   "source": [
    "from indoxGen.synthCore import SyntheticDataGeneratorHF\n",
    "generator = SyntheticDataGeneratorHF(\n",
    "    generator_llm=nemotron,\n",
    "    judge_llm=indox,\n",
    "    columns=columns,\n",
    "    example_data=example_data,\n",
    "    user_instruction=\"Generate realistic data including name, age and occupation. Ensure a mix of common and rare procedures, varying race, and appropriate date ranges for age.\",\n",
    "    verbose=1,\n",
    "    diversity_threshold=0.8,\n",
    "    feedback_min_score = 0.9\n",
    ")"
   ],
   "id": "34e00ba1ebf7160b",
   "outputs": [],
   "execution_count": 4
  },
  {
   "metadata": {
    "ExecuteTime": {
     "end_time": "2024-09-25T12:31:01.584612Z",
     "start_time": "2024-09-25T12:30:07.930782Z"
    }
   },
   "cell_type": "code",
   "source": [
    "# Generate data\n",
    "generated_data = generator.generate_data(num_samples=10)"
   ],
   "id": "ae599a029c38fa30",
   "outputs": [
    {
     "name": "stdout",
     "output_type": "stream",
     "text": [
      "Generated data point: {'name': 'Rev. Hector Mendez-Villaneuva', 'age': '38', 'occupation': 'Bilingual School Guidance Counselor (Spanish-English)'}\n",
      "Progress: 1/10 data points generated. Attempts: 10\n",
      "Warning: Only generated 1 out of 10 requested samples after 10 attempts. Use 'user_review_and_regenerate' method for review and accept or regenerate rejected data\n"
     ]
    }
   ],
   "execution_count": 5
  },
  {
   "metadata": {
    "ExecuteTime": {
     "end_time": "2024-09-25T12:31:35.588056Z",
     "start_time": "2024-09-25T12:31:35.581378Z"
    }
   },
   "cell_type": "code",
   "source": "generated_data",
   "id": "f5103a9a65a1ed6",
   "outputs": [
    {
     "data": {
      "text/plain": [
       "                            name age  \\\n",
       "0  Rev. Hector Mendez-Villaneuva  38   \n",
       "\n",
       "                                          occupation  \n",
       "0  Bilingual School Guidance Counselor (Spanish-E...  "
      ],
      "text/html": [
       "<div>\n",
       "<style scoped>\n",
       "    .dataframe tbody tr th:only-of-type {\n",
       "        vertical-align: middle;\n",
       "    }\n",
       "\n",
       "    .dataframe tbody tr th {\n",
       "        vertical-align: top;\n",
       "    }\n",
       "\n",
       "    .dataframe thead th {\n",
       "        text-align: right;\n",
       "    }\n",
       "</style>\n",
       "<table border=\"1\" class=\"dataframe\">\n",
       "  <thead>\n",
       "    <tr style=\"text-align: right;\">\n",
       "      <th></th>\n",
       "      <th>name</th>\n",
       "      <th>age</th>\n",
       "      <th>occupation</th>\n",
       "    </tr>\n",
       "  </thead>\n",
       "  <tbody>\n",
       "    <tr>\n",
       "      <th>0</th>\n",
       "      <td>Rev. Hector Mendez-Villaneuva</td>\n",
       "      <td>38</td>\n",
       "      <td>Bilingual School Guidance Counselor (Spanish-E...</td>\n",
       "    </tr>\n",
       "  </tbody>\n",
       "</table>\n",
       "</div>"
      ]
     },
     "execution_count": 6,
     "metadata": {},
     "output_type": "execute_result"
    }
   ],
   "execution_count": 6
  },
  {
   "metadata": {
    "ExecuteTime": {
     "end_time": "2024-09-25T12:31:39.725328Z",
     "start_time": "2024-09-25T12:31:39.719642Z"
    }
   },
   "cell_type": "code",
   "source": "generator.pending_review",
   "id": "95c1ec398c461a46",
   "outputs": [
    {
     "data": {
      "text/plain": [
       "                                                data  score\n",
       "0  {'name': 'Dr. Maya Patel', 'age': '39', 'occup...    0.8\n",
       "1  {'name': 'Captain Jamal Al-Hussein', 'age': '3...    0.8\n",
       "2  {'name': 'Professor Yuko Takahashi', 'age': '4...    0.8\n",
       "3  {'name': 'Sergeant Major sorsha O'Sullivan', '...    0.8\n",
       "4  {'name': 'Mahmoud Sheikh-Collins', 'age': '37'...    0.8\n",
       "5  {'name': 'Rev. Sister glitches Chang', 'age': ...    0.8\n",
       "6  {'name': 'Dr. Esperanza Garc erweiterte Şehit'...    0.7\n",
       "7  {'name': 'Dr. Kaya competences Ns算法 Engineer',...    0.7\n",
       "8  {'name': 'Prof. Aasha de Luca', 'age': '39', '...    0.8"
      ],
      "text/html": [
       "<div>\n",
       "<style scoped>\n",
       "    .dataframe tbody tr th:only-of-type {\n",
       "        vertical-align: middle;\n",
       "    }\n",
       "\n",
       "    .dataframe tbody tr th {\n",
       "        vertical-align: top;\n",
       "    }\n",
       "\n",
       "    .dataframe thead th {\n",
       "        text-align: right;\n",
       "    }\n",
       "</style>\n",
       "<table border=\"1\" class=\"dataframe\">\n",
       "  <thead>\n",
       "    <tr style=\"text-align: right;\">\n",
       "      <th></th>\n",
       "      <th>data</th>\n",
       "      <th>score</th>\n",
       "    </tr>\n",
       "  </thead>\n",
       "  <tbody>\n",
       "    <tr>\n",
       "      <th>0</th>\n",
       "      <td>{'name': 'Dr. Maya Patel', 'age': '39', 'occup...</td>\n",
       "      <td>0.8</td>\n",
       "    </tr>\n",
       "    <tr>\n",
       "      <th>1</th>\n",
       "      <td>{'name': 'Captain Jamal Al-Hussein', 'age': '3...</td>\n",
       "      <td>0.8</td>\n",
       "    </tr>\n",
       "    <tr>\n",
       "      <th>2</th>\n",
       "      <td>{'name': 'Professor Yuko Takahashi', 'age': '4...</td>\n",
       "      <td>0.8</td>\n",
       "    </tr>\n",
       "    <tr>\n",
       "      <th>3</th>\n",
       "      <td>{'name': 'Sergeant Major sorsha O'Sullivan', '...</td>\n",
       "      <td>0.8</td>\n",
       "    </tr>\n",
       "    <tr>\n",
       "      <th>4</th>\n",
       "      <td>{'name': 'Mahmoud Sheikh-Collins', 'age': '37'...</td>\n",
       "      <td>0.8</td>\n",
       "    </tr>\n",
       "    <tr>\n",
       "      <th>5</th>\n",
       "      <td>{'name': 'Rev. Sister glitches Chang', 'age': ...</td>\n",
       "      <td>0.8</td>\n",
       "    </tr>\n",
       "    <tr>\n",
       "      <th>6</th>\n",
       "      <td>{'name': 'Dr. Esperanza Garc erweiterte Şehit'...</td>\n",
       "      <td>0.7</td>\n",
       "    </tr>\n",
       "    <tr>\n",
       "      <th>7</th>\n",
       "      <td>{'name': 'Dr. Kaya competences Ns算法 Engineer',...</td>\n",
       "      <td>0.7</td>\n",
       "    </tr>\n",
       "    <tr>\n",
       "      <th>8</th>\n",
       "      <td>{'name': 'Prof. Aasha de Luca', 'age': '39', '...</td>\n",
       "      <td>0.8</td>\n",
       "    </tr>\n",
       "  </tbody>\n",
       "</table>\n",
       "</div>"
      ]
     },
     "execution_count": 7,
     "metadata": {},
     "output_type": "execute_result"
    }
   ],
   "execution_count": 7
  },
  {
   "metadata": {},
   "cell_type": "markdown",
   "source": [
    "* **`accepted_rows`:** A list of data points that have been approved and will be added to the generated dataset.If set to 'all', all pending data points will be accepted.\n",
    "* **`regenerate_rows`:** A list of data points that will be regenerated based on the provided feedback. If set to 'all', all pending data points will be regenerated.\n",
    "* **`regeneration_feedback`:** A string specifying the desired changes for the regeneration process.\n",
    "* **`min_score`:** The minimum score a data point must achieve to be considered for acceptance.\n",
    " \n",
    "* **Note**: If both `accepted_rows` and `regenerate_row` set to 'all', it would just consider `accepted_row` to all.\n"
   ],
   "id": "a4b3d4422dc3325e"
  },
  {
   "metadata": {
    "ExecuteTime": {
     "end_time": "2024-09-25T12:32:53.246720Z",
     "start_time": "2024-09-25T12:32:40.200119Z"
    }
   },
   "cell_type": "code",
   "source": "generator.user_review_and_regenerate(accepted_rows = [0,1,2,3,4,5,8],regenerate_rows= [6,7],regeneration_feedback = 'change name to another name , also change occupation to another occupation',min_score=0.7)",
   "id": "dced7a825161a547",
   "outputs": [
    {
     "data": {
      "text/plain": [
       "                               name age  \\\n",
       "0     Rev. Hector Mendez-Villaneuva  38   \n",
       "1                    Dr. Maya Patel  39   \n",
       "2          Captain Jamal Al-Hussein  36   \n",
       "3          Professor Yuko Takahashi  41   \n",
       "4  Sergeant Major sorsha O'Sullivan  37   \n",
       "5            Mahmoud Sheikh-Collins  37   \n",
       "6        Rev. Sister glitches Chang  36   \n",
       "7               Prof. Aasha de Luca  39   \n",
       "8          Dr. Kamilla W Zola-Mbeki  37   \n",
       "9   Dr. Zhora Nur angiography Tariq  40   \n",
       "\n",
       "                                          occupation  \n",
       "0  Bilingual School Guidance Counselor (Spanish-E...  \n",
       "1                                       Neurosurgeon  \n",
       "2                                     Aircraft Pilot  \n",
       "3                                  Quantum Physicist  \n",
       "4         Military Musician - French Horn Specialist  \n",
       "5                  Islamic Art Historian and Curator  \n",
       "6          Catholic Nun and Computer Science Teacher  \n",
       "7  Archaeologist - Ancient Italian and Indian Civ...  \n",
       "8  Pediatric Neurologist and South African Langua...  \n",
       "9  Interventional Radiologist and Persian Calligr...  "
      ],
      "text/html": [
       "<div>\n",
       "<style scoped>\n",
       "    .dataframe tbody tr th:only-of-type {\n",
       "        vertical-align: middle;\n",
       "    }\n",
       "\n",
       "    .dataframe tbody tr th {\n",
       "        vertical-align: top;\n",
       "    }\n",
       "\n",
       "    .dataframe thead th {\n",
       "        text-align: right;\n",
       "    }\n",
       "</style>\n",
       "<table border=\"1\" class=\"dataframe\">\n",
       "  <thead>\n",
       "    <tr style=\"text-align: right;\">\n",
       "      <th></th>\n",
       "      <th>name</th>\n",
       "      <th>age</th>\n",
       "      <th>occupation</th>\n",
       "    </tr>\n",
       "  </thead>\n",
       "  <tbody>\n",
       "    <tr>\n",
       "      <th>0</th>\n",
       "      <td>Rev. Hector Mendez-Villaneuva</td>\n",
       "      <td>38</td>\n",
       "      <td>Bilingual School Guidance Counselor (Spanish-E...</td>\n",
       "    </tr>\n",
       "    <tr>\n",
       "      <th>1</th>\n",
       "      <td>Dr. Maya Patel</td>\n",
       "      <td>39</td>\n",
       "      <td>Neurosurgeon</td>\n",
       "    </tr>\n",
       "    <tr>\n",
       "      <th>2</th>\n",
       "      <td>Captain Jamal Al-Hussein</td>\n",
       "      <td>36</td>\n",
       "      <td>Aircraft Pilot</td>\n",
       "    </tr>\n",
       "    <tr>\n",
       "      <th>3</th>\n",
       "      <td>Professor Yuko Takahashi</td>\n",
       "      <td>41</td>\n",
       "      <td>Quantum Physicist</td>\n",
       "    </tr>\n",
       "    <tr>\n",
       "      <th>4</th>\n",
       "      <td>Sergeant Major sorsha O'Sullivan</td>\n",
       "      <td>37</td>\n",
       "      <td>Military Musician - French Horn Specialist</td>\n",
       "    </tr>\n",
       "    <tr>\n",
       "      <th>5</th>\n",
       "      <td>Mahmoud Sheikh-Collins</td>\n",
       "      <td>37</td>\n",
       "      <td>Islamic Art Historian and Curator</td>\n",
       "    </tr>\n",
       "    <tr>\n",
       "      <th>6</th>\n",
       "      <td>Rev. Sister glitches Chang</td>\n",
       "      <td>36</td>\n",
       "      <td>Catholic Nun and Computer Science Teacher</td>\n",
       "    </tr>\n",
       "    <tr>\n",
       "      <th>7</th>\n",
       "      <td>Prof. Aasha de Luca</td>\n",
       "      <td>39</td>\n",
       "      <td>Archaeologist - Ancient Italian and Indian Civ...</td>\n",
       "    </tr>\n",
       "    <tr>\n",
       "      <th>8</th>\n",
       "      <td>Dr. Kamilla W Zola-Mbeki</td>\n",
       "      <td>37</td>\n",
       "      <td>Pediatric Neurologist and South African Langua...</td>\n",
       "    </tr>\n",
       "    <tr>\n",
       "      <th>9</th>\n",
       "      <td>Dr. Zhora Nur angiography Tariq</td>\n",
       "      <td>40</td>\n",
       "      <td>Interventional Radiologist and Persian Calligr...</td>\n",
       "    </tr>\n",
       "  </tbody>\n",
       "</table>\n",
       "</div>"
      ]
     },
     "execution_count": 8,
     "metadata": {},
     "output_type": "execute_result"
    }
   ],
   "execution_count": 8
  },
  {
   "metadata": {
    "ExecuteTime": {
     "end_time": "2024-09-25T12:33:46.145481Z",
     "start_time": "2024-09-25T12:33:46.141058Z"
    }
   },
   "cell_type": "code",
   "source": "generator.pending_review",
   "id": "a50d33710bda8317",
   "outputs": [
    {
     "data": {
      "text/plain": [
       "Empty DataFrame\n",
       "Columns: [index, data, score]\n",
       "Index: []"
      ],
      "text/html": [
       "<div>\n",
       "<style scoped>\n",
       "    .dataframe tbody tr th:only-of-type {\n",
       "        vertical-align: middle;\n",
       "    }\n",
       "\n",
       "    .dataframe tbody tr th {\n",
       "        vertical-align: top;\n",
       "    }\n",
       "\n",
       "    .dataframe thead th {\n",
       "        text-align: right;\n",
       "    }\n",
       "</style>\n",
       "<table border=\"1\" class=\"dataframe\">\n",
       "  <thead>\n",
       "    <tr style=\"text-align: right;\">\n",
       "      <th></th>\n",
       "      <th>index</th>\n",
       "      <th>data</th>\n",
       "      <th>score</th>\n",
       "    </tr>\n",
       "  </thead>\n",
       "  <tbody>\n",
       "  </tbody>\n",
       "</table>\n",
       "</div>"
      ]
     },
     "execution_count": 9,
     "metadata": {},
     "output_type": "execute_result"
    }
   ],
   "execution_count": 9
  }
 ],
 "metadata": {
  "kernelspec": {
   "display_name": "Python 3",
   "language": "python",
   "name": "python3"
  },
  "language_info": {
   "codemirror_mode": {
    "name": "ipython",
    "version": 2
   },
   "file_extension": ".py",
   "mimetype": "text/x-python",
   "name": "python",
   "nbconvert_exporter": "python",
   "pygments_lexer": "ipython2",
   "version": "2.7.6"
  }
 },
 "nbformat": 4,
 "nbformat_minor": 5
}
