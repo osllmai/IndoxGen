{
 "cells": [
  {
   "cell_type": "code",
   "id": "initial_id",
   "metadata": {
    "collapsed": true,
    "ExecuteTime": {
     "end_time": "2024-09-24T13:46:42.741632Z",
     "start_time": "2024-09-24T13:46:42.729283Z"
    }
   },
   "source": [
    "import os\n",
    "from dotenv import load_dotenv\n",
    "\n",
    "load_dotenv('api.env')\n",
    "INDOX_API_KEY = os.environ['INDOX_API_KEY']\n",
    "NVIDIA_API_KEY = os.environ['NVIDIA_API_KEY']"
   ],
   "outputs": [],
   "execution_count": 1
  },
  {
   "metadata": {
    "ExecuteTime": {
     "end_time": "2024-09-24T13:46:42.781699Z",
     "start_time": "2024-09-24T13:46:42.777649Z"
    }
   },
   "cell_type": "code",
   "source": [
    "columns = [\"name\", \"age\", \"occupation\"]\n",
    "example_data = [\n",
    "    {\"name\": \"Alice Johnson\", \"age\": 35, \"occupation\": \"Manager\"},\n",
    "    {\"name\": \"Bob Williams\", \"age\": 42, \"occupation\": \"Accountant\"}\n",
    "]"
   ],
   "id": "f82dbf11365f0308",
   "outputs": [],
   "execution_count": 2
  },
  {
   "metadata": {
    "ExecuteTime": {
     "end_time": "2024-09-24T13:46:42.828470Z",
     "start_time": "2024-09-24T13:46:42.826004Z"
    }
   },
   "cell_type": "code",
   "source": [
    "columns_medical = [\"Patient ID\",\"Patient Name\",\"Diagnosis Code\",\"Procedure Code\",\"Total Charge\",\"Insurance Claim Amount\"]\n",
    "examples_medical = [\n",
    "    {\n",
    "        \"example\": \"\"\"Patient ID: 123456, Patient Name: John Doe, Diagnosis Code: \n",
    "        J20.9, Procedure Code: 99203, Total Charge: $500, Insurance Claim Amount: $350\"\"\"\n",
    "    },\n",
    "    {\n",
    "        \"example\": \"\"\"Patient ID: 789012, Patient Name: Johnson Smith, Diagnosis \n",
    "        Code: M54.5, Procedure Code: 99213, Total Charge: $150, Insurance Claim Amount: $120\"\"\"\n",
    "    },\n",
    "    {\n",
    "        \"example\": \"\"\"Patient ID: 345678, Patient Name: Emily Stone, Diagnosis Code: \n",
    "        E11.9, Procedure Code: 99214, Total Charge: $300, Insurance Claim Amount: $250\"\"\"\n",
    "    },\n",
    "]"
   ],
   "id": "7e2479618bd238bc",
   "outputs": [],
   "execution_count": 3
  },
  {
   "metadata": {
    "ExecuteTime": {
     "end_time": "2024-09-24T13:46:43.171943Z",
     "start_time": "2024-09-24T13:46:42.876648Z"
    }
   },
   "cell_type": "code",
   "source": [
    "from models import OpenAi, IndoxApi\n",
    "\n",
    "indox = IndoxApi(api_key=INDOX_API_KEY)\n",
    "\n",
    "nemotron = OpenAi(api_key=NVIDIA_API_KEY, model=\"nvidia/nemotron-4-340b-instruct\",\n",
    "                  base_url=\"https://integrate.api.nvidia.com/v1\")"
   ],
   "id": "7886a22687c5aa3b",
   "outputs": [],
   "execution_count": 4
  },
  {
   "metadata": {
    "ExecuteTime": {
     "end_time": "2024-09-24T13:46:43.641228Z",
     "start_time": "2024-09-24T13:46:43.177583Z"
    }
   },
   "cell_type": "code",
   "source": [
    "from SynthCore import SyntheticDataGeneratorFeedback\n",
    "generator = SyntheticDataGeneratorFeedback(\n",
    "    generator_llm=nemotron,\n",
    "    judge_llm=indox,\n",
    "    columns=columns,\n",
    "    example_data=example_data,\n",
    "    user_instruction=\"Generate realistic data including name, age and occupation. Ensure a mix of common and rare procedures, varying race, and appropriate date ranges for age.\",\n",
    "    verbose=1,\n",
    "    diversity_threshold=1,\n",
    "    feedback_min_score = 1\n",
    ")"
   ],
   "id": "34e00ba1ebf7160b",
   "outputs": [],
   "execution_count": 5
  },
  {
   "metadata": {
    "ExecuteTime": {
     "end_time": "2024-09-24T13:47:26.473082Z",
     "start_time": "2024-09-24T13:46:43.647893Z"
    }
   },
   "cell_type": "code",
   "source": [
    "# Generate data\n",
    "generated_data = generator.generate_data(num_samples=3)"
   ],
   "id": "ae599a029c38fa30",
   "outputs": [
    {
     "name": "stdout",
     "output_type": "stream",
     "text": [
      "Generated data is not diverse. Retrying... (Failure count: 1)\n",
      "Generated data is not diverse. Retrying... (Failure count: 2)\n",
      "Generated data is not diverse. Retrying... (Failure count: 3)\n",
      "Warning: Only generated 0 out of 3 requested samples after 6 attempts. Use 'user_review_and_regenerate' method for review and accept or regenerate rejected data\n"
     ]
    }
   ],
   "execution_count": 6
  },
  {
   "metadata": {
    "ExecuteTime": {
     "end_time": "2024-09-24T13:47:26.500245Z",
     "start_time": "2024-09-24T13:47:26.491295Z"
    }
   },
   "cell_type": "code",
   "source": "generated_data",
   "id": "f5103a9a65a1ed6",
   "outputs": [
    {
     "data": {
      "text/plain": [
       "Empty DataFrame\n",
       "Columns: []\n",
       "Index: []"
      ],
      "text/html": [
       "<div>\n",
       "<style scoped>\n",
       "    .dataframe tbody tr th:only-of-type {\n",
       "        vertical-align: middle;\n",
       "    }\n",
       "\n",
       "    .dataframe tbody tr th {\n",
       "        vertical-align: top;\n",
       "    }\n",
       "\n",
       "    .dataframe thead th {\n",
       "        text-align: right;\n",
       "    }\n",
       "</style>\n",
       "<table border=\"1\" class=\"dataframe\">\n",
       "  <thead>\n",
       "    <tr style=\"text-align: right;\">\n",
       "      <th></th>\n",
       "    </tr>\n",
       "  </thead>\n",
       "  <tbody>\n",
       "  </tbody>\n",
       "</table>\n",
       "</div>"
      ]
     },
     "execution_count": 7,
     "metadata": {},
     "output_type": "execute_result"
    }
   ],
   "execution_count": 7
  },
  {
   "metadata": {
    "ExecuteTime": {
     "end_time": "2024-09-24T13:47:26.583623Z",
     "start_time": "2024-09-24T13:47:26.579440Z"
    }
   },
   "cell_type": "code",
   "source": "generator.pending_review",
   "id": "95c1ec398c461a46",
   "outputs": [
    {
     "data": {
      "text/plain": [
       "                                                data  score\n",
       "0  {'name': 'Dr. Maya Singh', 'age': '39', 'occup...    0.8\n",
       "1  {'name': 'Dr. Maya Singh', 'age': '39', 'occup...    0.8\n",
       "2  {'name': 'Dr. Maya Chatterjee', 'age': '39', '...    0.8"
      ],
      "text/html": [
       "<div>\n",
       "<style scoped>\n",
       "    .dataframe tbody tr th:only-of-type {\n",
       "        vertical-align: middle;\n",
       "    }\n",
       "\n",
       "    .dataframe tbody tr th {\n",
       "        vertical-align: top;\n",
       "    }\n",
       "\n",
       "    .dataframe thead th {\n",
       "        text-align: right;\n",
       "    }\n",
       "</style>\n",
       "<table border=\"1\" class=\"dataframe\">\n",
       "  <thead>\n",
       "    <tr style=\"text-align: right;\">\n",
       "      <th></th>\n",
       "      <th>data</th>\n",
       "      <th>score</th>\n",
       "    </tr>\n",
       "  </thead>\n",
       "  <tbody>\n",
       "    <tr>\n",
       "      <th>0</th>\n",
       "      <td>{'name': 'Dr. Maya Singh', 'age': '39', 'occup...</td>\n",
       "      <td>0.8</td>\n",
       "    </tr>\n",
       "    <tr>\n",
       "      <th>1</th>\n",
       "      <td>{'name': 'Dr. Maya Singh', 'age': '39', 'occup...</td>\n",
       "      <td>0.8</td>\n",
       "    </tr>\n",
       "    <tr>\n",
       "      <th>2</th>\n",
       "      <td>{'name': 'Dr. Maya Chatterjee', 'age': '39', '...</td>\n",
       "      <td>0.8</td>\n",
       "    </tr>\n",
       "  </tbody>\n",
       "</table>\n",
       "</div>"
      ]
     },
     "execution_count": 8,
     "metadata": {},
     "output_type": "execute_result"
    }
   ],
   "execution_count": 8
  },
  {
   "metadata": {
    "ExecuteTime": {
     "end_time": "2024-09-24T13:47:40.374626Z",
     "start_time": "2024-09-24T13:47:26.635978Z"
    }
   },
   "cell_type": "code",
   "source": "generator.user_review_and_regenerate(accepted_rows = [],regenerate_rows= ['all'],regeneration_feedback = 'change name to another name , also change occupation to another occupation',min_score=0.7)",
   "id": "dced7a825161a547",
   "outputs": [
    {
     "data": {
      "text/plain": [
       "                  name age                 occupation\n",
       "0      Dr. Amelia Kibo  40     Cardiothoracic Surgeon\n",
       "1  Dr. Jamal Rodríguez  36  Pediatric Ophthalmologist\n",
       "2         Dr. Hana Rao  39           Vascular Surgeon"
      ],
      "text/html": [
       "<div>\n",
       "<style scoped>\n",
       "    .dataframe tbody tr th:only-of-type {\n",
       "        vertical-align: middle;\n",
       "    }\n",
       "\n",
       "    .dataframe tbody tr th {\n",
       "        vertical-align: top;\n",
       "    }\n",
       "\n",
       "    .dataframe thead th {\n",
       "        text-align: right;\n",
       "    }\n",
       "</style>\n",
       "<table border=\"1\" class=\"dataframe\">\n",
       "  <thead>\n",
       "    <tr style=\"text-align: right;\">\n",
       "      <th></th>\n",
       "      <th>name</th>\n",
       "      <th>age</th>\n",
       "      <th>occupation</th>\n",
       "    </tr>\n",
       "  </thead>\n",
       "  <tbody>\n",
       "    <tr>\n",
       "      <th>0</th>\n",
       "      <td>Dr. Amelia Kibo</td>\n",
       "      <td>40</td>\n",
       "      <td>Cardiothoracic Surgeon</td>\n",
       "    </tr>\n",
       "    <tr>\n",
       "      <th>1</th>\n",
       "      <td>Dr. Jamal Rodríguez</td>\n",
       "      <td>36</td>\n",
       "      <td>Pediatric Ophthalmologist</td>\n",
       "    </tr>\n",
       "    <tr>\n",
       "      <th>2</th>\n",
       "      <td>Dr. Hana Rao</td>\n",
       "      <td>39</td>\n",
       "      <td>Vascular Surgeon</td>\n",
       "    </tr>\n",
       "  </tbody>\n",
       "</table>\n",
       "</div>"
      ]
     },
     "execution_count": 9,
     "metadata": {},
     "output_type": "execute_result"
    }
   ],
   "execution_count": 9
  },
  {
   "metadata": {
    "ExecuteTime": {
     "end_time": "2024-09-24T13:47:40.428947Z",
     "start_time": "2024-09-24T13:47:40.425921Z"
    }
   },
   "cell_type": "code",
   "source": "generator.pending_review",
   "id": "a50d33710bda8317",
   "outputs": [
    {
     "data": {
      "text/plain": [
       "Empty DataFrame\n",
       "Columns: [data, score]\n",
       "Index: []"
      ],
      "text/html": [
       "<div>\n",
       "<style scoped>\n",
       "    .dataframe tbody tr th:only-of-type {\n",
       "        vertical-align: middle;\n",
       "    }\n",
       "\n",
       "    .dataframe tbody tr th {\n",
       "        vertical-align: top;\n",
       "    }\n",
       "\n",
       "    .dataframe thead th {\n",
       "        text-align: right;\n",
       "    }\n",
       "</style>\n",
       "<table border=\"1\" class=\"dataframe\">\n",
       "  <thead>\n",
       "    <tr style=\"text-align: right;\">\n",
       "      <th></th>\n",
       "      <th>data</th>\n",
       "      <th>score</th>\n",
       "    </tr>\n",
       "  </thead>\n",
       "  <tbody>\n",
       "  </tbody>\n",
       "</table>\n",
       "</div>"
      ]
     },
     "execution_count": 10,
     "metadata": {},
     "output_type": "execute_result"
    }
   ],
   "execution_count": 10
  }
 ],
 "metadata": {
  "kernelspec": {
   "display_name": "Python 3",
   "language": "python",
   "name": "python3"
  },
  "language_info": {
   "codemirror_mode": {
    "name": "ipython",
    "version": 2
   },
   "file_extension": ".py",
   "mimetype": "text/x-python",
   "name": "python",
   "nbconvert_exporter": "python",
   "pygments_lexer": "ipython2",
   "version": "2.7.6"
  }
 },
 "nbformat": 4,
 "nbformat_minor": 5
}
