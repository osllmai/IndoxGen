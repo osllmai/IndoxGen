{
  "cells": [
    {
      "metadata": {
        "ExecuteTime": {
          "end_time": "2024-09-17T14:01:01.837671Z",
          "start_time": "2024-09-17T14:01:00.208935Z"
        },
        "id": "265c062c63ca3302"
      },
      "cell_type": "code",
      "source": [
        "import json\n",
        "from typing import List, Dict, Any\n",
        "import requests\n",
        "\n",
        "class SyntheticDataGenerator:\n",
        "    def __init__(self, api_key: str, num_samples: int = 1):\n",
        "        self.api_key = api_key\n",
        "        self.num_samples = num_samples\n",
        "        self.base_url = \"https://integrate.api.nvidia.com/v1\"  # NVIDIA API endpoint\n",
        "\n",
        "    def generate_data(self, instructions: str) -> List[Dict[str, Any]]:\n",
        "        prompt = (\n",
        "            f\"Using the following instructions, generate {self.num_samples} samples of synthetic data in JSON format. \"\n",
        "            \"Ensure the output is a valid JSON array where each entry is a dictionary. \"\n",
        "            f\"Instructions: {instructions}\"\n",
        "        )\n",
        "\n",
        "        # Prepare the API call with messages, temperature, and other parameters\n",
        "        data = {\n",
        "            \"model\": \"nvidia/nemotron-4-340b-instruct\",\n",
        "            \"messages\": [{\"role\": \"user\", \"content\": prompt}],\n",
        "            \"temperature\": 0.2,\n",
        "            \"top_p\": 0.7,\n",
        "            \"max_tokens\": 1024,\n",
        "            \"stream\": False\n",
        "        }\n",
        "\n",
        "        headers = {\n",
        "            \"Content-Type\": \"application/json\",\n",
        "            \"Authorization\": f\"Bearer {self.api_key}\"\n",
        "        }\n",
        "\n",
        "        # Make the API call to NVIDIA's endpoint\n",
        "        response = requests.post(\n",
        "            f\"{self.base_url}/chat/completions\",\n",
        "            headers=headers,\n",
        "            json=data\n",
        "        )\n",
        "\n",
        "        if response.status_code != 200:\n",
        "            raise ValueError(f\"Failed to call the API: {response.status_code} {response.text}\")\n",
        "\n",
        "        # Get the raw response from the model\n",
        "        raw_output = response.json()['choices'][0]['message']['content']\n",
        "\n",
        "        # Parse the response\n",
        "        return self._parse_response(raw_output)\n",
        "\n",
        "    def _parse_response(self, raw_output: str) -> List[Dict[str, Any]]:\n",
        "        # Strip the backticks and \"json\" formatting if present\n",
        "        json_output = raw_output.strip('```json').strip('```').strip()\n",
        "        try:\n",
        "            # Try to parse the cleaned-up output as JSON\n",
        "            return json.loads(json_output)\n",
        "        except json.JSONDecodeError as e:\n",
        "            # Handle parsing errors\n",
        "            raise ValueError(f\"LLM output is not valid JSON: {e}\")\n",
        "\n"
      ],
      "id": "265c062c63ca3302",
      "outputs": [],
      "execution_count": null
    },
    {
      "metadata": {
        "ExecuteTime": {
          "end_time": "2024-09-17T14:01:05.893634Z",
          "start_time": "2024-09-17T14:01:01.837671Z"
        },
        "id": "fe429ee38b2ce177",
        "outputId": "7010f608-caad-49d5-edbd-80554f5ee289"
      },
      "cell_type": "code",
      "source": [
        "generator = SyntheticDataGenerator(api_key=nv_api_key)\n",
        "data = generator.generate_data(\"Generate synthetic user profiles with fields: name, age, email.\")\n",
        "print(data)\n"
      ],
      "id": "fe429ee38b2ce177",
      "outputs": [
        {
          "name": "stdout",
          "output_type": "stream",
          "text": [
            "[{'name': 'John Doe', 'age': 30, 'email': 'john.doe@example.com'}]\n"
          ]
        }
      ],
      "execution_count": null
    },
    {
      "metadata": {
        "ExecuteTime": {
          "end_time": "2024-09-17T14:01:31.957054Z",
          "start_time": "2024-09-17T14:01:05.896941Z"
        },
        "id": "fd97ddd8a1d62438",
        "outputId": "ee5d6804-f2a3-48fd-b9f9-4af6b6944faa"
      },
      "cell_type": "code",
      "source": [
        "sentiment_instructions = \"Generate 10 labeled text samples for sentiment analysis. Each sample should be a sentence with a label: 'positive', 'negative', or 'neutral'.\"\n",
        "synthetic_sentiment_data = generator.generate_data(sentiment_instructions)\n",
        "print(synthetic_sentiment_data)"
      ],
      "id": "fd97ddd8a1d62438",
      "outputs": [
        {
          "name": "stdout",
          "output_type": "stream",
          "text": [
            "[{'text': 'The new restaurant in town serves delicious food and has excellent service.', 'label': 'positive'}, {'text': 'I am disappointed with the quality of the product, it broke after just one use.', 'label': 'negative'}, {'text': 'The weather today is neither too hot nor too cold, just perfect for a walk outside.', 'label': 'neutral'}, {'text': \"This book is so inspiring and thought-provoking, I couldn't put it down!\", 'label': 'positive'}, {'text': \"The hotel room was dirty and noisy, I couldn't sleep at all.\", 'label': 'negative'}, {'text': \"The movie was okay, not the best I've seen but not the worst either.\", 'label': 'neutral'}, {'text': 'I am so grateful for my friends and family, they bring so much joy to my life.', 'label': 'positive'}, {'text': 'The customer service was terrible, they were rude and unhelpful.', 'label': 'negative'}, {'text': 'The concert last night was amazing, the band put on a great show!', 'label': 'positive'}, {'text': 'The article was informative but unbiased, presenting both sides of the argument.', 'label': 'neutral'}]\n"
          ]
        }
      ],
      "execution_count": null
    },
    {
      "metadata": {
        "ExecuteTime": {
          "end_time": "2024-09-17T14:02:03.208923Z",
          "start_time": "2024-09-17T14:01:31.957054Z"
        },
        "id": "2d4d27b6028e10ff",
        "outputId": "4021f698-5899-49dc-fda2-a4d8cb2dc234"
      },
      "cell_type": "code",
      "source": [
        "# Generate synthetic QA data\n",
        "qa_instructions = \"Generate 10 question-answer pairs about world history, with questions ranging from basic to advanced.\"\n",
        "synthetic_qa_data = generator.generate_data(qa_instructions)\n",
        "\n",
        "# Print the generated synthetic data\n",
        "for sample in synthetic_qa_data:\n",
        "    print(sample)"
      ],
      "id": "2d4d27b6028e10ff",
      "outputs": [
        {
          "name": "stdout",
          "output_type": "stream",
          "text": [
            "{'question': \"Who is known as the 'Father of History' for his work on the Histories, which chronicled the Greco-Persian Wars?\", 'answer': 'Herodotus'}\n",
            "{'question': 'Which ancient civilization is credited with the invention of paper, gunpowder, and the compass?', 'answer': 'China'}\n",
            "{'question': 'What was the name of the legal code established by Hammurabi, the sixth king of the First Babylonian Dynasty?', 'answer': 'Code of Hammurabi'}\n",
            "{'question': 'Which empire was led by Attila the Hun during the 5th century?', 'answer': 'Hunnic Empire'}\n",
            "{'question': 'Who was the first Roman Emperor, marking the end of the Roman Republic?', 'answer': 'Augustus'}\n",
            "{'question': 'What was the name of the agreement that officially ended World War I?', 'answer': 'Treaty of Versailles'}\n",
            "{'question': 'Which historical event is associated with the date October 31, 1517, and is considered a key starting point of the Protestant Reformation?', 'answer': \"Martin Luther's Ninety-five Theses\"}\n",
            "{'question': 'Who was the first European explorer to reach India by sea, opening up a new trade route?', 'answer': 'Vasco da Gama'}\n",
            "{'question': 'Which ancient Greek city-state is known for its military power and the legendary Battle of Thermopylae?', 'answer': 'Sparta'}\n",
            "{'question': 'What was the name of the movement that aimed to revive the classical art, literature, and learning of ancient Greece and Rome during the 14th to 17th century?', 'answer': 'Renaissance'}\n"
          ]
        }
      ],
      "execution_count": null
    },
    {
      "metadata": {
        "ExecuteTime": {
          "end_time": "2024-09-17T14:02:03.224302Z",
          "start_time": "2024-09-17T14:02:03.208923Z"
        },
        "id": "7f9b00b51bb9b9ba"
      },
      "cell_type": "code",
      "source": [
        "import json\n",
        "from typing import List, Dict, Any, Callable\n",
        "import requests\n",
        "\n",
        "\n",
        "class SyntheticDataGenerator:\n",
        "    def __init__(self, api_key: str, num_samples: int = 1, temperature: float = 0.2, top_p: float = 0.7, max_tokens: int = 1024):\n",
        "        \"\"\"\n",
        "        Initializes the synthetic data generator with necessary configurations for NVIDIA Nemotron API.\n",
        "\n",
        "        :param api_key: Your API key for accessing NVIDIA Nemotron\n",
        "        :param num_samples: Number of samples to generate\n",
        "        :param temperature: Sampling temperature for the model\n",
        "        :param top_p: Controls the cumulative probability of token selection\n",
        "        :param max_tokens: Maximum number of tokens to generate\n",
        "        \"\"\"\n",
        "        self.api_key = api_key\n",
        "        self.num_samples = num_samples\n",
        "        self.temperature = temperature\n",
        "        self.top_p = top_p\n",
        "        self.max_tokens = max_tokens\n",
        "        self.base_url = \"https://integrate.api.nvidia.com/v1\"  # NVIDIA API endpoint\n",
        "\n",
        "    def generate_data(self, instructions: str, prompt_template: Callable[[str], str]) -> List[Dict[str, Any]]:\n",
        "        \"\"\"\n",
        "        Generate synthetic data based on the given instructions using a prompt template.\n",
        "\n",
        "        :param instructions: The instructions that define the data generation task\n",
        "        :param prompt_template: A callable function that formats the instructions into a prompt for the model\n",
        "        :return: A list of dictionaries representing the generated synthetic data\n",
        "        \"\"\"\n",
        "        prompt = prompt_template(instructions)\n",
        "\n",
        "        # Prepare the API call with messages, temperature, and other parameters\n",
        "        data = {\n",
        "            \"model\": \"nvidia/nemotron-4-340b-instruct\",\n",
        "            \"messages\": [{\"role\": \"user\", \"content\": prompt}],\n",
        "            \"temperature\": self.temperature,\n",
        "            \"top_p\": self.top_p,\n",
        "            \"max_tokens\": self.max_tokens,\n",
        "            \"stream\": False\n",
        "        }\n",
        "\n",
        "        headers = {\n",
        "            \"Content-Type\": \"application/json\",\n",
        "            \"Authorization\": f\"Bearer {self.api_key}\"\n",
        "        }\n",
        "\n",
        "        # Make the API call to NVIDIA's endpoint\n",
        "        response = requests.post(\n",
        "            f\"{self.base_url}/chat/completions\",\n",
        "            headers=headers,\n",
        "            json=data\n",
        "        )\n",
        "\n",
        "        if response.status_code != 200:\n",
        "            raise ValueError(f\"Failed to call the API: {response.status_code} {response.text}\")\n",
        "\n",
        "        # Get the raw response from the model\n",
        "        raw_output = response.json()['choices'][0]['message']['content']\n",
        "\n",
        "        # Parse and return the response\n",
        "        return self._parse_response(raw_output)\n",
        "\n",
        "    def _parse_response(self, raw_output: str) -> List[Dict[str, Any]]:\n",
        "        \"\"\"\n",
        "        Parse the raw LLM output into a structured format.\n",
        "\n",
        "        :param raw_output: The raw string response from the model\n",
        "        :return: Parsed JSON as a list of dictionaries\n",
        "        \"\"\"\n",
        "        # Strip formatting (e.g., if the model wraps the response in code block formatting)\n",
        "        json_output = raw_output.strip('```json').strip('```').strip()\n",
        "        try:\n",
        "            # Parse the cleaned-up output as JSON\n",
        "            return json.loads(json_output)\n",
        "        except json.JSONDecodeError as e:\n",
        "            # Handle parsing errors and raise an exception if the output isn't valid JSON\n",
        "            raise ValueError(f\"LLM output is not valid JSON: {e}\")"
      ],
      "id": "7f9b00b51bb9b9ba",
      "outputs": [],
      "execution_count": null
    },
    {
      "metadata": {
        "ExecuteTime": {
          "end_time": "2024-09-17T14:02:03.237590Z",
          "start_time": "2024-09-17T14:02:03.224302Z"
        },
        "id": "62599cc8467caaa1"
      },
      "cell_type": "code",
      "source": [
        "# Example usage of the class:\n",
        "\n",
        "def my_prompt_template(instructions: str) -> str:\n",
        "    \"\"\"\n",
        "    Custom prompt template for generating synthetic data.\n",
        "\n",
        "    :param instructions: The instructions for the data generation\n",
        "    :return: A formatted prompt string\n",
        "    \"\"\"\n",
        "    return (\n",
        "        f\"Using the following instructions, generate {1} samples of synthetic data in JSON format. \"\n",
        "        f\"Ensure the output is a valid JSON array where each entry is a dictionary. \"\n",
        "        f\"Instructions: {instructions}\"\n",
        "    )"
      ],
      "id": "62599cc8467caaa1",
      "outputs": [],
      "execution_count": null
    },
    {
      "metadata": {
        "ExecuteTime": {
          "end_time": "2024-09-17T14:02:06.951982Z",
          "start_time": "2024-09-17T14:02:03.237590Z"
        },
        "id": "143d03005cec95a8",
        "outputId": "684cef19-8d6f-4af9-a1e7-a67e25e40342"
      },
      "cell_type": "code",
      "source": [
        "# Initialize the synthetic data generator\n",
        "api_key = nv_api_key\n",
        "generator = SyntheticDataGenerator(api_key=api_key, num_samples=1)\n",
        "\n",
        "# Define your instructions for data generation\n",
        "instructions = \"Generate synthetic user profiles containing 'name', 'age', and 'location'.\"\n",
        "\n",
        "# Generate the synthetic data using the custom prompt template\n",
        "generated_data = generator.generate_data(instructions=instructions, prompt_template=my_prompt_template)\n",
        "\n",
        "# Print the generated data\n",
        "print(generated_data)"
      ],
      "id": "143d03005cec95a8",
      "outputs": [
        {
          "name": "stdout",
          "output_type": "stream",
          "text": [
            "[{'name': 'John Doe', 'age': 30, 'location': 'New York, USA'}]\n"
          ]
        }
      ],
      "execution_count": null
    },
    {
      "metadata": {
        "ExecuteTime": {
          "end_time": "2024-09-17T14:02:10.279352Z",
          "start_time": "2024-09-17T14:02:06.954003Z"
        },
        "id": "771c069197fa82e9"
      },
      "cell_type": "code",
      "source": [
        "import json\n",
        "from typing import List, Dict, Any, Callable\n",
        "import requests\n",
        "import pandas as pd\n",
        "\n",
        "\n",
        "class SyntheticDataGenerator:\n",
        "    def __init__(self, api_key: str, num_samples: int = 1, temperature: float = 0.2, top_p: float = 0.7, max_tokens: int = 2048):\n",
        "        \"\"\"\n",
        "        Initializes the synthetic data generator with necessary configurations for NVIDIA Nemotron API.\n",
        "        \"\"\"\n",
        "        self.api_key = api_key\n",
        "        self.num_samples = num_samples\n",
        "        self.temperature = temperature\n",
        "        self.top_p = top_p\n",
        "        self.max_tokens = max_tokens\n",
        "        self.base_url = \"https://integrate.api.nvidia.com/v1\"  # NVIDIA API endpoint\n",
        "\n",
        "    def generate_data(self, subject: str, extra: str, runs: int, prompt_template: Callable[[str, str, int], str]) -> List[Dict[str, Any]]:\n",
        "        \"\"\"\n",
        "        Generate synthetic data based on the given instructions using a prompt template.\n",
        "        \"\"\"\n",
        "        synthetic_results = []\n",
        "        for _ in range(runs):\n",
        "            prompt = prompt_template(subject, extra, self.num_samples)\n",
        "\n",
        "            # Prepare the API call\n",
        "            data = {\n",
        "                \"model\": \"nvidia/nemotron-4-340b-instruct\",\n",
        "                \"messages\": [{\"role\": \"user\", \"content\": prompt}],\n",
        "                \"temperature\": self.temperature,\n",
        "                \"top_p\": self.top_p,\n",
        "                \"max_tokens\": self.max_tokens,\n",
        "                \"stream\": False\n",
        "            }\n",
        "\n",
        "            headers = {\n",
        "                \"Content-Type\": \"application/json\",\n",
        "                \"Authorization\": f\"Bearer {self.api_key}\"\n",
        "            }\n",
        "\n",
        "            # Make the API call to NVIDIA's endpoint\n",
        "            response = requests.post(\n",
        "                f\"{self.base_url}/chat/completions\",\n",
        "                headers=headers,\n",
        "                json=data\n",
        "            )\n",
        "\n",
        "            if response.status_code != 200:\n",
        "                raise ValueError(f\"Failed to call the API: {response.status_code} {response.text}\")\n",
        "\n",
        "            # Get the raw response from the model\n",
        "            raw_output = response.json()['choices'][0]['message']['content']\n",
        "\n",
        "            # Parse the response and add it to synthetic results\n",
        "            parsed_data = self._parse_response(raw_output)\n",
        "            synthetic_results.append(parsed_data)\n",
        "\n",
        "        return synthetic_results\n",
        "\n",
        "    def _parse_response(self, raw_output: str) -> List[Dict[str, Any]]:\n",
        "        \"\"\"\n",
        "        Parse the raw LLM output into a structured format. Strips extra data and\n",
        "        ensures that only valid JSON content is returned.\n",
        "\n",
        "        :param raw_output: The raw string response from the model\n",
        "        :return: Parsed JSON as a list of dictionaries\n",
        "        \"\"\"\n",
        "        # Remove any potential code block delimiters\n",
        "        json_output = raw_output.strip().strip('```json').strip('```').strip()\n",
        "\n",
        "        # Find the first valid JSON object in the response\n",
        "        try:\n",
        "            # Sometimes the model may return multiple chunks of text; we split by braces.\n",
        "            json_output = json_output[json_output.find('{'):json_output.rfind('}')+1]\n",
        "            # Try to parse the cleaned-up output as JSON\n",
        "            return json.loads(json_output)\n",
        "        except json.JSONDecodeError as e:\n",
        "            # Handle parsing errors and provide feedback\n",
        "            raise ValueError(f\"LLM output is not valid JSON: {e}\\nRaw output: {raw_output}\")\n",
        "\n",
        "\n"
      ],
      "id": "771c069197fa82e9",
      "outputs": [],
      "execution_count": null
    },
    {
      "metadata": {
        "ExecuteTime": {
          "end_time": "2024-09-17T14:02:10.992535Z",
          "start_time": "2024-09-17T14:02:10.294Z"
        },
        "id": "86a69a0a7fcd4025"
      },
      "cell_type": "code",
      "source": [
        "from pydantic import BaseModel\n",
        "from typing import List\n",
        "\n",
        "# Define a MedicalBilling class for structured data\n",
        "class MedicalBilling(BaseModel):\n",
        "    patient_id: str\n",
        "    patient_name: str\n",
        "    diagnosis_code: str\n",
        "    procedure_code: str\n",
        "    total_charge: float\n",
        "    insurance_claim_amount: float\n"
      ],
      "id": "86a69a0a7fcd4025",
      "outputs": [],
      "execution_count": null
    },
    {
      "metadata": {
        "ExecuteTime": {
          "end_time": "2024-09-17T14:02:11.016893Z",
          "start_time": "2024-09-17T14:02:10.999750Z"
        },
        "id": "c9ea1589de162b4d"
      },
      "cell_type": "code",
      "source": [
        "def my_prompt_template(subject: str, extra: str, num_samples: int) -> str:\n",
        "    return (\n",
        "        f\"Generate {num_samples} samples of {subject} data. Ensure the following fields are present: \"\n",
        "        f\"Patient ID, Patient Name, Diagnosis Code, Procedure Code, Total Charge, Insurance Claim Amount. \"\n",
        "        f\"{extra} Output the data in valid JSON format.\"\n",
        "    )\n"
      ],
      "id": "c9ea1589de162b4d",
      "outputs": [],
      "execution_count": null
    },
    {
      "metadata": {
        "ExecuteTime": {
          "end_time": "2024-09-17T14:02:24.493597Z",
          "start_time": "2024-09-17T14:02:11.021907Z"
        },
        "id": "43836bf33c8c985c",
        "outputId": "64a0f6c8-5728-444a-c9ff-5ead19c31abf"
      },
      "cell_type": "code",
      "source": [
        "# Initialize the synthetic data generator\n",
        "api_key = nv_api_key\n",
        "generator = SyntheticDataGenerator(api_key=api_key, num_samples=1)\n",
        "\n",
        "# Define the instructions for synthetic data generation\n",
        "subject = \"medical_billing\"\n",
        "extra = \"The name must be chosen at random. Make it something unusual.\"\n",
        "runs = 1\n",
        "\n",
        "# Generate the synthetic data using the custom prompt template\n",
        "synthetic_results = generator.generate_data(subject=subject, extra=extra, runs=runs, prompt_template=my_prompt_template)\n",
        "synthetic_results"
      ],
      "id": "43836bf33c8c985c",
      "outputs": [
        {
          "data": {
            "text/plain": [
              "[{'medical_billing_data': {'Patient ID': 'P12345',\n",
              "   'Patient Name': 'Zephyr Quicksilver',\n",
              "   'Diagnosis Code': 'M54.5',\n",
              "   'Procedure Code': '99213',\n",
              "   'Total Charge': 150.0,\n",
              "   'Insurance Claim Amount': 120.0}}]"
            ]
          },
          "execution_count": 13,
          "metadata": {},
          "output_type": "execute_result"
        }
      ],
      "execution_count": null
    },
    {
      "metadata": {
        "ExecuteTime": {
          "end_time": "2024-09-17T14:02:41.508935Z",
          "start_time": "2024-09-17T14:02:41.473120Z"
        },
        "id": "83b60b855b243183",
        "outputId": "6c03510f-6a4a-476b-ec53-273441f0f450"
      },
      "cell_type": "code",
      "source": [
        "# Convert the synthetic results into structured MedicalBilling objects\n",
        "synthetic_data = []\n",
        "for result in synthetic_results:\n",
        "    # Check if the result is a dictionary and contains 'medical_billing_data'\n",
        "    if isinstance(result, dict) and 'medical_billing_data' in result:\n",
        "        entry = result['medical_billing_data']\n",
        "        # Now process the entry dictionary\n",
        "        billing_data = MedicalBilling(\n",
        "            patient_id=entry['Patient ID'],  # Adjusted to match the correct key name\n",
        "            patient_name=entry['Patient Name'],\n",
        "            diagnosis_code=entry['Diagnosis Code'],\n",
        "            procedure_code=entry['Procedure Code'],\n",
        "            total_charge=float(entry['Total Charge']),\n",
        "            insurance_claim_amount=float(entry['Insurance Claim Amount'])\n",
        "        )\n",
        "        synthetic_data.append(billing_data)\n",
        "    else:\n",
        "        print(f\"Unexpected result format: {result}\")\n",
        "\n",
        "# Convert the synthetic data to a Pandas DataFrame\n",
        "synthetic_df = pd.DataFrame([billing.dict() for billing in synthetic_data])\n",
        "\n",
        "# Display the DataFrame\n",
        "synthetic_df\n"
      ],
      "id": "83b60b855b243183",
      "outputs": [
        {
          "data": {
            "text/plain": [
              "  patient_id        patient_name diagnosis_code procedure_code  total_charge  \\\n",
              "0     P12345  Zephyr Quicksilver          M54.5          99213         150.0   \n",
              "\n",
              "   insurance_claim_amount  \n",
              "0                   120.0  "
            ],
            "text/html": [
              "<div>\n",
              "<style scoped>\n",
              "    .dataframe tbody tr th:only-of-type {\n",
              "        vertical-align: middle;\n",
              "    }\n",
              "\n",
              "    .dataframe tbody tr th {\n",
              "        vertical-align: top;\n",
              "    }\n",
              "\n",
              "    .dataframe thead th {\n",
              "        text-align: right;\n",
              "    }\n",
              "</style>\n",
              "<table border=\"1\" class=\"dataframe\">\n",
              "  <thead>\n",
              "    <tr style=\"text-align: right;\">\n",
              "      <th></th>\n",
              "      <th>patient_id</th>\n",
              "      <th>patient_name</th>\n",
              "      <th>diagnosis_code</th>\n",
              "      <th>procedure_code</th>\n",
              "      <th>total_charge</th>\n",
              "      <th>insurance_claim_amount</th>\n",
              "    </tr>\n",
              "  </thead>\n",
              "  <tbody>\n",
              "    <tr>\n",
              "      <th>0</th>\n",
              "      <td>P12345</td>\n",
              "      <td>Zephyr Quicksilver</td>\n",
              "      <td>M54.5</td>\n",
              "      <td>99213</td>\n",
              "      <td>150.0</td>\n",
              "      <td>120.0</td>\n",
              "    </tr>\n",
              "  </tbody>\n",
              "</table>\n",
              "</div>"
            ]
          },
          "execution_count": 15,
          "metadata": {},
          "output_type": "execute_result"
        }
      ],
      "execution_count": null
    },
    {
      "metadata": {
        "id": "a680f230e9f06e3e"
      },
      "cell_type": "code",
      "outputs": [],
      "execution_count": null,
      "source": [],
      "id": "a680f230e9f06e3e"
    }
  ],
  "metadata": {
    "kernelspec": {
      "display_name": "Python 3",
      "language": "python",
      "name": "python3"
    },
    "language_info": {
      "codemirror_mode": {
        "name": "ipython",
        "version": 2
      },
      "file_extension": ".py",
      "mimetype": "text/x-python",
      "name": "python",
      "nbconvert_exporter": "python",
      "pygments_lexer": "ipython2",
      "version": "2.7.6"
    },
    "colab": {
      "provenance": []
    }
  },
  "nbformat": 4,
  "nbformat_minor": 5
}