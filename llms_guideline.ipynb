{
 "cells": [
  {
   "cell_type": "code",
   "id": "initial_id",
   "metadata": {
    "collapsed": true,
    "ExecuteTime": {
     "end_time": "2024-09-17T15:36:23.253976Z",
     "start_time": "2024-09-17T15:36:23.237445Z"
    }
   },
   "source": [
    "import os\n",
    "from dotenv import load_dotenv\n",
    "\n",
    "load_dotenv()\n",
    "INDOX_API_KEY = os.environ['INDOX_API_KEY']\n",
    "OPENAI_API_KEY = os.environ['OPENAI_API_KEY']\n",
    "NVIDIA_API_KEY = os.environ['NVIDIA_API_KEY']"
   ],
   "outputs": [],
   "execution_count": 3
  },
  {
   "metadata": {
    "ExecuteTime": {
     "end_time": "2024-09-17T15:36:25.803205Z",
     "start_time": "2024-09-17T15:36:23.671060Z"
    }
   },
   "cell_type": "code",
   "source": [
    "from models import OpenAi,IndoxApi\n",
    "\n",
    "indox = IndoxApi(api_key=INDOX_API_KEY)\n",
    "\n",
    "# Get api key from NVIDIA (https://build.nvidia.com/nvidia/nemotron-4-340b-instruct?api_key=true&)\n",
    "nemotron = OpenAi(api_key=NVIDIA_API_KEY, model=\"nvidia/nemotron-4-340b-instruct\",\n",
    "                  base_url=\"https://integrate.api.nvidia.com/v1\")"
   ],
   "id": "4cbfc6469a3a790c",
   "outputs": [],
   "execution_count": 4
  },
  {
   "metadata": {
    "ExecuteTime": {
     "end_time": "2024-09-17T15:39:20.540300Z",
     "start_time": "2024-09-17T15:39:08.099385Z"
    }
   },
   "cell_type": "code",
   "source": [
    "nemotron_response = nemotron.chat(prompt=\"Write a limerick about the wonders of GPU computing.\", \n",
    "              system_prompt=\"You are a helpful assistant designed to generate synthetic data.\",stream=True,temperature=0.2,top_p=0.7)\n",
    "print(nemotron_response)"
   ],
   "id": "bc1efaeab1a13eaf",
   "outputs": [
    {
     "name": "stdout",
     "output_type": "stream",
     "text": [
      "In the realm of computing, where speed is a must,\n",
      "GPU power is something we trust.\n",
      "Parallel processing, oh what a delight,\n",
      "Transforms heavy workloads, from day into night.\n",
      "With teraflops galore, it's a tech lover's lust.\n",
      "\n",
      "Nvidia, AMD, they're in the game,\n",
      "Their silicon marvels, far from tame.\n",
      "Complex calculations, in a flash,\n",
      "For AI, gaming, or a data mash.\n",
      "GPU computing, forever we'll acclaim!\n"
     ]
    }
   ],
   "execution_count": 7
  },
  {
   "metadata": {
    "ExecuteTime": {
     "end_time": "2024-09-17T15:39:31.384956Z",
     "start_time": "2024-09-17T15:39:29.773910Z"
    }
   },
   "cell_type": "code",
   "source": [
    "indox_response = indox.chat(prompt=\"Write a limerick about the wonders of GPU computing.\", \n",
    "              system_prompt=\"You are a helpful assistant designed to generate synthetic data.\",stream=True,temperature=0.2,top_p=0.7)\n",
    "print(indox_response)"
   ],
   "id": "d1881c1512a62857",
   "outputs": [
    {
     "name": "stdout",
     "output_type": "stream",
     "text": [
      "In a world where the pixels do dance,  \n",
      "GPUs give our data a chance.  \n",
      "With cores all aligned,  \n",
      "They process combined,  \n",
      "Making algorithms prance in a trance!\n"
     ]
    }
   ],
   "execution_count": 9
  },
  {
   "metadata": {},
   "cell_type": "code",
   "outputs": [],
   "execution_count": null,
   "source": "",
   "id": "3783de473dc6b457"
  }
 ],
 "metadata": {
  "kernelspec": {
   "display_name": "Python 3",
   "language": "python",
   "name": "python3"
  },
  "language_info": {
   "codemirror_mode": {
    "name": "ipython",
    "version": 2
   },
   "file_extension": ".py",
   "mimetype": "text/x-python",
   "name": "python",
   "nbconvert_exporter": "python",
   "pygments_lexer": "ipython2",
   "version": "2.7.6"
  }
 },
 "nbformat": 4,
 "nbformat_minor": 5
}
