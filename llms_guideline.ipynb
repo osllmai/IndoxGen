{
 "cells": [
  {
   "cell_type": "code",
   "id": "initial_id",
   "metadata": {
    "collapsed": true,
    "ExecuteTime": {
     "end_time": "2024-09-18T15:58:33.837727Z",
     "start_time": "2024-09-18T15:58:33.822905Z"
    }
   },
   "source": [
    "import os\n",
    "from dotenv import load_dotenv\n",
    "\n",
    "load_dotenv()\n",
    "INDOX_API_KEY = os.environ['INDOX_API_KEY']\n",
    "OPENAI_API_KEY = os.environ['OPENAI_API_KEY']\n",
    "NVIDIA_API_KEY = os.environ['NVIDIA_API_KEY']"
   ],
   "outputs": [],
   "execution_count": 1
  },
  {
   "metadata": {
    "ExecuteTime": {
     "end_time": "2024-09-18T15:58:35.368933Z",
     "start_time": "2024-09-18T15:58:34.106676Z"
    }
   },
   "cell_type": "code",
   "source": [
    "from models import OpenAi, IndoxApi\n",
    "\n",
    "indox = IndoxApi(api_key=INDOX_API_KEY)\n",
    "\n",
    "# Get api key from NVIDIA (https://build.nvidia.com/nvidia/nemotron-4-340b-instruct?api_key=true&)\n",
    "nemotron = OpenAi(api_key=NVIDIA_API_KEY, model=\"nvidia/nemotron-4-340b-instruct\",\n",
    "                  base_url=\"https://integrate.api.nvidia.com/v1\")"
   ],
   "id": "4cbfc6469a3a790c",
   "outputs": [],
   "execution_count": 2
  },
  {
   "metadata": {
    "ExecuteTime": {
     "end_time": "2024-09-17T15:39:20.540300Z",
     "start_time": "2024-09-17T15:39:08.099385Z"
    }
   },
   "cell_type": "code",
   "source": [
    "nemotron_response = nemotron.chat(prompt=\"Write a limerick about the wonders of GPU computing.\",\n",
    "                                  system_prompt=\"You are a helpful assistant designed to generate synthetic data.\",\n",
    "                                  stream=True, temperature=0.2, top_p=0.7)\n",
    "print(nemotron_response)"
   ],
   "id": "bc1efaeab1a13eaf",
   "outputs": [
    {
     "name": "stdout",
     "output_type": "stream",
     "text": [
      "In the realm of computing, where speed is a must,\n",
      "GPU power is something we trust.\n",
      "Parallel processing, oh what a delight,\n",
      "Transforms heavy workloads, from day into night.\n",
      "With teraflops galore, it's a tech lover's lust.\n",
      "\n",
      "Nvidia, AMD, they're in the game,\n",
      "Their silicon marvels, far from tame.\n",
      "Complex calculations, in a flash,\n",
      "For AI, gaming, or a data mash.\n",
      "GPU computing, forever we'll acclaim!\n"
     ]
    }
   ],
   "execution_count": 7
  },
  {
   "metadata": {
    "ExecuteTime": {
     "end_time": "2024-09-17T15:39:31.384956Z",
     "start_time": "2024-09-17T15:39:29.773910Z"
    }
   },
   "cell_type": "code",
   "source": [
    "indox_response = indox.chat(prompt=\"Write a limerick about the wonders of GPU computing.\",\n",
    "                            system_prompt=\"You are a helpful assistant designed to generate synthetic data.\",\n",
    "                            stream=True, temperature=0.2, top_p=0.7)\n",
    "print(indox_response)"
   ],
   "id": "d1881c1512a62857",
   "outputs": [
    {
     "name": "stdout",
     "output_type": "stream",
     "text": [
      "In a world where the pixels do dance,  \n",
      "GPUs give our data a chance.  \n",
      "With cores all aligned,  \n",
      "They process combined,  \n",
      "Making algorithms prance in a trance!\n"
     ]
    }
   ],
   "execution_count": 9
  },
  {
   "metadata": {
    "ExecuteTime": {
     "end_time": "2024-09-18T16:08:33.187252Z",
     "start_time": "2024-09-18T16:08:33.165745Z"
    }
   },
   "cell_type": "code",
   "source": [
    "import json\n",
    "from typing import List, Dict, Any, Optional\n",
    "import csv\n",
    "from io import StringIO\n",
    "import random\n",
    "\n",
    "class SyntheticDataGenerator:\n",
    "    def __init__(\n",
    "            self,\n",
    "            generator_llm,\n",
    "            judge_llm,\n",
    "            columns: List[str],\n",
    "            example_data: List[Dict[str, Any]],\n",
    "            real_data: Optional[List[Dict[str, Any]]] = None\n",
    "    ):\n",
    "        self.generator_llm = generator_llm\n",
    "        self.judge_llm = judge_llm\n",
    "        self.columns = columns\n",
    "        self.example_data = example_data\n",
    "        self.real_data = real_data\n",
    "        self.generated_data = []\n",
    "        self.feedback_history = []\n",
    "\n",
    "    def generate_data(self, num_samples: int) -> str:\n",
    "        while len(self.generated_data) < num_samples:\n",
    "            generated = self._generate_single_data_point()\n",
    "            if not generated:\n",
    "                continue  # Skip empty generations\n",
    "    \n",
    "            score = self._judge_data_point(generated)\n",
    "            \n",
    "            if score < 0.4:\n",
    "                # Inform generator about its mistake and retry\n",
    "                self._inform_generator(generated, score, \"Low score\")\n",
    "            elif 0.4 <= score <= 0.7:\n",
    "                # Ask human feedback\n",
    "                print(f\"Generated data for human review: {generated}\")  # Display the generated data\n",
    "                if self._ask_human_feedback(generated):\n",
    "                    if not self._is_duplicate(generated):\n",
    "                        self.generated_data.append(generated)\n",
    "                        print(f\"Human accepted data point: {generated}\")\n",
    "                    else:\n",
    "                        print(\"Duplicate data detected. Skipping...\")\n",
    "                else:\n",
    "                    self._inform_generator(generated, score, \"Rejected by human feedback\")\n",
    "            else:  # score > 0.7\n",
    "                if not self._is_duplicate(generated) and self._is_diverse(generated):\n",
    "                    self.generated_data.append(generated)\n",
    "                    print(f\"Generated diverse data point: {generated}\")\n",
    "                else:\n",
    "                    print(\"Generated data is not diverse or is a duplicate. Retrying...\")\n",
    "    \n",
    "        return self._convert_to_csv()\n",
    "    def _generate_single_data_point(self) -> Dict[str, Any]:\n",
    "        system_prompt = \"You are a synthetic data generator. Generate diverse and realistic data based on the given examples and criteria. Your response must be a valid JSON object.\"\n",
    "        prompt = self._create_generation_prompt()\n",
    "        \n",
    "        max_attempts = 5  # Increased max attempts\n",
    "        for attempt in range(max_attempts):\n",
    "            try:\n",
    "                generated = self.generator_llm.chat(prompt, system_prompt=system_prompt, temperature=1.0)  # Increased temperature\n",
    "                json_start = generated.find('{')\n",
    "                json_end = generated.rfind('}') + 1\n",
    "                if json_start != -1 and json_end != -1:\n",
    "                    json_str = generated[json_start:json_end]\n",
    "                    data = json.loads(json_str)\n",
    "                    \n",
    "                    if all(col in data for col in self.columns):\n",
    "                        # Perturb the data if it is not diverse enough\n",
    "                        if not self._is_diverse(data) and attempt < max_attempts - 1:\n",
    "                            print(\"Generated data is not diverse enough. Modifying the prompt and retrying...\")\n",
    "                            prompt += \"\\nAvoid using the exact same values. Try changing names, ages, or occupations.\\n\"\n",
    "                            continue\n",
    "                        \n",
    "                        return data\n",
    "                    else:\n",
    "                        missing_columns = set(self.columns) - set(data.keys())\n",
    "                        print(f\"Generated data is missing columns: {missing_columns}\")\n",
    "                else:\n",
    "                    print(\"No valid JSON object found in the generated data\")\n",
    "            except json.JSONDecodeError as e:\n",
    "                print(f\"Failed to parse generated data (Attempt {attempt + 1}/{max_attempts}): {str(e)}\")\n",
    "            \n",
    "            if attempt < max_attempts - 1:\n",
    "                print(f\"Retrying generation (Attempt {attempt + 2}/{max_attempts})...\")\n",
    "        \n",
    "        print(\"Max attempts reached. Skipping this data point.\")\n",
    "        return {}\n",
    "\n",
    "    def _convert_to_csv(self) -> str:\n",
    "        output = StringIO()\n",
    "        writer = csv.DictWriter(output, fieldnames=self.columns)\n",
    "        writer.writeheader()\n",
    "        for data in self.generated_data:\n",
    "            writer.writerow(data)\n",
    "        return output.getvalue()\n",
    "\n",
    "    def _create_generation_prompt(self) -> str:\n",
    "        prompt = f\"Generate diverse synthetic data with the following columns: {', '.join(self.columns)}.\\n\"\n",
    "        prompt += \"Ensure that each generated data point is unique and significantly different from the previous ones.\\n\"\n",
    "        prompt += \"The data should be realistic and within the given examples, but with variations. For example, use a new name or different age ranges.\\n\\n\"\n",
    "        \n",
    "        # Include some example data in the prompt\n",
    "        shuffled_examples = random.sample(self.example_data + (self.real_data or []), \n",
    "                                          min(5, len(self.example_data) + len(self.real_data or [])))\n",
    "        for example in shuffled_examples:\n",
    "            prompt += json.dumps(example) + \"\\n\"\n",
    "        \n",
    "        # Add recent outputs to avoid\n",
    "        if self.generated_data:\n",
    "            prompt += \"\\nPlease avoid using the following names, ages, and occupations in the new data point:\\n\"\n",
    "            \n",
    "            used_names = {data['name'] for data in self.generated_data if 'name' in data}\n",
    "            used_ages = {data['age'] for data in self.generated_data if 'age' in data}\n",
    "            used_occupations = {data['occupation'] for data in self.generated_data if 'occupation' in data}\n",
    "            \n",
    "            prompt += f\"Names: {', '.join(used_names)}\\n\"\n",
    "            prompt += f\"Ages: {', '.join(map(str, used_ages))}\\n\"\n",
    "            prompt += f\"Occupations: {', '.join(used_occupations)}\\n\"\n",
    "        \n",
    "        # Specific instructions for generating diverse data\n",
    "        prompt += \"\\nEnsure that names, ages, and occupations are different from the above lists. For example, use new names, ages outside the used range, or different occupations.\\n\"\n",
    "        \n",
    "        # Include recent feedback history\n",
    "        if self.feedback_history:\n",
    "            prompt += \"\\nPrevious feedback (avoid these patterns):\\n\"\n",
    "            prompt += \"\\n\".join(self.feedback_history[-2:])  # Include last 2 feedback items\n",
    "        \n",
    "        prompt += \"\\nGenerate a single, unique data point as a JSON object.\"\n",
    "        return prompt\n",
    "\n",
    "\n",
    "\n",
    "    def _convert_to_csv(self) -> str:\n",
    "        output = StringIO()\n",
    "        writer = csv.DictWriter(output, fieldnames=self.columns)\n",
    "        writer.writeheader()\n",
    "        for data in self.generated_data:\n",
    "            writer.writerow(data)\n",
    "        return output.getvalue()\n",
    "    \n",
    "    def _judge_data_point(self, data: Dict[str, Any]) -> float:\n",
    "        system_prompt = \"You are a data quality judge. Evaluate the given data based on the criteria and return a score between 0 and 1.\"\n",
    "        criteria = self._create_judge_criteria()\n",
    "        prompt = f\"Data to evaluate: {json.dumps(data)}\\n\\nCriteria:\\n{criteria}\\n\\nProvide a numeric score between 0 and 1.\"\n",
    "        \n",
    "        score_str = self.judge_llm.chat(prompt, system_prompt=system_prompt, temperature=0.5)\n",
    "        try:\n",
    "            score = float(score_str)\n",
    "            return score\n",
    "        except ValueError:\n",
    "            print(f\"Failed to parse judge score: {score_str}\")\n",
    "            return 0.5  # Default to a mid-range score to avoid rejecting too often\n",
    "    \n",
    "    def _is_diverse(self, new_data: Dict[str, Any]) -> bool:\n",
    "        if len(self.generated_data) < 2:\n",
    "            return True\n",
    "        \n",
    "        # Relaxed diversity check: only require differences in at least 1/4 of the columns\n",
    "        last_data = self.generated_data[-2:]\n",
    "        for data in last_data:\n",
    "            differences = sum(1 for col in self.columns if str(new_data.get(col)) != str(data.get(col)))\n",
    "            if differences >= len(self.columns) // 4:  # Require fewer differences\n",
    "                return True\n",
    "        return False\n",
    "    def _ask_human_feedback(self, data: Dict[str, Any]) -> bool:\n",
    "        print(\"\\nPlease review this generated data point:\")\n",
    "        for col, value in data.items():\n",
    "            print(f\"{col}: {value}\")\n",
    "        response = input(\"Is this data acceptable? (y/n): \").strip().lower()\n",
    "        return response == 'y'\n",
    "    \n",
    "    def _inform_generator(self, data: Dict[str, Any], score: float, reason: str):\n",
    "        feedback = f\"Generated data: {json.dumps(data)}\\nScore: {score}\\nReason: {reason}\"\n",
    "        self.feedback_history.append(feedback)\n",
    "        print(f\"Feedback for generator: {feedback}\")\n",
    "\n",
    "\n",
    "    def _create_generation_prompt(self) -> str:\n",
    "        prompt = f\"Generate diverse synthetic data with the following columns: {', '.join(self.columns)}\\n\"\n",
    "        prompt += \"Ensure each generated data point is significantly different from previous ones.\\n\"\n",
    "        prompt += \"The data should be similar to the following examples, but not identical:\\n\\n\"\n",
    "        for example in self.example_data:\n",
    "            prompt += json.dumps(example) + \"\\n\"\n",
    "        if self.real_data:\n",
    "            prompt += \"\\nAdditional real data for reference:\\n\"\n",
    "            for real in self.real_data:\n",
    "                prompt += json.dumps(real) + \"\\n\"\n",
    "        if self.feedback_history:\n",
    "            prompt += \"\\nPrevious feedback:\\n\"\n",
    "            prompt += \"\\n\".join(self.feedback_history[-3:])  # Include last 3 feedback items\n",
    "        prompt += \"\\nGenerate a single data point as a JSON object.\"\n",
    "        return prompt\n",
    "    \n",
    "    def _is_duplicate(self, new_data: Dict[str, Any]) -> bool:\n",
    "        # Check for duplicates in the generated data\n",
    "        for existing_data in self.generated_data:\n",
    "            if all(str(new_data.get(col)) == str(existing_data.get(col)) for col in self.columns):\n",
    "                return True\n",
    "        return False\n",
    "    \n",
    "    def _create_judge_criteria(self) -> str:\n",
    "        criteria = \"Evaluate the generated data based on the following relaxed criteria:\\n\"\n",
    "        criteria += \"1. Contains all required columns.\\n\"\n",
    "        criteria += \"2. Data types match the example data.\\n\"\n",
    "        criteria += \"3. Values are generally plausible and make sense.\\n\"\n",
    "        criteria += \"4. Avoids clear personal information like full names, addresses.\\n\"\n",
    "        criteria += \"5. Similar to example data patterns but not exact copies.\\n\"\n",
    "        criteria += \"Return a score between 0 and 1, where 1 is perfect.It is very important to only return score. do not add any description or feedback.\"\n",
    "        return criteria"
   ],
   "id": "3783de473dc6b457",
   "outputs": [],
   "execution_count": 10
  },
  {
   "metadata": {
    "ExecuteTime": {
     "end_time": "2024-09-18T16:08:34.075148Z",
     "start_time": "2024-09-18T16:08:34.064548Z"
    }
   },
   "cell_type": "code",
   "source": [
    "# Set up the generator\n",
    "columns = [\"name\", \"age\", \"occupation\"]\n",
    "example_data = [\n",
    "    {\"name\": \"Alice Johnson\", \"age\": 35, \"occupation\": \"Manager\"},\n",
    "    {\"name\": \"Bob Williams\", \"age\": 42, \"occupation\": \"Accountant\"}\n",
    "]\n",
    "\n",
    "generator = SyntheticDataGenerator(\n",
    "    generator_llm=indox,\n",
    "    judge_llm=nemotron,\n",
    "    columns=columns,\n",
    "    example_data=example_data\n",
    ")\n"
   ],
   "id": "6cc5f5785a2109fe",
   "outputs": [],
   "execution_count": 11
  },
  {
   "metadata": {
    "ExecuteTime": {
     "end_time": "2024-09-18T16:09:06.851767Z",
     "start_time": "2024-09-18T16:08:36.759727Z"
    }
   },
   "cell_type": "code",
   "source": [
    "# Generate data\n",
    "generated_data = generator.generate_data(num_samples=3)"
   ],
   "id": "ae599a029c38fa30",
   "outputs": [
    {
     "name": "stdout",
     "output_type": "stream",
     "text": [
      "Generated data for human review: {'name': 'Emma Garcia', 'age': 29, 'occupation': 'Software Engineer'}\n",
      "\n",
      "Please review this generated data point:\n",
      "name: Emma Garcia\n",
      "age: 29\n",
      "occupation: Software Engineer\n",
      "Feedback for generator: Generated data: {\"name\": \"Emma Garcia\", \"age\": 29, \"occupation\": \"Software Engineer\"}\n",
      "Score: 0.6\n",
      "Reason: Rejected by human feedback\n",
      "Generated data for human review: {'name': 'Evelyn Thompson', 'age': 51, 'occupation': 'Graphic Designer'}\n",
      "\n",
      "Please review this generated data point:\n",
      "name: Evelyn Thompson\n",
      "age: 51\n",
      "occupation: Graphic Designer\n",
      "Human accepted data point: {'name': 'Evelyn Thompson', 'age': 51, 'occupation': 'Graphic Designer'}\n",
      "Generated data for human review: {'name': 'Ming Zhao', 'age': 54, 'occupation': 'Civil Engineer'}\n",
      "\n",
      "Please review this generated data point:\n",
      "name: Ming Zhao\n",
      "age: 54\n",
      "occupation: Civil Engineer\n",
      "Human accepted data point: {'name': 'Ming Zhao', 'age': 54, 'occupation': 'Civil Engineer'}\n",
      "Generated data for human review: {'name': 'Michael Thompson', 'age': 54, 'occupation': 'Construction Foreman'}\n",
      "\n",
      "Please review this generated data point:\n",
      "name: Michael Thompson\n",
      "age: 54\n",
      "occupation: Construction Foreman\n",
      "Human accepted data point: {'name': 'Michael Thompson', 'age': 54, 'occupation': 'Construction Foreman'}\n"
     ]
    }
   ],
   "execution_count": 12
  },
  {
   "metadata": {
    "ExecuteTime": {
     "end_time": "2024-09-18T16:09:12.413Z",
     "start_time": "2024-09-18T16:09:12.393690Z"
    }
   },
   "cell_type": "code",
   "source": "generated_data",
   "id": "f5103a9a65a1ed6",
   "outputs": [
    {
     "data": {
      "text/plain": [
       "'name,age,occupation\\r\\nEvelyn Thompson,51,Graphic Designer\\r\\nMing Zhao,54,Civil Engineer\\r\\nMichael Thompson,54,Construction Foreman\\r\\n'"
      ]
     },
     "execution_count": 13,
     "metadata": {},
     "output_type": "execute_result"
    }
   ],
   "execution_count": 13
  },
  {
   "metadata": {
    "ExecuteTime": {
     "end_time": "2024-09-18T15:36:16.871087Z",
     "start_time": "2024-09-18T15:36:16.861233Z"
    }
   },
   "cell_type": "code",
   "source": [
    "# Print final generated data\n",
    "print(\"\\nFinal generated data:\")\n",
    "for data in generator.generated_data:\n",
    "    print(json.dumps(data, indent=2))"
   ],
   "id": "98a38b7372b256e9",
   "outputs": [
    {
     "name": "stdout",
     "output_type": "stream",
     "text": [
      "\n",
      "Final generated data:\n",
      "{\n",
      "  \"name\": \"Charlie Davis\",\n",
      "  \"age\": 39,\n",
      "  \"occupation\": \"Software Engineer\"\n",
      "}\n",
      "{\n",
      "  \"name\": \"Charlie Davis\",\n",
      "  \"age\": 39,\n",
      "  \"occupation\": \"Software Engineer\"\n",
      "}\n",
      "{\n",
      "  \"name\": \"Charlie Davis\",\n",
      "  \"age\": 39,\n",
      "  \"occupation\": \"Software Engineer\"\n",
      "}\n"
     ]
    }
   ],
   "execution_count": 10
  },
  {
   "metadata": {},
   "cell_type": "code",
   "outputs": [],
   "execution_count": null,
   "source": "",
   "id": "6b86a47d0ab11cd9"
  }
 ],
 "metadata": {
  "kernelspec": {
   "display_name": "Python 3",
   "language": "python",
   "name": "python3"
  },
  "language_info": {
   "codemirror_mode": {
    "name": "ipython",
    "version": 2
   },
   "file_extension": ".py",
   "mimetype": "text/x-python",
   "name": "python",
   "nbconvert_exporter": "python",
   "pygments_lexer": "ipython2",
   "version": "2.7.6"
  }
 },
 "nbformat": 4,
 "nbformat_minor": 5
}
